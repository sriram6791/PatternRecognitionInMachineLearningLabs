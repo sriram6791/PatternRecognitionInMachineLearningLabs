{
 "cells": [
  {
   "cell_type": "markdown",
   "metadata": {},
   "source": [
    "#### PRML lab-1<br>Numpy\n"
   ]
  },
  {
   "cell_type": "markdown",
   "metadata": {},
   "source": [
    "### Roll:CS22B2020  <br>                     Name : G.Sriram"
   ]
  },
  {
   "cell_type": "code",
   "execution_count": 1,
   "metadata": {},
   "outputs": [],
   "source": [
    "import numpy as np"
   ]
  },
  {
   "cell_type": "markdown",
   "metadata": {},
   "source": [
    "i) Array Creation and Basic Operations <br>\n",
    "a) Create a 1D array of numbers from 0 to 19 using np.arange(). <br>\n",
    "b) Reshape this array into a 4x5 2D array.<br>\n",
    " c) Create a 3x3 array of all zeros, and another 3x3 array of all ones. <br>\n",
    "d) Generate a 1D array of 10 evenly spaced numbers between 1 and 100 using np.linspace().\n"
   ]
  },
  {
   "cell_type": "code",
   "execution_count": 2,
   "metadata": {},
   "outputs": [
    {
     "data": {
      "text/plain": [
       "array([ 0,  1,  2,  3,  4,  5,  6,  7,  8,  9, 10, 11, 12, 13, 14, 15, 16,\n",
       "       17, 18, 19])"
      ]
     },
     "execution_count": 2,
     "metadata": {},
     "output_type": "execute_result"
    }
   ],
   "source": [
    "# Question -1\n",
    "# i)\n",
    "oneD_array = np.arange(0,20)\n",
    "oneD_array"
   ]
  },
  {
   "cell_type": "code",
   "execution_count": 4,
   "metadata": {},
   "outputs": [
    {
     "data": {
      "text/plain": [
       "array([[ 0,  1,  2,  3,  4],\n",
       "       [ 5,  6,  7,  8,  9],\n",
       "       [10, 11, 12, 13, 14],\n",
       "       [15, 16, 17, 18, 19]])"
      ]
     },
     "execution_count": 4,
     "metadata": {},
     "output_type": "execute_result"
    }
   ],
   "source": [
    "oneD_array = oneD_array.reshape(4,5)\n",
    "oneD_array"
   ]
  },
  {
   "cell_type": "code",
   "execution_count": 5,
   "metadata": {},
   "outputs": [
    {
     "data": {
      "text/plain": [
       "(4, 5)"
      ]
     },
     "execution_count": 5,
     "metadata": {},
     "output_type": "execute_result"
    }
   ],
   "source": [
    "oneD_array.shape"
   ]
  },
  {
   "cell_type": "code",
   "execution_count": 6,
   "metadata": {},
   "outputs": [
    {
     "data": {
      "text/plain": [
       "array([[0., 0., 0.],\n",
       "       [0., 0., 0.],\n",
       "       [0., 0., 0.]])"
      ]
     },
     "execution_count": 6,
     "metadata": {},
     "output_type": "execute_result"
    }
   ],
   "source": [
    "zeros = np.zeros((3,3))\n",
    "zeros"
   ]
  },
  {
   "cell_type": "code",
   "execution_count": 7,
   "metadata": {},
   "outputs": [
    {
     "data": {
      "text/plain": [
       "array([[1., 1., 1.],\n",
       "       [1., 1., 1.],\n",
       "       [1., 1., 1.]])"
      ]
     },
     "execution_count": 7,
     "metadata": {},
     "output_type": "execute_result"
    }
   ],
   "source": [
    "ones = np.ones((3,3))\n",
    "ones"
   ]
  },
  {
   "cell_type": "code",
   "execution_count": 8,
   "metadata": {},
   "outputs": [
    {
     "data": {
      "text/plain": [
       "array([  1.,  12.,  23.,  34.,  45.,  56.,  67.,  78.,  89., 100.])"
      ]
     },
     "execution_count": 8,
     "metadata": {},
     "output_type": "execute_result"
    }
   ],
   "source": [
    "np.linspace(1,100,10)"
   ]
  },
  {
   "cell_type": "markdown",
   "metadata": {},
   "source": [
    "ii) Indexing, Slicing, and Iterating <br>\n",
    "a) From the 4x5 array created in 1b, extract the following:<br>\n",
    "The element at position (2,3)<br>\n",
    "The second row<br>\n",
    "The last column<br>\n",
    "b) Reverse the order of elements in the second row.<br> \n",
    "      c) Create a 3x3 array with random integers between 1 and 100, then find          all elements greater than 50.<br>\n",
    "\n"
   ]
  },
  {
   "cell_type": "code",
   "execution_count": 13,
   "metadata": {},
   "outputs": [
    {
     "data": {
      "text/plain": [
       "13"
      ]
     },
     "execution_count": 13,
     "metadata": {},
     "output_type": "execute_result"
    }
   ],
   "source": [
    "# ii)\n",
    "oneD_array[2][3]"
   ]
  },
  {
   "cell_type": "code",
   "execution_count": 14,
   "metadata": {},
   "outputs": [
    {
     "data": {
      "text/plain": [
       "array([5, 6, 7, 8, 9])"
      ]
     },
     "execution_count": 14,
     "metadata": {},
     "output_type": "execute_result"
    }
   ],
   "source": [
    "oneD_array[1]"
   ]
  },
  {
   "cell_type": "code",
   "execution_count": 16,
   "metadata": {},
   "outputs": [
    {
     "data": {
      "text/plain": [
       "array([ 4,  9, 14, 19])"
      ]
     },
     "execution_count": 16,
     "metadata": {},
     "output_type": "execute_result"
    }
   ],
   "source": [
    "oneD_array[:,-1]"
   ]
  },
  {
   "cell_type": "code",
   "execution_count": 17,
   "metadata": {},
   "outputs": [
    {
     "data": {
      "text/plain": [
       "array([9, 8, 7, 6, 5])"
      ]
     },
     "execution_count": 17,
     "metadata": {},
     "output_type": "execute_result"
    }
   ],
   "source": [
    "oneD_array[1,:][::-1]"
   ]
  },
  {
   "cell_type": "code",
   "execution_count": 27,
   "metadata": {},
   "outputs": [
    {
     "data": {
      "text/plain": [
       "array([34, 92, 15, 96, 62, 39, 67, 27, 57, 96, 47, 18, 50, 93, 16, 81, 75,\n",
       "       66, 79, 33, 61, 60, 70, 67, 41, 19, 26, 28, 58, 45])"
      ]
     },
     "execution_count": 27,
     "metadata": {},
     "output_type": "execute_result"
    }
   ],
   "source": [
    "array = np.random.randint(1,100,30)\n",
    "array"
   ]
  },
  {
   "cell_type": "code",
   "execution_count": 28,
   "metadata": {},
   "outputs": [
    {
     "data": {
      "text/plain": [
       "array([92, 96, 62, 67, 57, 96, 93, 81, 75, 66, 79, 61, 60, 70, 67, 58])"
      ]
     },
     "execution_count": 28,
     "metadata": {},
     "output_type": "execute_result"
    }
   ],
   "source": [
    "array[array>50]"
   ]
  },
  {
   "cell_type": "markdown",
   "metadata": {},
   "source": [
    "iii) Conditional Statements and Boolean Operations <br>a) Create a 5x5 array of random integers between 0 and 100. <br>b) Create a boolean mask for elements between 30 and 70 (inclusive). <br>c) Use this mask to replace all elements outside this range with the value -1.<br>\n"
   ]
  },
  {
   "cell_type": "code",
   "execution_count": 14,
   "metadata": {},
   "outputs": [
    {
     "data": {
      "text/plain": [
       "array([[73, 46, 39, 85, 24],\n",
       "       [14, 96, 62, 79, 86],\n",
       "       [20, 27, 58, 41, 88],\n",
       "       [59, 66, 64, 76, 60],\n",
       "       [84, 42, 99, 33,  2]])"
      ]
     },
     "execution_count": 14,
     "metadata": {},
     "output_type": "execute_result"
    }
   ],
   "source": [
    "random_arr = np.random.randint(0,100,(5,5))\n",
    "random_arr"
   ]
  },
  {
   "cell_type": "code",
   "execution_count": 15,
   "metadata": {},
   "outputs": [
    {
     "data": {
      "text/plain": [
       "array([46, 39, 62, 58, 41, 59, 66, 64, 60, 42, 33])"
      ]
     },
     "execution_count": 15,
     "metadata": {},
     "output_type": "execute_result"
    }
   ],
   "source": [
    "random_arr_bool = (random_arr<70) & (random_arr>30)\n",
    "random_arr[random_arr_bool]"
   ]
  },
  {
   "cell_type": "code",
   "execution_count": 16,
   "metadata": {},
   "outputs": [
    {
     "data": {
      "text/plain": [
       "array([[73, -1, -1, 85, 24],\n",
       "       [14, 96, -1, 79, 86],\n",
       "       [20, 27, -1, -1, 88],\n",
       "       [-1, -1, -1, 76, -1],\n",
       "       [84, -1, 99, -1,  2]])"
      ]
     },
     "execution_count": 16,
     "metadata": {},
     "output_type": "execute_result"
    }
   ],
   "source": [
    "random_arr[random_arr_bool] = -1\n",
    "random_arr"
   ]
  },
  {
   "cell_type": "markdown",
   "metadata": {},
   "source": [
    "iv) Basic Mathematical Operations <br>\n",
    "a) Create two 3x3 arrays with random integers between 1 and 10. <br>\n",
    "b) Perform element-wise addition, subtraction, multiplication, and division on these arrays. <br>\n",
    "c) Calculate the dot product of these two arrays.\n",
    "<br>"
   ]
  },
  {
   "cell_type": "code",
   "execution_count": 6,
   "metadata": {},
   "outputs": [
    {
     "data": {
      "text/plain": [
       "array([[6, 2, 8],\n",
       "       [7, 7, 8],\n",
       "       [5, 7, 6]])"
      ]
     },
     "execution_count": 6,
     "metadata": {},
     "output_type": "execute_result"
    }
   ],
   "source": [
    "arr1 = np.random.randint(1,10,(3,3))\n",
    "arr1"
   ]
  },
  {
   "cell_type": "code",
   "execution_count": 7,
   "metadata": {},
   "outputs": [
    {
     "data": {
      "text/plain": [
       "array([[9, 7, 7],\n",
       "       [7, 4, 6],\n",
       "       [9, 4, 5]])"
      ]
     },
     "execution_count": 7,
     "metadata": {},
     "output_type": "execute_result"
    }
   ],
   "source": [
    "arr2 = np.random.randint(1,10,(3,3))\n",
    "arr2"
   ]
  },
  {
   "cell_type": "code",
   "execution_count": 8,
   "metadata": {},
   "outputs": [
    {
     "data": {
      "text/plain": [
       "array([[15,  9, 15],\n",
       "       [14, 11, 14],\n",
       "       [14, 11, 11]])"
      ]
     },
     "execution_count": 8,
     "metadata": {},
     "output_type": "execute_result"
    }
   ],
   "source": [
    "arr1 + arr2"
   ]
  },
  {
   "cell_type": "code",
   "execution_count": 9,
   "metadata": {},
   "outputs": [
    {
     "data": {
      "text/plain": [
       "array([[-3, -5,  1],\n",
       "       [ 0,  3,  2],\n",
       "       [-4,  3,  1]])"
      ]
     },
     "execution_count": 9,
     "metadata": {},
     "output_type": "execute_result"
    }
   ],
   "source": [
    "arr1 - arr2"
   ]
  },
  {
   "cell_type": "code",
   "execution_count": 10,
   "metadata": {},
   "outputs": [
    {
     "data": {
      "text/plain": [
       "array([[54, 14, 56],\n",
       "       [49, 28, 48],\n",
       "       [45, 28, 30]])"
      ]
     },
     "execution_count": 10,
     "metadata": {},
     "output_type": "execute_result"
    }
   ],
   "source": [
    "arr1 * arr2"
   ]
  },
  {
   "cell_type": "code",
   "execution_count": 11,
   "metadata": {},
   "outputs": [
    {
     "data": {
      "text/plain": [
       "array([[0.66666667, 0.28571429, 1.14285714],\n",
       "       [1.        , 1.75      , 1.33333333],\n",
       "       [0.55555556, 1.75      , 1.2       ]])"
      ]
     },
     "execution_count": 11,
     "metadata": {},
     "output_type": "execute_result"
    }
   ],
   "source": [
    "arr1 / arr2"
   ]
  },
  {
   "cell_type": "code",
   "execution_count": 12,
   "metadata": {},
   "outputs": [
    {
     "data": {
      "text/plain": [
       "array([[140,  82,  94],\n",
       "       [184, 109, 131],\n",
       "       [148,  87, 107]])"
      ]
     },
     "execution_count": 12,
     "metadata": {},
     "output_type": "execute_result"
    }
   ],
   "source": [
    "np.dot(arr1,arr2)"
   ]
  },
  {
   "cell_type": "markdown",
   "metadata": {},
   "source": [
    "v) Universal Functions<br> a) Using the array from task 3a, calculate:<br>\n",
    "The mean of the entire array<br>\n",
    "The standard deviation of each row<br>\n",
    "The variance of each column<br>\n",
    "The median of the entire array<br>\n",
    "The minimum and maximum values of each row<br>\n"
   ]
  },
  {
   "cell_type": "code",
   "execution_count": 18,
   "metadata": {},
   "outputs": [
    {
     "data": {
      "text/plain": [
       "array([[61, 73, 73, 94, 92],\n",
       "       [98, 68, 36, 20, 33],\n",
       "       [38, 48, 77, 33, 36],\n",
       "       [10, 86, 20, 13,  3],\n",
       "       [75, 36, 28, 38, 17]])"
      ]
     },
     "execution_count": 18,
     "metadata": {},
     "output_type": "execute_result"
    }
   ],
   "source": [
    "random_arr = np.random.randint(0,100,(5,5))\n",
    "random_arr"
   ]
  },
  {
   "cell_type": "code",
   "execution_count": 19,
   "metadata": {},
   "outputs": [
    {
     "data": {
      "text/plain": [
       "48.24"
      ]
     },
     "execution_count": 19,
     "metadata": {},
     "output_type": "execute_result"
    }
   ],
   "source": [
    "random_arr.mean()"
   ]
  },
  {
   "cell_type": "code",
   "execution_count": 20,
   "metadata": {},
   "outputs": [
    {
     "data": {
      "text/plain": [
       "array([12.56343902, 28.31254139, 16.10714127, 30.29587431, 19.54891301])"
      ]
     },
     "execution_count": 20,
     "metadata": {},
     "output_type": "execute_result"
    }
   ],
   "source": [
    "random_arr.std(axis=1)"
   ]
  },
  {
   "cell_type": "code",
   "execution_count": 58,
   "metadata": {},
   "outputs": [
    {
     "data": {
      "text/plain": [
       "array([800.24, 112.24, 610.4 , 271.6 , 467.84])"
      ]
     },
     "execution_count": 58,
     "metadata": {},
     "output_type": "execute_result"
    }
   ],
   "source": [
    "random_arr.var(axis=0)"
   ]
  },
  {
   "cell_type": "code",
   "execution_count": 59,
   "metadata": {},
   "outputs": [
    {
     "data": {
      "text/plain": [
       "47.0"
      ]
     },
     "execution_count": 59,
     "metadata": {},
     "output_type": "execute_result"
    }
   ],
   "source": [
    "np.median(random_arr)"
   ]
  },
  {
   "cell_type": "code",
   "execution_count": 62,
   "metadata": {},
   "outputs": [
    {
     "data": {
      "text/plain": [
       "array([24, 32, 35,  4, 23])"
      ]
     },
     "execution_count": 62,
     "metadata": {},
     "output_type": "execute_result"
    }
   ],
   "source": [
    "np.min(random_arr,axis=0) #col"
   ]
  },
  {
   "cell_type": "code",
   "execution_count": 63,
   "metadata": {},
   "outputs": [
    {
     "data": {
      "text/plain": [
       "array([ 4, 31,  7, 32, 28])"
      ]
     },
     "execution_count": 63,
     "metadata": {},
     "output_type": "execute_result"
    }
   ],
   "source": [
    "np.min(random_arr,axis=1) #row"
   ]
  },
  {
   "cell_type": "code",
   "execution_count": 64,
   "metadata": {},
   "outputs": [
    {
     "data": {
      "text/plain": [
       "array([98, 61, 99, 44, 81])"
      ]
     },
     "execution_count": 64,
     "metadata": {},
     "output_type": "execute_result"
    }
   ],
   "source": [
    "np.max(random_arr,axis=0) #col"
   ]
  },
  {
   "cell_type": "code",
   "execution_count": 65,
   "metadata": {},
   "outputs": [
    {
     "data": {
      "text/plain": [
       "array([ 4, 31,  7, 32, 28])"
      ]
     },
     "execution_count": 65,
     "metadata": {},
     "output_type": "execute_result"
    }
   ],
   "source": [
    "np.min(random_arr,axis=1) #row"
   ]
  },
  {
   "cell_type": "markdown",
   "metadata": {},
   "source": [
    "vi) Shape Manipulation <br>\n",
    "a) Create a 1D array of 24 random integers between 0 and 100.<br>\n",
    " b) Reshape this array into a 4x6 2D array. <br>\n",
    "c) Flatten this 2D array back to 1D. <br>\n",
    "d) Transpose the 2D array. <br>\n",
    "e) Stack two 3x3 arrays vertically, then stack the result with another 3x3 array horizontally.\n"
   ]
  },
  {
   "cell_type": "code",
   "execution_count": 66,
   "metadata": {},
   "outputs": [],
   "source": [
    "Random_arr = np.random.randint(0,100,24)"
   ]
  },
  {
   "cell_type": "code",
   "execution_count": 67,
   "metadata": {},
   "outputs": [
    {
     "data": {
      "text/plain": [
       "array([88, 50, 57, 19, 32,  2, 46, 22, 93, 75, 72, 59, 39, 38, 93, 31, 22,\n",
       "       51, 34,  0, 63, 49, 41, 99])"
      ]
     },
     "execution_count": 67,
     "metadata": {},
     "output_type": "execute_result"
    }
   ],
   "source": [
    "Random_arr"
   ]
  },
  {
   "cell_type": "code",
   "execution_count": 68,
   "metadata": {},
   "outputs": [
    {
     "data": {
      "text/plain": [
       "array([[88, 50, 57, 19, 32,  2],\n",
       "       [46, 22, 93, 75, 72, 59],\n",
       "       [39, 38, 93, 31, 22, 51],\n",
       "       [34,  0, 63, 49, 41, 99]])"
      ]
     },
     "execution_count": 68,
     "metadata": {},
     "output_type": "execute_result"
    }
   ],
   "source": [
    "Random_arr_2d= Random_arr.reshape(4,6)\n",
    "Random_arr_2d"
   ]
  },
  {
   "cell_type": "code",
   "execution_count": 69,
   "metadata": {},
   "outputs": [
    {
     "data": {
      "text/plain": [
       "array([88, 50, 57, 19, 32,  2, 46, 22, 93, 75, 72, 59, 39, 38, 93, 31, 22,\n",
       "       51, 34,  0, 63, 49, 41, 99])"
      ]
     },
     "execution_count": 69,
     "metadata": {},
     "output_type": "execute_result"
    }
   ],
   "source": [
    "Random_arr = Random_arr.reshape(-1,)\n",
    "\n",
    "Random_arr"
   ]
  },
  {
   "cell_type": "code",
   "execution_count": 70,
   "metadata": {},
   "outputs": [
    {
     "data": {
      "text/plain": [
       "array([[88, 46, 39, 34],\n",
       "       [50, 22, 38,  0],\n",
       "       [57, 93, 93, 63],\n",
       "       [19, 75, 31, 49],\n",
       "       [32, 72, 22, 41],\n",
       "       [ 2, 59, 51, 99]])"
      ]
     },
     "execution_count": 70,
     "metadata": {},
     "output_type": "execute_result"
    }
   ],
   "source": [
    "Tran = Random_arr_2d.T\n",
    "Tran"
   ]
  },
  {
   "cell_type": "code",
   "execution_count": 71,
   "metadata": {},
   "outputs": [
    {
     "name": "stdout",
     "output_type": "stream",
     "text": [
      "[[18 46 42]\n",
      " [29  4 23]\n",
      " [22 19  8]]\n",
      "[[ 4 43 14]\n",
      " [40 31 43]\n",
      " [ 9 40 27]]\n"
     ]
    }
   ],
   "source": [
    "Arr1 = np.random.randint(1,50,(3,3))\n",
    "Arr2 = np.random.randint(1,50,(3,3))\n",
    "print(Arr1)\n",
    "print(Arr2)"
   ]
  },
  {
   "cell_type": "code",
   "execution_count": 72,
   "metadata": {},
   "outputs": [
    {
     "data": {
      "text/plain": [
       "array([[18, 46, 42],\n",
       "       [29,  4, 23],\n",
       "       [22, 19,  8],\n",
       "       [ 4, 43, 14],\n",
       "       [40, 31, 43],\n",
       "       [ 9, 40, 27]])"
      ]
     },
     "execution_count": 72,
     "metadata": {},
     "output_type": "execute_result"
    }
   ],
   "source": [
    "Vstack = np.vstack((Arr1,Arr2))\n",
    "Vstack"
   ]
  },
  {
   "cell_type": "code",
   "execution_count": 73,
   "metadata": {},
   "outputs": [
    {
     "data": {
      "text/plain": [
       "array([[18, 46, 42, 18, 46, 42],\n",
       "       [29,  4, 23, 29,  4, 23],\n",
       "       [22, 19,  8, 22, 19,  8],\n",
       "       [ 4, 43, 14,  4, 43, 14],\n",
       "       [40, 31, 43, 40, 31, 43],\n",
       "       [ 9, 40, 27,  9, 40, 27]])"
      ]
     },
     "execution_count": 73,
     "metadata": {},
     "output_type": "execute_result"
    }
   ],
   "source": [
    "Hstack = np.hstack((Vstack,Vstack))\n",
    "Hstack"
   ]
  },
  {
   "cell_type": "markdown",
   "metadata": {},
   "source": [
    "vii) Copy Methods <br>\n",
    "a) Create a 3x3 array of random integers. <br>\n",
    "b) Create three copies of this array using direct assignment, view(), and copy().<br> c) Modify an element in each copy and explain the differences in how the original array is affected.\n"
   ]
  },
  {
   "cell_type": "code",
   "execution_count": 74,
   "metadata": {},
   "outputs": [
    {
     "data": {
      "text/plain": [
       "array([[25, 24, 30],\n",
       "       [25,  4, 31],\n",
       "       [29,  9, 24]])"
      ]
     },
     "execution_count": 74,
     "metadata": {},
     "output_type": "execute_result"
    }
   ],
   "source": [
    "Random_intarr = np.random.randint(1,50,(3,3))\n",
    "Random_intarr"
   ]
  },
  {
   "cell_type": "code",
   "execution_count": 75,
   "metadata": {},
   "outputs": [
    {
     "name": "stdout",
     "output_type": "stream",
     "text": [
      "[[25 24 30]\n",
      " [25  4 31]\n",
      " [29  9 24]]\n",
      "[[25 24 30]\n",
      " [25  4 31]\n",
      " [29  9 24]]\n",
      "[[25 24 30]\n",
      " [25  4 31]\n",
      " [29  9 24]]\n"
     ]
    }
   ],
   "source": [
    "Copy1 = Random_intarr\n",
    "Copy2 = Random_intarr.view()\n",
    "Copy3 = Random_intarr.copy()\n",
    "print(Copy1)\n",
    "print(Copy2)\n",
    "print(Copy3)"
   ]
  },
  {
   "cell_type": "code",
   "execution_count": 76,
   "metadata": {},
   "outputs": [],
   "source": [
    "Copy1[0,0] = 100\n",
    "Copy2[0,0] = 200\n",
    "Copy3[0,0] = 300"
   ]
  },
  {
   "cell_type": "code",
   "execution_count": 77,
   "metadata": {},
   "outputs": [
    {
     "name": "stdout",
     "output_type": "stream",
     "text": [
      "Original Array : [[200  24  30]\n",
      " [ 25   4  31]\n",
      " [ 29   9  24]]\n",
      "Copy1 :  [[200  24  30]\n",
      " [ 25   4  31]\n",
      " [ 29   9  24]]\n",
      "Copy2 :  [[200  24  30]\n",
      " [ 25   4  31]\n",
      " [ 29   9  24]]\n",
      "Copy3 :  [[300  24  30]\n",
      " [ 25   4  31]\n",
      " [ 29   9  24]]\n"
     ]
    }
   ],
   "source": [
    "print(\"Original Array :\",Random_intarr)\n",
    "print(\"Copy1 : \",Copy1)\n",
    "print(\"Copy2 : \",Copy2)\n",
    "print(\"Copy3 : \",Copy3)"
   ]
  },
  {
   "cell_type": "markdown",
   "metadata": {},
   "source": [
    "Explanation:Direct Assignment (arr_assigned):This just creates a new reference to the same array. Any modifications made to arr_assigned will directly affect the original array since they both point to the same memory location.View (arr_view):A view() creates a shallow copy of the array. Changes made to this view will reflect in the original array because it shares the same data buffer. However, the view itself is a separate object, so it can have a different shape or stride, but the data is shared.Copy (arr_copy):A copy() creates a deep copy of the array. This means it creates an entirely new array in memory, and modifications to this new array do not affect the original array."
   ]
  },
  {
   "cell_type": "markdown",
   "metadata": {},
   "source": [
    "viii) Handling NULL Values<br>\n",
    " a) Create a 4x4 array of random floats between 0 and 1.<br> \n",
    "b) Replace some values with NaN (Not a Number). <br>\n",
    "c) Use np.isnan() to create a boolean mask identifying the NaN values. <br>\n",
    "d) Calculate the mean of the array, ignoring the NaN values.\n"
   ]
  },
  {
   "cell_type": "code",
   "execution_count": 78,
   "metadata": {},
   "outputs": [
    {
     "data": {
      "text/plain": [
       "array([[0.85791899, 0.96200303, 0.40431864, 0.01879566],\n",
       "       [0.60954407, 0.99990965, 0.3282568 , 0.2448239 ],\n",
       "       [0.38523431, 0.73303267, 0.95016665, 0.00111528],\n",
       "       [0.93063452, 0.70896823, 0.48005814, 0.4855251 ]])"
      ]
     },
     "execution_count": 78,
     "metadata": {},
     "output_type": "execute_result"
    }
   ],
   "source": [
    "Rand_float = np.random.rand(4,4)\n",
    "Rand_float"
   ]
  },
  {
   "cell_type": "code",
   "execution_count": 79,
   "metadata": {},
   "outputs": [
    {
     "data": {
      "text/plain": [
       "array([[0.85791899,        nan,        nan, 0.01879566],\n",
       "       [0.60954407,        nan, 0.3282568 , 0.2448239 ],\n",
       "       [       nan, 0.73303267, 0.95016665, 0.00111528],\n",
       "       [0.93063452, 0.70896823, 0.48005814, 0.4855251 ]])"
      ]
     },
     "execution_count": 79,
     "metadata": {},
     "output_type": "execute_result"
    }
   ],
   "source": [
    "Rand_float[0,1] = np.nan\n",
    "Rand_float[0,2] = np.nan\n",
    "Rand_float[1,1] = np.nan\n",
    "Rand_float[2,0] = np.nan\n",
    "Rand_float"
   ]
  },
  {
   "cell_type": "code",
   "execution_count": 80,
   "metadata": {},
   "outputs": [
    {
     "data": {
      "text/plain": [
       "array([[False,  True,  True, False],\n",
       "       [False,  True, False, False],\n",
       "       [ True, False, False, False],\n",
       "       [False, False, False, False]])"
      ]
     },
     "execution_count": 80,
     "metadata": {},
     "output_type": "execute_result"
    }
   ],
   "source": [
    "Mask = np.isnan(Rand_float)\n",
    "Mask"
   ]
  },
  {
   "cell_type": "code",
   "execution_count": 81,
   "metadata": {},
   "outputs": [
    {
     "data": {
      "text/plain": [
       "0.5290700011279178"
      ]
     },
     "execution_count": 81,
     "metadata": {},
     "output_type": "execute_result"
    }
   ],
   "source": [
    "Mean = np.nanmean(Rand_float)\n",
    "Mean"
   ]
  },
  {
   "cell_type": "markdown",
   "metadata": {},
   "source": [
    "ix) Advanced Challenge<br>\n",
    " a) Create a 10x10 array of random integers between 1 and 100. <br>\n",
    "b) Find the indices of the 5 largest values in the entire array.<br>\n",
    " c) Calculate the running average along each row (hint: look into np.cumsum()).<br>\n",
    " d) Normalize each column of the array so that it sums to 1.\n"
   ]
  },
  {
   "cell_type": "code",
   "execution_count": 82,
   "metadata": {},
   "outputs": [
    {
     "data": {
      "text/plain": [
       "array([[32, 56,  5, 84, 63, 24, 54, 73, 59, 67],\n",
       "       [95, 64, 60, 40, 63, 65, 99, 60, 36, 25],\n",
       "       [95, 13, 92, 61, 56, 66, 44, 60, 68, 22],\n",
       "       [93, 66, 89, 56, 33, 23, 39, 52, 71, 68],\n",
       "       [55,  5, 25, 81, 41, 31, 58, 89, 40, 69],\n",
       "       [35,  2, 46, 33, 23, 27, 67, 29,  9, 87],\n",
       "       [51, 53, 12,  2, 66, 28, 24, 40, 23, 10],\n",
       "       [23, 49, 27, 88, 67, 45, 16, 85, 82, 85],\n",
       "       [ 6, 14, 15, 87, 66, 23, 64, 24, 58, 54],\n",
       "       [17,  7, 65, 56, 35, 14, 37, 79, 24, 13]])"
      ]
     },
     "execution_count": 82,
     "metadata": {},
     "output_type": "execute_result"
    }
   ],
   "source": [
    "Rand_arr_int = np.random.randint(1,100,(10,10))\n",
    "Rand_arr_int"
   ]
  },
  {
   "cell_type": "code",
   "execution_count": 84,
   "metadata": {},
   "outputs": [
    {
     "name": "stdout",
     "output_type": "stream",
     "text": [
      "\n",
      "Indices of the 5 largest values in the array (row, column):\n",
      " [(2, 2), (3, 0), (1, 0), (2, 0), (1, 6)]\n"
     ]
    }
   ],
   "source": [
    "flat_array = Rand_arr_int.flatten()\n",
    "sorted_indices = np.argsort(flat_array)[-5:]  # Get the last 5 indices of the sorted array (largest values)\n",
    "largest_indices = np.unravel_index(sorted_indices, Rand_arr_int.shape)  # Convert back to 2D indices\n",
    "print(\"\\nIndices of the 5 largest values in the array (row, column):\\n\", list(zip(largest_indices[0], largest_indices[1])))"
   ]
  },
  {
   "cell_type": "code",
   "execution_count": 87,
   "metadata": {},
   "outputs": [
    {
     "data": {
      "text/plain": [
       "array([[32.        , 44.        , 31.        , 44.25      , 48.        ,\n",
       "        44.        , 45.42857143, 48.875     , 50.        , 51.7       ],\n",
       "       [95.        , 79.5       , 73.        , 64.75      , 64.4       ,\n",
       "        64.5       , 69.42857143, 68.25      , 64.66666667, 60.7       ],\n",
       "       [95.        , 54.        , 66.66666667, 65.25      , 63.4       ,\n",
       "        63.83333333, 61.        , 60.875     , 61.66666667, 57.7       ],\n",
       "       [93.        , 79.5       , 82.66666667, 76.        , 67.4       ,\n",
       "        60.        , 57.        , 56.375     , 58.        , 59.        ],\n",
       "       [55.        , 30.        , 28.33333333, 41.5       , 41.4       ,\n",
       "        39.66666667, 42.28571429, 48.125     , 47.22222222, 49.4       ],\n",
       "       [35.        , 18.5       , 27.66666667, 29.        , 27.8       ,\n",
       "        27.66666667, 33.28571429, 32.75      , 30.11111111, 35.8       ],\n",
       "       [51.        , 52.        , 38.66666667, 29.5       , 36.8       ,\n",
       "        35.33333333, 33.71428571, 34.5       , 33.22222222, 30.9       ],\n",
       "       [23.        , 36.        , 33.        , 46.75      , 50.8       ,\n",
       "        49.83333333, 45.        , 50.        , 53.55555556, 56.7       ],\n",
       "       [ 6.        , 10.        , 11.66666667, 30.5       , 37.6       ,\n",
       "        35.16666667, 39.28571429, 37.375     , 39.66666667, 41.1       ],\n",
       "       [17.        , 12.        , 29.66666667, 36.25      , 36.        ,\n",
       "        32.33333333, 33.        , 38.75      , 37.11111111, 34.7       ]])"
      ]
     },
     "execution_count": 87,
     "metadata": {},
     "output_type": "execute_result"
    }
   ],
   "source": [
    "running_avg = np.cumsum(Rand_arr_int, axis=1) / np.arange(1, Rand_arr_int.shape[1] + 1)\n",
    "running_avg"
   ]
  },
  {
   "cell_type": "code",
   "execution_count": 88,
   "metadata": {},
   "outputs": [
    {
     "name": "stdout",
     "output_type": "stream",
     "text": [
      "\n",
      "Column-Normalized Array (each column sums to 1):\n",
      " [0.0210136  0.05686032 0.0092707  0.05933251 0.03831891 0.02410383\n",
      " 0.04140915 0.01668727 0.03522868 0.05933251 0.02904821 0.01112485\n",
      " 0.03090235 0.05747837 0.00988875 0.0500618  0.04635352 0.0407911\n",
      " 0.04882571 0.02039555 0.03770087 0.03708282 0.04326329 0.04140915\n",
      " 0.02533993 0.01174289 0.01606922 0.01730532 0.03584672 0.02781211]\n"
     ]
    },
    {
     "ename": "",
     "evalue": "",
     "output_type": "error",
     "traceback": [
      "\u001b[1;31mThe Kernel crashed while executing code in the current cell or a previous cell. \n",
      "\u001b[1;31mPlease review the code in the cell(s) to identify a possible cause of the failure. \n",
      "\u001b[1;31mClick <a href='https://aka.ms/vscodeJupyterKernelCrash'>here</a> for more info. \n",
      "\u001b[1;31mView Jupyter <a href='command:jupyter.viewOutput'>log</a> for further details."
     ]
    }
   ],
   "source": [
    "column_sums = np.sum(array, axis=0)\n",
    "normalized_array = array / column_sums  # Broadcasting to normalize each column\n",
    "print(\"\\nColumn-Normalized Array (each column sums to 1):\\n\", normalized_array)\n"
   ]
  },
  {
   "cell_type": "markdown",
   "metadata": {},
   "source": [
    "\n",
    " Question 2<br>\n",
    "Write a python program to perform matrix operations on an M x N matrix and solve a system of linear equations. Use inbuilt functions to implement the operations. Get two matrices from the user. The program should support the following Menus,\n",
    "<br><br>\n",
    "Matrix Addition<br>\n",
    "Matrix Subtraction<br>\n",
    "Scalar Matrix Multiplication<br>\n",
    "Elementwise Matrix <br>\n",
    "Matrix Multiplication<br>\n",
    "Matrix Transpose<br>\n",
    "Trace of a Matrix<br>\n",
    "Solve System of Linear Equations<br>\n",
    "Determinant<br>\n",
    " Inverse<br>\n",
    " Eigen Value and Eigen Vector<br>\n",
    " Exit\n"
   ]
  },
  {
   "cell_type": "code",
   "execution_count": 24,
   "metadata": {},
   "outputs": [
    {
     "name": "stdout",
     "output_type": "stream",
     "text": [
      "Enter the values for a 2x2 matrix:\n",
      "\n",
      "--- Matrix Operations Menu ---\n",
      "1. Matrix Addition\n",
      "2. Matrix Subtraction\n",
      "3. Scalar Matrix Multiplication\n",
      "4. Element-wise Matrix Multiplication\n",
      "5. Matrix Multiplication\n",
      "6. Matrix Transpose\n",
      "7. Trace of a Matrix\n",
      "8. Solve System of Linear Equations\n",
      "9. Determinant\n",
      "10. Inverse\n",
      "11. Eigenvalue and Eigenvector\n",
      "12. Exit\n",
      "Exiting the program.\n"
     ]
    }
   ],
   "source": [
    "import numpy as np\n",
    "\n",
    "# Function to input matrix\n",
    "def input_matrix(rows, cols):\n",
    "    print(f\"Enter the values for a {rows}x{cols} matrix:\")\n",
    "    matrix = []\n",
    "    for i in range(rows):\n",
    "        row = list(map(float, input(f\"Enter values for row {i + 1} separated by space: \").split()))\n",
    "        if len(row) != cols:\n",
    "            raise ValueError(\"Number of columns entered doesn't match the expected column size.\")\n",
    "        matrix.append(row)\n",
    "    return np.array(matrix)\n",
    "\n",
    "# Function to display menu\n",
    "def display_menu():\n",
    "    print(\"\\n--- Matrix Operations Menu ---\")\n",
    "    print(\"1. Matrix Addition\")\n",
    "    print(\"2. Matrix Subtraction\")\n",
    "    print(\"3. Scalar Matrix Multiplication\")\n",
    "    print(\"4. Element-wise Matrix Multiplication\")\n",
    "    print(\"5. Matrix Multiplication\")\n",
    "    print(\"6. Matrix Transpose\")\n",
    "    print(\"7. Trace of a Matrix\")\n",
    "    print(\"8. Solve System of Linear Equations\")\n",
    "    print(\"9. Determinant\")\n",
    "    print(\"10. Inverse\")\n",
    "    print(\"11. Eigenvalue and Eigenvector\")\n",
    "    print(\"12. Exit\")\n",
    "\n",
    "# Start interaction\n",
    "rows = int(input(\"Enter the number of rows for Matrix A: \"))\n",
    "cols = int(input(\"Enter the number of columns for Matrix A: \"))\n",
    "matrix_a = input_matrix(rows, cols)\n",
    "\n",
    "while True:\n",
    "    display_menu()\n",
    "    choice = int(input(\"Enter your choice (1-12): \"))\n",
    "    \n",
    "    if choice == 1 or choice == 2 or choice == 4 or choice == 5:  # Operations requiring two matrices\n",
    "        rows_b = int(input(\"Enter the number of rows for Matrix B: \"))\n",
    "        cols_b = int(input(\"Enter the number of columns for Matrix B: \"))\n",
    "        matrix_b = input_matrix(rows_b, cols_b)\n",
    "        \n",
    "        if choice == 1:\n",
    "            # Matrix Addition\n",
    "            if matrix_a.shape == matrix_b.shape:\n",
    "                result = matrix_a + matrix_b\n",
    "                print(\"Matrix Addition Result:\\n\", result)\n",
    "            else:\n",
    "                print(\"Error: Matrices must have the same dimensions.\")\n",
    "                \n",
    "        elif choice == 2:\n",
    "            # Matrix Subtraction\n",
    "            if matrix_a.shape == matrix_b.shape:\n",
    "                result = matrix_a - matrix_b\n",
    "                print(\"Matrix Subtraction Result:\\n\", result)\n",
    "            else:\n",
    "                print(\"Error: Matrices must have the same dimensions.\")\n",
    "                \n",
    "        elif choice == 4:\n",
    "            # Element-wise Multiplication\n",
    "            if matrix_a.shape == matrix_b.shape:\n",
    "                result = matrix_a * matrix_b\n",
    "                print(\"Element-wise Multiplication Result:\\n\", result)\n",
    "            else:\n",
    "                print(\"Error: Matrices must have the same dimensions.\")\n",
    "                \n",
    "        elif choice == 5:\n",
    "            # Matrix Multiplication\n",
    "            if matrix_a.shape[1] == matrix_b.shape[0]:\n",
    "                result = np.dot(matrix_a, matrix_b)\n",
    "                print(\"Matrix Multiplication Result:\\n\", result)\n",
    "            else:\n",
    "                print(\"Error: Number of columns of Matrix A must equal the number of rows of Matrix B.\")\n",
    "                \n",
    "    elif choice == 3:\n",
    "        # Scalar Matrix Multiplication\n",
    "        scalar = float(input(\"Enter the scalar value: \"))\n",
    "        result = matrix_a * scalar\n",
    "        print(f\"Scalar Matrix Multiplication Result (Scalar = {scalar}):\\n\", result)\n",
    "        \n",
    "    elif choice == 6:\n",
    "        # Matrix Transpose\n",
    "        result = np.transpose(matrix_a)\n",
    "        print(\"Matrix Transpose Result:\\n\", result)\n",
    "        \n",
    "    elif choice == 7:\n",
    "        # Trace of a Matrix\n",
    "        if matrix_a.shape[0] == matrix_a.shape[1]:\n",
    "            result = np.trace(matrix_a)\n",
    "            print(\"Trace of Matrix A:\", result)\n",
    "        else:\n",
    "            print(\"Error: Matrix must be square.\")\n",
    "            \n",
    "    elif choice == 8:\n",
    "        # Solve System of Linear Equations\n",
    "        print(\"Enter the constants vector (b) for Ax = b system:\")\n",
    "        const_vector = input_matrix(rows, 1)\n",
    "        try:\n",
    "            result = np.linalg.solve(matrix_a, const_vector)\n",
    "            print(\"Solution to the system of linear equations:\\n\", result)\n",
    "        except np.linalg.LinAlgError as e:\n",
    "            print(\"Error:\", e)\n",
    "            \n",
    "    elif choice == 9:\n",
    "        # Determinant\n",
    "        if matrix_a.shape[0] == matrix_a.shape[1]:\n",
    "            result = np.linalg.det(matrix_a)\n",
    "            print(\"Determinant of Matrix A:\", result)\n",
    "        else:\n",
    "            print(\"Error: Matrix must be square.\")\n",
    "            \n",
    "    elif choice == 10:\n",
    "        # Inverse\n",
    "        if matrix_a.shape[0] == matrix_a.shape[1]:\n",
    "            try:\n",
    "                result = np.linalg.inv(matrix_a)\n",
    "                print(\"Inverse of Matrix A:\\n\", result)\n",
    "            except np.linalg.LinAlgError as e:\n",
    "                print(\"Error:\", e)\n",
    "        else:\n",
    "            print(\"Error: Matrix must be square.\")\n",
    "            \n",
    "    elif choice == 11:\n",
    "        # Eigenvalue and Eigenvector\n",
    "        if matrix_a.shape[0] == matrix_a.shape[1]:\n",
    "            eigenvalues, eigenvectors = np.linalg.eig(matrix_a)\n",
    "            print(\"Eigenvalues:\\n\", eigenvalues)\n",
    "            print(\"Eigenvectors:\\n\", eigenvectors)\n",
    "        else:\n",
    "            print(\"Error: Matrix must be square.\")\n",
    "            \n",
    "    elif choice == 12:\n",
    "        # Exit\n",
    "        print(\"Exiting the program.\")\n",
    "        break\n",
    "    \n",
    "    else:\n",
    "        print(\"Invalid choice. Please try again.\")\n"
   ]
  },
  {
   "cell_type": "markdown",
   "metadata": {},
   "source": [
    "Above Functions are written seperately (To know )"
   ]
  },
  {
   "cell_type": "code",
   "execution_count": 21,
   "metadata": {},
   "outputs": [],
   "source": [
    "import numpy as np"
   ]
  },
  {
   "cell_type": "code",
   "execution_count": 2,
   "metadata": {},
   "outputs": [
    {
     "data": {
      "text/plain": [
       "array([[83, 97, 40, 63],\n",
       "       [86,  8, 24,  4],\n",
       "       [76, 38,  3, 31],\n",
       "       [42, 71, 23, 33],\n",
       "       [13, 57, 81, 71],\n",
       "       [67, 61, 11, 76]])"
      ]
     },
     "execution_count": 2,
     "metadata": {},
     "output_type": "execute_result"
    }
   ],
   "source": [
    "M = 6\n",
    "N = 4\n",
    "arr1 = np.random.randint(1,100,(M,N))\n",
    "arr1"
   ]
  },
  {
   "cell_type": "code",
   "execution_count": 3,
   "metadata": {},
   "outputs": [
    {
     "data": {
      "text/plain": [
       "array([[33, 64, 88, 12],\n",
       "       [53, 38, 87, 60],\n",
       "       [87, 43, 63, 75],\n",
       "       [12, 25, 62, 96],\n",
       "       [76, 85, 76,  8],\n",
       "       [94, 24, 78, 76]])"
      ]
     },
     "execution_count": 3,
     "metadata": {},
     "output_type": "execute_result"
    }
   ],
   "source": [
    "arr2 = np.random.randint(1,100,(M,N))\n",
    "arr2"
   ]
  },
  {
   "cell_type": "code",
   "execution_count": 4,
   "metadata": {},
   "outputs": [
    {
     "data": {
      "text/plain": [
       "array([[116, 161, 128,  75],\n",
       "       [139,  46, 111,  64],\n",
       "       [163,  81,  66, 106],\n",
       "       [ 54,  96,  85, 129],\n",
       "       [ 89, 142, 157,  79],\n",
       "       [161,  85,  89, 152]])"
      ]
     },
     "execution_count": 4,
     "metadata": {},
     "output_type": "execute_result"
    }
   ],
   "source": [
    "add = np.add(arr1,arr2)\n",
    "add"
   ]
  },
  {
   "cell_type": "code",
   "execution_count": 5,
   "metadata": {},
   "outputs": [
    {
     "data": {
      "text/plain": [
       "array([[ 50,  33, -48,  51],\n",
       "       [ 33, -30, -63, -56],\n",
       "       [-11,  -5, -60, -44],\n",
       "       [ 30,  46, -39, -63],\n",
       "       [-63, -28,   5,  63],\n",
       "       [-27,  37, -67,   0]])"
      ]
     },
     "execution_count": 5,
     "metadata": {},
     "output_type": "execute_result"
    }
   ],
   "source": [
    "sub = np.subtract(arr1,arr2)\n",
    "sub"
   ]
  },
  {
   "cell_type": "code",
   "execution_count": 9,
   "metadata": {},
   "outputs": [
    {
     "data": {
      "text/plain": [
       "array([[166, 194,  80, 126],\n",
       "       [172,  16,  48,   8],\n",
       "       [152,  76,   6,  62],\n",
       "       [ 84, 142,  46,  66],\n",
       "       [ 26, 114, 162, 142],\n",
       "       [134, 122,  22, 152]])"
      ]
     },
     "execution_count": 9,
     "metadata": {},
     "output_type": "execute_result"
    }
   ],
   "source": [
    "scalar_mult = arr1 * 2\n",
    "scalar_mult"
   ]
  },
  {
   "cell_type": "code",
   "execution_count": 10,
   "metadata": {},
   "outputs": [
    {
     "data": {
      "text/plain": [
       "array([[2739, 6208, 3520,  756],\n",
       "       [4558,  304, 2088,  240],\n",
       "       [6612, 1634,  189, 2325],\n",
       "       [ 504, 1775, 1426, 3168],\n",
       "       [ 988, 4845, 6156,  568],\n",
       "       [6298, 1464,  858, 5776]])"
      ]
     },
     "execution_count": 10,
     "metadata": {},
     "output_type": "execute_result"
    }
   ],
   "source": [
    "elementwise = arr1 * arr2\n",
    "elementwise"
   ]
  },
  {
   "cell_type": "code",
   "execution_count": 11,
   "metadata": {},
   "outputs": [
    {
     "data": {
      "text/plain": [
       "array([[13223, 15345, 18637, 11949, 18097, 18038],\n",
       "       [ 5510,  7190,  9638,  3104,  9072, 10452],\n",
       "       [ 5576,  7593, 10760,  5024,  9482, 10646],\n",
       "       [ 8350,  8905, 10631,  6873, 11239,  9954],\n",
       "       [12057, 14162, 14010, 13419, 12557, 14304],\n",
       "       [ 7995, 11386, 14845, 10307, 11721, 14396]])"
      ]
     },
     "execution_count": 11,
     "metadata": {},
     "output_type": "execute_result"
    }
   ],
   "source": [
    "mat_mat_mult = np.dot(arr1,arr2.T)\n",
    "mat_mat_mult"
   ]
  },
  {
   "cell_type": "code",
   "execution_count": 13,
   "metadata": {},
   "outputs": [
    {
     "name": "stdout",
     "output_type": "stream",
     "text": [
      "[[83 86 76 42 13 67]\n",
      " [97  8 38 71 57 61]\n",
      " [40 24  3 23 81 11]\n",
      " [63  4 31 33 71 76]]\n",
      "[[33 53 87 12 76 94]\n",
      " [64 38 43 25 85 24]\n",
      " [88 87 63 62 76 78]\n",
      " [12 60 75 96  8 76]]\n"
     ]
    }
   ],
   "source": [
    "print(arr1.T)\n",
    "print(arr2.T)"
   ]
  },
  {
   "cell_type": "code",
   "execution_count": 14,
   "metadata": {},
   "outputs": [
    {
     "data": {
      "text/plain": [
       "127"
      ]
     },
     "execution_count": 14,
     "metadata": {},
     "output_type": "execute_result"
    }
   ],
   "source": [
    "trace = np.trace(arr1)\n",
    "trace"
   ]
  },
  {
   "cell_type": "code",
   "execution_count": 17,
   "metadata": {},
   "outputs": [],
   "source": [
    "arr1 = np.random.randint(1,100,(5,5))\n",
    "arr2 = np.random.randint(1,100,(5,5))"
   ]
  },
  {
   "cell_type": "code",
   "execution_count": 24,
   "metadata": {},
   "outputs": [],
   "source": [
    "coeff =np.array([[3,2],[4,-1]])\n",
    "eq = np.array([5,3])"
   ]
  },
  {
   "cell_type": "code",
   "execution_count": 25,
   "metadata": {},
   "outputs": [
    {
     "data": {
      "text/plain": [
       "array([1., 1.])"
      ]
     },
     "execution_count": 25,
     "metadata": {},
     "output_type": "execute_result"
    }
   ],
   "source": [
    "solve = np.linalg.solve(coeff,eq)\n",
    "solve"
   ]
  },
  {
   "cell_type": "code",
   "execution_count": 20,
   "metadata": {},
   "outputs": [
    {
     "data": {
      "text/plain": [
       "455369891.9999999"
      ]
     },
     "execution_count": 20,
     "metadata": {},
     "output_type": "execute_result"
    }
   ],
   "source": [
    "determinant = np.linalg.det(arr1)\n",
    "determinant"
   ]
  },
  {
   "cell_type": "code",
   "execution_count": 21,
   "metadata": {},
   "outputs": [
    {
     "data": {
      "text/plain": [
       "array([[-0.02141672,  0.01814625, -0.01863894,  0.01784239,  0.01896874],\n",
       "       [-0.02046291,  0.00109185,  0.00042366,  0.0005423 ,  0.02518488],\n",
       "       [ 0.0656232 , -0.01476719,  0.03033237, -0.039314  , -0.06189639],\n",
       "       [-0.03687163,  0.00746758, -0.01116532,  0.03235373,  0.02485042],\n",
       "       [ 0.04937472, -0.0169067 ,  0.01467296, -0.02862067, -0.02597444]])"
      ]
     },
     "execution_count": 21,
     "metadata": {},
     "output_type": "execute_result"
    }
   ],
   "source": [
    "inverse = np.linalg.inv(arr1)\n",
    "inverse"
   ]
  },
  {
   "cell_type": "code",
   "execution_count": 22,
   "metadata": {},
   "outputs": [
    {
     "name": "stdout",
     "output_type": "stream",
     "text": [
      "Values :  [236.47526475 +0.j          -5.59662561+22.40297268j\n",
      "  -5.59662561-22.40297268j  59.85899324 +5.32010563j\n",
      "  59.85899324 -5.32010563j]\n",
      "Vectors :  [[-0.37640193+0.j         -0.22338472-0.27446439j -0.22338472+0.27446439j\n",
      "   0.29888479+0.05965139j  0.29888479-0.05965139j]\n",
      " [-0.51360401+0.j         -0.28277522+0.29707984j -0.28277522-0.29707984j\n",
      "  -0.41702277+0.20049668j -0.41702277-0.20049668j]\n",
      " [-0.62043255+0.j          0.63967422+0.j          0.63967422-0.j\n",
      "  -0.58886126+0.j         -0.58886126-0.j        ]\n",
      " [-0.29141628+0.j         -0.29476806-0.06471078j -0.29476806+0.06471078j\n",
      "   0.45204802-0.31733966j  0.45204802+0.31733966j]\n",
      " [-0.35308995+0.j          0.43979837+0.11344118j  0.43979837-0.11344118j\n",
      "  -0.00163118+0.20295459j -0.00163118-0.20295459j]]\n"
     ]
    }
   ],
   "source": [
    "values,vectors = np.linalg.eig(arr1)\n",
    "print(\"Values : \",values)\n",
    "print(\"Vectors : \",vectors)"
   ]
  },
  {
   "cell_type": "code",
   "execution_count": 1,
   "metadata": {},
   "outputs": [
    {
     "name": "stdout",
     "output_type": "stream",
     "text": [
      "Matrix A:\n",
      "Enter the values for a 2x2 matrix:\n",
      "\n",
      "Matrix B:\n",
      "Enter the values for a 2x2 matrix:\n",
      "\n",
      "Matrix A + Matrix B:\n",
      "[[4. 4.]\n",
      " [6. 5.]]\n"
     ]
    }
   ],
   "source": [
    "import numpy as np\n",
    "\n",
    "# Function to take matrix input\n",
    "def input_matrix(rows, cols):\n",
    "    print(f\"Enter the values for a {rows}x{cols} matrix:\")\n",
    "    matrix = []\n",
    "    for i in range(rows):\n",
    "        row = list(map(float, input(f\"Enter values for row {i + 1} separated by space: \").split()))\n",
    "        if len(row) != cols:\n",
    "            raise ValueError(\"Number of columns entered doesn't match the expected column size.\")\n",
    "        matrix.append(row)\n",
    "    return np.array(matrix)\n",
    "\n",
    "# Get dimensions of the matrices\n",
    "rows = int(input(\"Enter the number of rows: \"))\n",
    "cols = int(input(\"Enter the number of columns: \"))\n",
    "\n",
    "# Input matrices\n",
    "print(\"Matrix A:\")\n",
    "matrix_a = input_matrix(rows, cols)\n",
    "\n",
    "print(\"\\nMatrix B:\")\n",
    "matrix_b = input_matrix(rows, cols)\n",
    "\n",
    "# Perform matrix addition\n",
    "result = matrix_a + matrix_b\n",
    "\n",
    "# Display the result\n",
    "print(\"\\nMatrix A + Matrix B:\")\n",
    "print(result)\n"
   ]
  },
  {
   "cell_type": "code",
   "execution_count": null,
   "metadata": {},
   "outputs": [],
   "source": []
  }
 ],
 "metadata": {
  "kernelspec": {
   "display_name": "Python 3",
   "language": "python",
   "name": "python3"
  },
  "language_info": {
   "codemirror_mode": {
    "name": "ipython",
    "version": 3
   },
   "file_extension": ".py",
   "mimetype": "text/x-python",
   "name": "python",
   "nbconvert_exporter": "python",
   "pygments_lexer": "ipython3",
   "version": "3.11.9"
  }
 },
 "nbformat": 4,
 "nbformat_minor": 2
}
