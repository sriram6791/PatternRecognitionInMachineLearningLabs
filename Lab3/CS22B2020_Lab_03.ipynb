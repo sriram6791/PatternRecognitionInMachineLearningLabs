{
 "cells": [
  {
   "cell_type": "markdown",
   "metadata": {},
   "source": [
    "#### CS22B2020 <br> G.Sriram"
   ]
  },
  {
   "cell_type": "markdown",
   "metadata": {},
   "source": [
    "1. Given tabular data is collected at a small ice cream store. To determine if\n",
    "there is a correlation between temperature and the number of customers,\n",
    "calculate the Pearson correlation coefficient, without using any built-in\n",
    "functions or libraries. Compare your results with calculation using the\n",
    "inbuilt function."
   ]
  },
  {
   "cell_type": "code",
   "execution_count": 2,
   "metadata": {},
   "outputs": [],
   "source": [
    "import numpy as np\n",
    "import pandas as pd"
   ]
  },
  {
   "cell_type": "code",
   "execution_count": 3,
   "metadata": {},
   "outputs": [
    {
     "data": {
      "text/html": [
       "<div>\n",
       "<style scoped>\n",
       "    .dataframe tbody tr th:only-of-type {\n",
       "        vertical-align: middle;\n",
       "    }\n",
       "\n",
       "    .dataframe tbody tr th {\n",
       "        vertical-align: top;\n",
       "    }\n",
       "\n",
       "    .dataframe thead th {\n",
       "        text-align: right;\n",
       "    }\n",
       "</style>\n",
       "<table border=\"1\" class=\"dataframe\">\n",
       "  <thead>\n",
       "    <tr style=\"text-align: right;\">\n",
       "      <th></th>\n",
       "      <th>Temparature</th>\n",
       "      <th>Number of customers</th>\n",
       "    </tr>\n",
       "  </thead>\n",
       "  <tbody>\n",
       "    <tr>\n",
       "      <th>0</th>\n",
       "      <td>98</td>\n",
       "      <td>15</td>\n",
       "    </tr>\n",
       "    <tr>\n",
       "      <th>1</th>\n",
       "      <td>87</td>\n",
       "      <td>12</td>\n",
       "    </tr>\n",
       "    <tr>\n",
       "      <th>2</th>\n",
       "      <td>90</td>\n",
       "      <td>10</td>\n",
       "    </tr>\n",
       "    <tr>\n",
       "      <th>3</th>\n",
       "      <td>85</td>\n",
       "      <td>10</td>\n",
       "    </tr>\n",
       "    <tr>\n",
       "      <th>4</th>\n",
       "      <td>95</td>\n",
       "      <td>16</td>\n",
       "    </tr>\n",
       "    <tr>\n",
       "      <th>5</th>\n",
       "      <td>75</td>\n",
       "      <td>7</td>\n",
       "    </tr>\n",
       "    <tr>\n",
       "      <th>6</th>\n",
       "      <td>92</td>\n",
       "      <td>14</td>\n",
       "    </tr>\n",
       "    <tr>\n",
       "      <th>7</th>\n",
       "      <td>80</td>\n",
       "      <td>9</td>\n",
       "    </tr>\n",
       "    <tr>\n",
       "      <th>8</th>\n",
       "      <td>88</td>\n",
       "      <td>11</td>\n",
       "    </tr>\n",
       "    <tr>\n",
       "      <th>9</th>\n",
       "      <td>93</td>\n",
       "      <td>13</td>\n",
       "    </tr>\n",
       "  </tbody>\n",
       "</table>\n",
       "</div>"
      ],
      "text/plain": [
       "   Temparature  Number of customers\n",
       "0           98                   15\n",
       "1           87                   12\n",
       "2           90                   10\n",
       "3           85                   10\n",
       "4           95                   16\n",
       "5           75                    7\n",
       "6           92                   14\n",
       "7           80                    9\n",
       "8           88                   11\n",
       "9           93                   13"
      ]
     },
     "execution_count": 3,
     "metadata": {},
     "output_type": "execute_result"
    }
   ],
   "source": [
    "data = {\n",
    "    'Temparature' : [98,87,90,85,95,75,92,80,88,93],\n",
    "    'Number of customers' : [15,12,10,10,16,7,14,9,11,13]\n",
    "}\n",
    "\n",
    "tab_data = pd.DataFrame(data)\n",
    "tab_data"
   ]
  },
  {
   "cell_type": "code",
   "execution_count": 4,
   "metadata": {},
   "outputs": [
    {
     "name": "stdout",
     "output_type": "stream",
     "text": [
      "temparature mean :  88.3\n",
      "Customers number mean:  11.7\n"
     ]
    }
   ],
   "source": [
    "temp_mean = tab_data['Temparature'].mean()\n",
    "cust_mean = tab_data['Number of customers'].mean()\n",
    "\n",
    "print(\"temparature mean : \",temp_mean)\n",
    "print('Customers number mean: ',cust_mean)"
   ]
  },
  {
   "cell_type": "code",
   "execution_count": 5,
   "metadata": {},
   "outputs": [
    {
     "data": {
      "text/plain": [
       "162.9"
      ]
     },
     "execution_count": 5,
     "metadata": {},
     "output_type": "execute_result"
    }
   ],
   "source": [
    "numarator = (tab_data['Temparature'] - temp_mean) * (tab_data['Number of customers']-cust_mean)\n",
    "numarator = numarator.sum()\n",
    "numarator"
   ]
  },
  {
   "cell_type": "code",
   "execution_count": 6,
   "metadata": {},
   "outputs": [
    {
     "data": {
      "text/plain": [
       "177.3212057256548"
      ]
     },
     "execution_count": 6,
     "metadata": {},
     "output_type": "execute_result"
    }
   ],
   "source": [
    "denominator = (((tab_data['Temparature'] - temp_mean)**2).sum() * ((tab_data['Number of customers']-cust_mean)**2).sum())**0.5\n",
    "denominator"
   ]
  },
  {
   "cell_type": "code",
   "execution_count": 7,
   "metadata": {},
   "outputs": [
    {
     "name": "stdout",
     "output_type": "stream",
     "text": [
      "Pearson Coefficient :  0.918671849389707\n"
     ]
    }
   ],
   "source": [
    "pearson_coefficient = numarator/denominator\n",
    "print(\"Pearson Coefficient : \",pearson_coefficient)"
   ]
  },
  {
   "cell_type": "markdown",
   "metadata": {},
   "source": [
    "Calculating with built in function"
   ]
  },
  {
   "cell_type": "code",
   "execution_count": 8,
   "metadata": {},
   "outputs": [
    {
     "name": "stdout",
     "output_type": "stream",
     "text": [
      "pearson_coefficient calculated with built in function :  0.9186718493897069\n"
     ]
    }
   ],
   "source": [
    "from scipy.stats import pearsonr\n",
    "\n",
    "r,_ = pearsonr(tab_data['Temparature'],tab_data['Number of customers'])\n",
    "print('pearson_coefficient calculated with built in function : ',r)"
   ]
  },
  {
   "cell_type": "markdown",
   "metadata": {},
   "source": [
    "Comparing the results"
   ]
  },
  {
   "cell_type": "code",
   "execution_count": 9,
   "metadata": {},
   "outputs": [
    {
     "name": "stdout",
     "output_type": "stream",
     "text": [
      "pearson coefficient manually calculated :  0.918671849389707\n",
      "pearson_coefficient calculated with built in function :  0.9186718493897069\n"
     ]
    }
   ],
   "source": [
    "print('pearson coefficient manually calculated : ',pearson_coefficient)\n",
    "print('pearson_coefficient calculated with built in function : ',r)\n",
    "if round(pearson_coefficient,) == r :\n",
    "    print(\"Both are Equal\")"
   ]
  },
  {
   "cell_type": "markdown",
   "metadata": {},
   "source": [
    "#### Iris dataset\n",
    "#### Question 2"
   ]
  },
  {
   "cell_type": "markdown",
   "metadata": {},
   "source": [
    "2. You are given the famous Iris dataset (iris.csv), which contains samples of\n",
    "iris flowers, each described by four features: sepal length, sepal width, petal\n",
    "length, and petal width. The dataset is labeled with three classes: Setosa,\n",
    "Versicolor, and Virginica. The iris.csv is present in the Submission link.<br><br>\n",
    "a. First take 2 dimensions/features, that is, Sepal Length and Sepal\n",
    "Width.<br>\n",
    "Your task is to implement a classification algorithm using the Euclidean\n",
    "distance metric to predict the class of a given iris sample.<br>\n",
    "i. Load the Iris dataset and split it into a training set and a testing\n",
    "set. The testing set should contain the first 3 samples of each\n",
    "class. Do NOT use the inbuilt function for splitting the data.<br>\n",
    "ii. Plot all the training samples using scatter plot and write the\n",
    "inferences.<br>\n",
    "iii. For each sample in the testing set, compute its Euclidean\n",
    "distance to all samples in the training set.<br>\n",
    "iv. Identify the K-nearest neighbors with the smallest Euclidean\n",
    "distances for each sample in the testing set, where K is a\n",
    "hyperparameter.<br>\n",
    "v. Determine the majority class among the K-nearest neighbors\n",
    "and assign it as the predicted class for the sample.<br>\n",
    "vi. Evaluate the accuracy of your classifier on the testing set and\n",
    "report the results.<br>\n",
    "vii. Classify using sklearn library knn-classifier and compare your\n",
    "result.<br><br>\n",
    "b. Repeat the same for all the four dimensions and skip plotting the\n",
    "data.<br>"
   ]
  },
  {
   "cell_type": "code",
   "execution_count": 10,
   "metadata": {},
   "outputs": [
    {
     "data": {
      "text/html": [
       "<div>\n",
       "<style scoped>\n",
       "    .dataframe tbody tr th:only-of-type {\n",
       "        vertical-align: middle;\n",
       "    }\n",
       "\n",
       "    .dataframe tbody tr th {\n",
       "        vertical-align: top;\n",
       "    }\n",
       "\n",
       "    .dataframe thead th {\n",
       "        text-align: right;\n",
       "    }\n",
       "</style>\n",
       "<table border=\"1\" class=\"dataframe\">\n",
       "  <thead>\n",
       "    <tr style=\"text-align: right;\">\n",
       "      <th></th>\n",
       "      <th>sepal.length</th>\n",
       "      <th>sepal.width</th>\n",
       "      <th>petal.length</th>\n",
       "      <th>petal.width</th>\n",
       "      <th>variety</th>\n",
       "    </tr>\n",
       "  </thead>\n",
       "  <tbody>\n",
       "    <tr>\n",
       "      <th>0</th>\n",
       "      <td>5.1</td>\n",
       "      <td>3.5</td>\n",
       "      <td>1.4</td>\n",
       "      <td>0.2</td>\n",
       "      <td>Setosa</td>\n",
       "    </tr>\n",
       "    <tr>\n",
       "      <th>1</th>\n",
       "      <td>4.9</td>\n",
       "      <td>3.0</td>\n",
       "      <td>1.4</td>\n",
       "      <td>0.2</td>\n",
       "      <td>Setosa</td>\n",
       "    </tr>\n",
       "    <tr>\n",
       "      <th>2</th>\n",
       "      <td>4.7</td>\n",
       "      <td>3.2</td>\n",
       "      <td>1.3</td>\n",
       "      <td>0.2</td>\n",
       "      <td>Setosa</td>\n",
       "    </tr>\n",
       "    <tr>\n",
       "      <th>3</th>\n",
       "      <td>4.6</td>\n",
       "      <td>3.1</td>\n",
       "      <td>1.5</td>\n",
       "      <td>0.2</td>\n",
       "      <td>Setosa</td>\n",
       "    </tr>\n",
       "    <tr>\n",
       "      <th>4</th>\n",
       "      <td>5.0</td>\n",
       "      <td>3.6</td>\n",
       "      <td>1.4</td>\n",
       "      <td>0.2</td>\n",
       "      <td>Setosa</td>\n",
       "    </tr>\n",
       "  </tbody>\n",
       "</table>\n",
       "</div>"
      ],
      "text/plain": [
       "   sepal.length  sepal.width  petal.length  petal.width variety\n",
       "0           5.1          3.5           1.4          0.2  Setosa\n",
       "1           4.9          3.0           1.4          0.2  Setosa\n",
       "2           4.7          3.2           1.3          0.2  Setosa\n",
       "3           4.6          3.1           1.5          0.2  Setosa\n",
       "4           5.0          3.6           1.4          0.2  Setosa"
      ]
     },
     "execution_count": 10,
     "metadata": {},
     "output_type": "execute_result"
    }
   ],
   "source": [
    "iris_dataset = pd.read_csv('iris.csv')\n",
    "iris_dataset.head()"
   ]
  },
  {
   "cell_type": "code",
   "execution_count": 12,
   "metadata": {},
   "outputs": [
    {
     "data": {
      "text/plain": [
       "array(['Setosa', 'Versicolor', 'Virginica'], dtype=object)"
      ]
     },
     "execution_count": 12,
     "metadata": {},
     "output_type": "execute_result"
    }
   ],
   "source": [
    "iris_dataset['variety'].unique()"
   ]
  },
  {
   "cell_type": "code",
   "execution_count": 22,
   "metadata": {},
   "outputs": [
    {
     "data": {
      "text/html": [
       "<div>\n",
       "<style scoped>\n",
       "    .dataframe tbody tr th:only-of-type {\n",
       "        vertical-align: middle;\n",
       "    }\n",
       "\n",
       "    .dataframe tbody tr th {\n",
       "        vertical-align: top;\n",
       "    }\n",
       "\n",
       "    .dataframe thead th {\n",
       "        text-align: right;\n",
       "    }\n",
       "</style>\n",
       "<table border=\"1\" class=\"dataframe\">\n",
       "  <thead>\n",
       "    <tr style=\"text-align: right;\">\n",
       "      <th></th>\n",
       "      <th>sepal.length</th>\n",
       "      <th>sepal.width</th>\n",
       "      <th>petal.length</th>\n",
       "      <th>petal.width</th>\n",
       "      <th>variety</th>\n",
       "    </tr>\n",
       "  </thead>\n",
       "  <tbody>\n",
       "    <tr>\n",
       "      <th>0</th>\n",
       "      <td>5.1</td>\n",
       "      <td>3.5</td>\n",
       "      <td>1.4</td>\n",
       "      <td>0.2</td>\n",
       "      <td>Setosa</td>\n",
       "    </tr>\n",
       "    <tr>\n",
       "      <th>1</th>\n",
       "      <td>4.9</td>\n",
       "      <td>3.0</td>\n",
       "      <td>1.4</td>\n",
       "      <td>0.2</td>\n",
       "      <td>Setosa</td>\n",
       "    </tr>\n",
       "    <tr>\n",
       "      <th>2</th>\n",
       "      <td>4.7</td>\n",
       "      <td>3.2</td>\n",
       "      <td>1.3</td>\n",
       "      <td>0.2</td>\n",
       "      <td>Setosa</td>\n",
       "    </tr>\n",
       "    <tr>\n",
       "      <th>50</th>\n",
       "      <td>7.0</td>\n",
       "      <td>3.2</td>\n",
       "      <td>4.7</td>\n",
       "      <td>1.4</td>\n",
       "      <td>Versicolor</td>\n",
       "    </tr>\n",
       "    <tr>\n",
       "      <th>51</th>\n",
       "      <td>6.4</td>\n",
       "      <td>3.2</td>\n",
       "      <td>4.5</td>\n",
       "      <td>1.5</td>\n",
       "      <td>Versicolor</td>\n",
       "    </tr>\n",
       "    <tr>\n",
       "      <th>52</th>\n",
       "      <td>6.9</td>\n",
       "      <td>3.1</td>\n",
       "      <td>4.9</td>\n",
       "      <td>1.5</td>\n",
       "      <td>Versicolor</td>\n",
       "    </tr>\n",
       "    <tr>\n",
       "      <th>100</th>\n",
       "      <td>6.3</td>\n",
       "      <td>3.3</td>\n",
       "      <td>6.0</td>\n",
       "      <td>2.5</td>\n",
       "      <td>Virginica</td>\n",
       "    </tr>\n",
       "    <tr>\n",
       "      <th>101</th>\n",
       "      <td>5.8</td>\n",
       "      <td>2.7</td>\n",
       "      <td>5.1</td>\n",
       "      <td>1.9</td>\n",
       "      <td>Virginica</td>\n",
       "    </tr>\n",
       "    <tr>\n",
       "      <th>102</th>\n",
       "      <td>7.1</td>\n",
       "      <td>3.0</td>\n",
       "      <td>5.9</td>\n",
       "      <td>2.1</td>\n",
       "      <td>Virginica</td>\n",
       "    </tr>\n",
       "  </tbody>\n",
       "</table>\n",
       "</div>"
      ],
      "text/plain": [
       "     sepal.length  sepal.width  petal.length  petal.width     variety\n",
       "0             5.1          3.5           1.4          0.2      Setosa\n",
       "1             4.9          3.0           1.4          0.2      Setosa\n",
       "2             4.7          3.2           1.3          0.2      Setosa\n",
       "50            7.0          3.2           4.7          1.4  Versicolor\n",
       "51            6.4          3.2           4.5          1.5  Versicolor\n",
       "52            6.9          3.1           4.9          1.5  Versicolor\n",
       "100           6.3          3.3           6.0          2.5   Virginica\n",
       "101           5.8          2.7           5.1          1.9   Virginica\n",
       "102           7.1          3.0           5.9          2.1   Virginica"
      ]
     },
     "execution_count": 22,
     "metadata": {},
     "output_type": "execute_result"
    }
   ],
   "source": [
    "test_data = iris_dataset.groupby('variety').head(3)\n",
    "test_data"
   ]
  },
  {
   "cell_type": "code",
   "execution_count": 24,
   "metadata": {},
   "outputs": [
    {
     "data": {
      "text/html": [
       "<div>\n",
       "<style scoped>\n",
       "    .dataframe tbody tr th:only-of-type {\n",
       "        vertical-align: middle;\n",
       "    }\n",
       "\n",
       "    .dataframe tbody tr th {\n",
       "        vertical-align: top;\n",
       "    }\n",
       "\n",
       "    .dataframe thead th {\n",
       "        text-align: right;\n",
       "    }\n",
       "</style>\n",
       "<table border=\"1\" class=\"dataframe\">\n",
       "  <thead>\n",
       "    <tr style=\"text-align: right;\">\n",
       "      <th></th>\n",
       "      <th>sepal.length</th>\n",
       "      <th>sepal.width</th>\n",
       "      <th>petal.length</th>\n",
       "      <th>petal.width</th>\n",
       "      <th>variety</th>\n",
       "    </tr>\n",
       "  </thead>\n",
       "  <tbody>\n",
       "    <tr>\n",
       "      <th>3</th>\n",
       "      <td>4.6</td>\n",
       "      <td>3.1</td>\n",
       "      <td>1.5</td>\n",
       "      <td>0.2</td>\n",
       "      <td>Setosa</td>\n",
       "    </tr>\n",
       "    <tr>\n",
       "      <th>4</th>\n",
       "      <td>5.0</td>\n",
       "      <td>3.6</td>\n",
       "      <td>1.4</td>\n",
       "      <td>0.2</td>\n",
       "      <td>Setosa</td>\n",
       "    </tr>\n",
       "    <tr>\n",
       "      <th>5</th>\n",
       "      <td>5.4</td>\n",
       "      <td>3.9</td>\n",
       "      <td>1.7</td>\n",
       "      <td>0.4</td>\n",
       "      <td>Setosa</td>\n",
       "    </tr>\n",
       "    <tr>\n",
       "      <th>6</th>\n",
       "      <td>4.6</td>\n",
       "      <td>3.4</td>\n",
       "      <td>1.4</td>\n",
       "      <td>0.3</td>\n",
       "      <td>Setosa</td>\n",
       "    </tr>\n",
       "    <tr>\n",
       "      <th>7</th>\n",
       "      <td>5.0</td>\n",
       "      <td>3.4</td>\n",
       "      <td>1.5</td>\n",
       "      <td>0.2</td>\n",
       "      <td>Setosa</td>\n",
       "    </tr>\n",
       "    <tr>\n",
       "      <th>...</th>\n",
       "      <td>...</td>\n",
       "      <td>...</td>\n",
       "      <td>...</td>\n",
       "      <td>...</td>\n",
       "      <td>...</td>\n",
       "    </tr>\n",
       "    <tr>\n",
       "      <th>145</th>\n",
       "      <td>6.7</td>\n",
       "      <td>3.0</td>\n",
       "      <td>5.2</td>\n",
       "      <td>2.3</td>\n",
       "      <td>Virginica</td>\n",
       "    </tr>\n",
       "    <tr>\n",
       "      <th>146</th>\n",
       "      <td>6.3</td>\n",
       "      <td>2.5</td>\n",
       "      <td>5.0</td>\n",
       "      <td>1.9</td>\n",
       "      <td>Virginica</td>\n",
       "    </tr>\n",
       "    <tr>\n",
       "      <th>147</th>\n",
       "      <td>6.5</td>\n",
       "      <td>3.0</td>\n",
       "      <td>5.2</td>\n",
       "      <td>2.0</td>\n",
       "      <td>Virginica</td>\n",
       "    </tr>\n",
       "    <tr>\n",
       "      <th>148</th>\n",
       "      <td>6.2</td>\n",
       "      <td>3.4</td>\n",
       "      <td>5.4</td>\n",
       "      <td>2.3</td>\n",
       "      <td>Virginica</td>\n",
       "    </tr>\n",
       "    <tr>\n",
       "      <th>149</th>\n",
       "      <td>5.9</td>\n",
       "      <td>3.0</td>\n",
       "      <td>5.1</td>\n",
       "      <td>1.8</td>\n",
       "      <td>Virginica</td>\n",
       "    </tr>\n",
       "  </tbody>\n",
       "</table>\n",
       "<p>141 rows × 5 columns</p>\n",
       "</div>"
      ],
      "text/plain": [
       "     sepal.length  sepal.width  petal.length  petal.width    variety\n",
       "3             4.6          3.1           1.5          0.2     Setosa\n",
       "4             5.0          3.6           1.4          0.2     Setosa\n",
       "5             5.4          3.9           1.7          0.4     Setosa\n",
       "6             4.6          3.4           1.4          0.3     Setosa\n",
       "7             5.0          3.4           1.5          0.2     Setosa\n",
       "..            ...          ...           ...          ...        ...\n",
       "145           6.7          3.0           5.2          2.3  Virginica\n",
       "146           6.3          2.5           5.0          1.9  Virginica\n",
       "147           6.5          3.0           5.2          2.0  Virginica\n",
       "148           6.2          3.4           5.4          2.3  Virginica\n",
       "149           5.9          3.0           5.1          1.8  Virginica\n",
       "\n",
       "[141 rows x 5 columns]"
      ]
     },
     "execution_count": 24,
     "metadata": {},
     "output_type": "execute_result"
    }
   ],
   "source": [
    "train_data = iris_dataset.drop(test_data.index)\n",
    "train_data"
   ]
  },
  {
   "cell_type": "code",
   "execution_count": 56,
   "metadata": {},
   "outputs": [],
   "source": [
    "import matplotlib.pyplot as plt\n",
    "from collections import Counter\n",
    "from sklearn.neighbors import KNeighborsClassifier"
   ]
  },
  {
   "cell_type": "code",
   "execution_count": 27,
   "metadata": {},
   "outputs": [
    {
     "data": {
      "text/plain": [
       "<function matplotlib.pyplot.show(close=None, block=None)>"
      ]
     },
     "execution_count": 27,
     "metadata": {},
     "output_type": "execute_result"
    },
    {
     "data": {
      "image/png": "[encoded data removed]",
      "text/plain": [
       "<Figure size 640x480 with 1 Axes>"
      ]
     },
     "metadata": {},
     "output_type": "display_data"
    }
   ],
   "source": [
    "x1 = iris_dataset['sepal.length']\n",
    "x2 = iris_dataset['sepal.width']\n",
    "tar = iris_dataset['variety']\n",
    "color = {'Setosa' : 'r' , 'Versicolor' : 'g' ,'Virginica' : 'b'}\n",
    "\n",
    "for a,b,tar in zip(x1,x2,tar):\n",
    "    plt.scatter(a,b,color=color[tar])\n",
    "\n",
    "plt.show"
   ]
  },
  {
   "cell_type": "code",
   "execution_count": 28,
   "metadata": {},
   "outputs": [
    {
     "data": {
      "text/plain": [
       "<function matplotlib.pyplot.show(close=None, block=None)>"
      ]
     },
     "execution_count": 28,
     "metadata": {},
     "output_type": "execute_result"
    },
    {
     "data": {
      "image/png": "[encoded data removed]",
      "text/plain": [
       "<Figure size 640x480 with 1 Axes>"
      ]
     },
     "metadata": {},
     "output_type": "display_data"
    }
   ],
   "source": [
    "x1 = iris_dataset['petal.length']\n",
    "x2 = iris_dataset['petal.width']\n",
    "tar = iris_dataset['variety']\n",
    "color = {'Setosa' : 'r' , 'Versicolor' : 'g' ,'Virginica' : 'b'}\n",
    "\n",
    "for a,b,tar in zip(x1,x2,tar):\n",
    "    plt.scatter(a,b,color=color[tar])\n",
    "\n",
    "plt.show"
   ]
  },
  {
   "cell_type": "markdown",
   "metadata": {},
   "source": [
    "**Inference**:There is a very good corelation between petal width and petal length ,combined information of both of these can be used to identify the verity of the flower to achieve good accuracy"
   ]
  },
  {
   "cell_type": "code",
   "execution_count": 43,
   "metadata": {},
   "outputs": [],
   "source": [
    "def euclidean_distance(x1,x2):\n",
    "    return np.sqrt(np.sum((x1-x2)**2))"
   ]
  },
  {
   "cell_type": "code",
   "execution_count": null,
   "metadata": {},
   "outputs": [],
   "source": [
    "euclidean_distance(iris_dataset[0])"
   ]
  },
  {
   "cell_type": "code",
   "execution_count": 64,
   "metadata": {},
   "outputs": [],
   "source": [
    "train_petal_length = train_data['sepal.length'].to_list()\n",
    "train_petal_width = train_data['sepal.width'].to_list()\n",
    "X_train = [[a,b] for a,b in zip(train_petal_length,train_petal_length)]\n",
    "Y_train = train_data['variety'].tolist()\n",
    "X_train = np.array(X_train)"
   ]
  },
  {
   "cell_type": "code",
   "execution_count": 65,
   "metadata": {},
   "outputs": [],
   "source": [
    "def predict(X_train,Y_train,K = 3):\n",
    "    predictions = []\n",
    "    for x in X_train:\n",
    "        distances = [euclidean_distance(x,x_train) for x_train in X_train]\n",
    "        \n",
    "        k_indices = np.argsort(distances)[:K]\n",
    "        \n",
    "        k_nearest_classes = [Y_train[i] for i in k_indices]\n",
    "        \n",
    "        majority_class = Counter(k_nearest_classes).most_common(1)[0][0]\n",
    "\n",
    "        predictions.append(majority_class)\n",
    "    return np.array(predictions)        "
   ]
  },
  {
   "cell_type": "code",
   "execution_count": 78,
   "metadata": {},
   "outputs": [
    {
     "name": "stdout",
     "output_type": "stream",
     "text": [
      "Accuracy of custom KNN classifier K= 6 is 0.7730496453900709\n"
     ]
    }
   ],
   "source": [
    "K = 6\n",
    "y_pred_custom = predict(X_train,Y_train,K)\n",
    "\n",
    "accuracy_custom = np.sum(y_pred_custom==Y_train) / len(Y_train)\n",
    "print(\"Accuracy of custom KNN classifier K=\",K,\"is\",accuracy_custom)"
   ]
  },
  {
   "cell_type": "code",
   "execution_count": 71,
   "metadata": {},
   "outputs": [
    {
     "name": "stdout",
     "output_type": "stream",
     "text": [
      "Sklearn KNN Classifier Accuracy: 70.21%\n"
     ]
    }
   ],
   "source": [
    "knn = KNeighborsClassifier(n_neighbors=K)\n",
    "knn.fit(X_train,Y_train)\n",
    "y_pred_sk_learn = knn.predict(X_train)\n",
    "accuracy_sklearn_knn = np.sum(y_pred_sk_learn == Y_train ) / len(Y_train)\n",
    "print(f'Sklearn KNN Classifier Accuracy: {accuracy_sklearn_knn * 100:.2f}%')"
   ]
  },
  {
   "cell_type": "code",
   "execution_count": 82,
   "metadata": {},
   "outputs": [],
   "source": [
    "## finding max K in custom and inbuilt functions\n",
    "K_max_cus = 1\n",
    "max_acc_cus = 0\n",
    "\n",
    "k_max_inb = 1\n",
    "max_acc_inb = 0\n",
    "\n",
    "for k in range(1,25):\n",
    "    y_pred_custom = predict(X_train,Y_train,K)\n",
    "    accuracy_custom = np.sum(y_pred_custom == Y_train) / len(Y_train)\n",
    "    \n",
    "    y_pred_in = knn.predict(X_train)\n",
    "    acc_in = np.sum(y_pred_sk_learn == Y_train ) / len(Y_train)\n",
    "    \n",
    "    if accuracy_custom > max_acc_cus:\n",
    "        K_max_cus = K\n",
    "        max_acc_cus = accuracy_custom\n",
    "        \n",
    "    if acc_in > max_acc_inb:\n",
    "        k_max_inb = k\n",
    "        max_acc_inb = acc_in\n"
   ]
  },
  {
   "cell_type": "code",
   "execution_count": 84,
   "metadata": {},
   "outputs": [
    {
     "name": "stdout",
     "output_type": "stream",
     "text": [
      "K =  6 Works best for custom model.Accuracy =  0.7730496453900709\n",
      "K =  1 Works best for inbuilt SKlearn function.Accuracy =  0.7021276595744681\n"
     ]
    }
   ],
   "source": [
    "print(\"K = \",K_max_cus,\"Works best for custom model.Accuracy = \",max_acc_cus)\n",
    "print(\"K = \",k_max_inb,\"Works best for inbuilt SKlearn function.Accuracy = \",max_acc_inb)"
   ]
  },
  {
   "cell_type": "markdown",
   "metadata": {},
   "source": [
    "Using petal length and petal width"
   ]
  },
  {
   "cell_type": "code",
   "execution_count": 85,
   "metadata": {},
   "outputs": [],
   "source": [
    "train_petal_length = train_data['petal.length'].to_list()\n",
    "train_petal_width = train_data['petal.width'].to_list()\n",
    "X_train = [[a,b] for a,b in zip(train_petal_length,train_petal_length)]\n",
    "Y_train = train_data['variety'].tolist()\n",
    "X_train = np.array(X_train)"
   ]
  },
  {
   "cell_type": "code",
   "execution_count": 86,
   "metadata": {},
   "outputs": [],
   "source": [
    "## finding max K in custom and inbuilt functions\n",
    "K_max_cus = 1\n",
    "max_acc_cus = 0\n",
    "\n",
    "k_max_inb = 1\n",
    "max_acc_inb = 0\n",
    "\n",
    "for k in range(1,25):\n",
    "    y_pred_custom = predict(X_train,Y_train,K)\n",
    "    accuracy_custom = np.sum(y_pred_custom == Y_train) / len(Y_train)\n",
    "    \n",
    "    y_pred_in = knn.predict(X_train)\n",
    "    acc_in = np.sum(y_pred_sk_learn == Y_train ) / len(Y_train)\n",
    "    \n",
    "    if accuracy_custom > max_acc_cus:\n",
    "        K_max_cus = K\n",
    "        max_acc_cus = accuracy_custom\n",
    "        \n",
    "    if acc_in > max_acc_inb:\n",
    "        k_max_inb = k\n",
    "        max_acc_inb = acc_in\n"
   ]
  },
  {
   "cell_type": "code",
   "execution_count": 87,
   "metadata": {},
   "outputs": [
    {
     "name": "stdout",
     "output_type": "stream",
     "text": [
      "K =  6 Works best for custom model.Accuracy =  0.9574468085106383\n",
      "K =  1 Works best for inbuilt SKlearn function.Accuracy =  0.7021276595744681\n"
     ]
    }
   ],
   "source": [
    "print(\"K = \",K_max_cus,\"Works best for custom model.Accuracy = \",max_acc_cus)\n",
    "print(\"K = \",k_max_inb,\"Works best for inbuilt SKlearn function.Accuracy = \",max_acc_inb)"
   ]
  },
  {
   "cell_type": "markdown",
   "metadata": {},
   "source": [
    "### Brief Explanation of the Implementation\n",
    "\n",
    "**Data Preparation:**\n",
    "\n",
    "- The Iris dataset is loaded from a CSV file into a DataFrame.\n",
    "- The dataset is split into `test_data` (3 samples per variety) and `train_data` (remaining data).\n",
    "\n",
    "**Visualization:**\n",
    "\n",
    "- Scatter plots are created to visualize the relationship between sepal and petal dimensions for each variety. This helps in understanding the separability of the classes.\n",
    "\n",
    "**Custom K-Nearest Neighbors (KNN) Classifier:**\n",
    "\n",
    "- **Euclidean Distance Function:** Computes the distance between two points in a feature space.\n",
    "- **Predict Function:** Implements the KNN algorithm from scratch. For each test point, it calculates distances to all training points, finds the K nearest neighbors, and predicts the class based on majority voting.\n",
    "\n",
    "**Scikit-Learn KNN Classifier:**\n",
    "\n",
    "- Utilizes the `KNeighborsClassifier` from `scikit-learn` to fit the model on the training data and make predictions.\n",
    "\n",
    "**Model Evaluation:**\n",
    "\n",
    "- Accuracy is calculated for both the custom and scikit-learn KNN classifiers.\n",
    "- The best K value is determined by iterating over a range of K values (1 to 24) and evaluating accuracy for each.\n",
    "\n",
    "**Final Results:**\n",
    "\n",
    "- **Custom KNN Classifier:**\n",
    "  - Best K value: `6`\n",
    "  - Accuracy: `95.74%`\n",
    "\n",
    "- **Scikit-Learn KNN Classifier:**\n",
    "  - Best K value: `1`\n",
    "  - Accuracy: `70.21%`\n",
    "\n",
    "**Summary:**\n",
    "\n",
    "The custom KNN implementation achieved a higher accuracy of `95.74%` compared to the scikit-learn KNN classifier, which had an accuracy of `70.21%` on the training set. The discrepancy in performance may arise from differences in implementation details or data handling between the custom and library implementations.\n"
   ]
  },
  {
   "cell_type": "markdown",
   "metadata": {},
   "source": [
    "#### Question 3 "
   ]
  },
  {
   "cell_type": "markdown",
   "metadata": {},
   "source": [
    "3. For the same IRIS dataset, your next task is to perform correlation\n",
    "analysis to understand the relationships between these attributes.<br>\n",
    "a. Load the Iris dataset into Python and explore its structure,\n",
    "ensuring it contains relevant numerical attributes for correlation\n",
    "analysis.<br>\n",
    "b. Calculate the correlation coefficient between each pair of\n",
    "attributes in the Iris dataset.<br>\n",
    "c. Visualize the correlation matrix using a heatmap to better\n",
    "understand the strength and direction of the correlations among\n",
    "the iris flower attributes.<br>\n",
    "d. Identify highly correlated attribute pairs, both positively and\n",
    "negatively correlated, and discuss their implications in the\n",
    "context of iris flower characteristics.<br>\n",
    "e. Based on the correlation analysis, draw insights into which\n",
    "attributes might have a strong influence on the characteristics of\n",
    "iris flowers.<br>"
   ]
  },
  {
   "cell_type": "code",
   "execution_count": 90,
   "metadata": {},
   "outputs": [],
   "source": [
    "import pandas as pd\n",
    "import seaborn as sns\n",
    "import matplotlib.pyplot as plt\n"
   ]
  },
  {
   "cell_type": "code",
   "execution_count": 88,
   "metadata": {},
   "outputs": [
    {
     "data": {
      "text/html": [
       "<div>\n",
       "<style scoped>\n",
       "    .dataframe tbody tr th:only-of-type {\n",
       "        vertical-align: middle;\n",
       "    }\n",
       "\n",
       "    .dataframe tbody tr th {\n",
       "        vertical-align: top;\n",
       "    }\n",
       "\n",
       "    .dataframe thead th {\n",
       "        text-align: right;\n",
       "    }\n",
       "</style>\n",
       "<table border=\"1\" class=\"dataframe\">\n",
       "  <thead>\n",
       "    <tr style=\"text-align: right;\">\n",
       "      <th></th>\n",
       "      <th>sepal.length</th>\n",
       "      <th>sepal.width</th>\n",
       "      <th>petal.length</th>\n",
       "      <th>petal.width</th>\n",
       "      <th>variety</th>\n",
       "    </tr>\n",
       "  </thead>\n",
       "  <tbody>\n",
       "    <tr>\n",
       "      <th>0</th>\n",
       "      <td>5.1</td>\n",
       "      <td>3.5</td>\n",
       "      <td>1.4</td>\n",
       "      <td>0.2</td>\n",
       "      <td>Setosa</td>\n",
       "    </tr>\n",
       "    <tr>\n",
       "      <th>1</th>\n",
       "      <td>4.9</td>\n",
       "      <td>3.0</td>\n",
       "      <td>1.4</td>\n",
       "      <td>0.2</td>\n",
       "      <td>Setosa</td>\n",
       "    </tr>\n",
       "    <tr>\n",
       "      <th>2</th>\n",
       "      <td>4.7</td>\n",
       "      <td>3.2</td>\n",
       "      <td>1.3</td>\n",
       "      <td>0.2</td>\n",
       "      <td>Setosa</td>\n",
       "    </tr>\n",
       "    <tr>\n",
       "      <th>3</th>\n",
       "      <td>4.6</td>\n",
       "      <td>3.1</td>\n",
       "      <td>1.5</td>\n",
       "      <td>0.2</td>\n",
       "      <td>Setosa</td>\n",
       "    </tr>\n",
       "    <tr>\n",
       "      <th>4</th>\n",
       "      <td>5.0</td>\n",
       "      <td>3.6</td>\n",
       "      <td>1.4</td>\n",
       "      <td>0.2</td>\n",
       "      <td>Setosa</td>\n",
       "    </tr>\n",
       "  </tbody>\n",
       "</table>\n",
       "</div>"
      ],
      "text/plain": [
       "   sepal.length  sepal.width  petal.length  petal.width variety\n",
       "0           5.1          3.5           1.4          0.2  Setosa\n",
       "1           4.9          3.0           1.4          0.2  Setosa\n",
       "2           4.7          3.2           1.3          0.2  Setosa\n",
       "3           4.6          3.1           1.5          0.2  Setosa\n",
       "4           5.0          3.6           1.4          0.2  Setosa"
      ]
     },
     "execution_count": 88,
     "metadata": {},
     "output_type": "execute_result"
    }
   ],
   "source": [
    "iris_dataset = pd.read_csv('iris.csv')\n",
    "iris_dataset.head()"
   ]
  },
  {
   "cell_type": "code",
   "execution_count": 93,
   "metadata": {},
   "outputs": [
    {
     "name": "stdout",
     "output_type": "stream",
     "text": [
      "              sepal.length  sepal.width  petal.length  petal.width\n",
      "sepal.length      1.000000    -0.117570      0.871754     0.817941\n",
      "sepal.width      -0.117570     1.000000     -0.428440    -0.366126\n",
      "petal.length      0.871754    -0.428440      1.000000     0.962865\n",
      "petal.width       0.817941    -0.366126      0.962865     1.000000\n"
     ]
    }
   ],
   "source": [
    "correlation_matrix = iris_dataset.drop('variety',axis=1).corr()\n",
    "print(correlation_matrix)"
   ]
  },
  {
   "cell_type": "code",
   "execution_count": 94,
   "metadata": {},
   "outputs": [
    {
     "data": {
      "image/png": "[encoded data removed]",
      "text/plain": [
       "<Figure size 1000x800 with 2 Axes>"
      ]
     },
     "metadata": {},
     "output_type": "display_data"
    }
   ],
   "source": [
    "plt.figure(figsize=(10,8))\n",
    "sns.heatmap(correlation_matrix,annot=True,cmap='coolwarm',linewidths=0.5)\n",
    "plt.title(\"correlation Matrix HeatMap\")\n",
    "plt.show()"
   ]
  },
  {
   "cell_type": "code",
   "execution_count": 96,
   "metadata": {},
   "outputs": [
    {
     "name": "stdout",
     "output_type": "stream",
     "text": [
      "\n",
      "Highly Correlated Pairs:\n",
      "    Attribute 1   Attribute 2  Correlation\n",
      "1  sepal.length  petal.length     0.871754\n",
      "2  sepal.length   petal.width     0.817941\n",
      "4   sepal.width  petal.length    -0.428440\n",
      "5   sepal.width   petal.width    -0.366126\n",
      "9  petal.length   petal.width     0.962865\n"
     ]
    }
   ],
   "source": [
    "highly_correlated = correlation_matrix[(correlation_matrix > 0.7) | (correlation_matrix < -0.3)].stack().reset_index()\n",
    "highly_correlated = highly_correlated[highly_correlated['level_0'] != highly_correlated['level_1']]  # Remove diagonal\n",
    "highly_correlated.columns = ['Attribute 1', 'Attribute 2', 'Correlation']\n",
    "highly_correlated = highly_correlated.drop_duplicates(subset=['Correlation'], keep='first')\n",
    "print(\"\\nHighly Correlated Pairs:\")\n",
    "print(highly_correlated)"
   ]
  },
  {
   "cell_type": "markdown",
   "metadata": {},
   "source": [
    "**Petal Length and Petal Width**\n",
    "\n",
    "**Correlation**: 0.9629 (Positive)<br>\n",
    "**Implication**: The very high positive correlation between petal length and petal width indicates that as the petal length increases, the petal width also increases proportionally. This strong correlation highlights that petal dimensions are closely related, and changes in one dimension will likely reflect in the other. This can be particularly useful for species classification based on petal characteristics."
   ]
  },
  {
   "cell_type": "markdown",
   "metadata": {},
   "source": [
    "***Sepal Width and Petal Length***\n",
    "\n",
    "**Correlation**: -0.4284 (Negative)<br>\n",
    "**Implication**: A moderate negative correlation indicates that as sepal width increases, petal length tends to decrease. This suggests an inverse relationship, where flowers with wider sepals often have shorter petals, which might help in distinguishing species with contrasting sepal and petal lengths.\n"
   ]
  },
  {
   "cell_type": "markdown",
   "metadata": {},
   "source": [
    "### Summary of Correlation Analysis\n",
    "\n",
    "**Implementation:**\n",
    "\n",
    "1. **Data Preparation**:\n",
    "   - Loaded the Iris dataset from a CSV file into a DataFrame.\n",
    "   - Dropped the non-numeric `variety` column to focus on numerical features.\n",
    "\n",
    "2. **Correlation Analysis**:\n",
    "   - Calculated the correlation matrix for numerical features.\n",
    "   - Visualized the correlation matrix using a heatmap to identify relationships between features.\n",
    "   - Extracted pairs of features with high correlations (both positive and negative).\n",
    "\n",
    "3. **Results**:\n",
    "   - **Highly Correlated Pairs**:\n",
    "     - **Petal Length and Petal Width**: Correlation of `0.963` (strong positive).\n",
    "     - **Sepal Length and Petal Length**: Correlation of `0.872` (strong positive).\n",
    "     - **Sepal Length and Petal Width**: Correlation of `0.818` (strong positive).\n",
    "     - **Sepal Width and Petal Length**: Correlation of `-0.428` (moderate negative).\n",
    "     - **Sepal Width and Petal Width**: Correlation of `-0.366` (moderate negative).\n",
    "\n",
    "**Insights**:\n",
    "- High correlations indicate strong relationships between petal size features and sepal length.\n",
    "- Negative correlations suggest inverse relationships between sepal width and petal dimensions.\n",
    "- Understanding these correlations aids in feature selection and reduces redundancy in modeling.\n"
   ]
  },
  {
   "cell_type": "markdown",
   "metadata": {},
   "source": [
    "#### Question 4\n"
   ]
  },
  {
   "cell_type": "markdown",
   "metadata": {},
   "source": [
    "Given (hq − ht)^T = (0.5 0.5 -0.5 -0.25 -0.25) and  A \n",
    "\n",
    " Find the quadratic form distance."
   ]
  },
  {
   "cell_type": "code",
   "execution_count": 2,
   "metadata": {},
   "outputs": [],
   "source": [
    "import numpy as np\n",
    "import math"
   ]
  },
  {
   "cell_type": "code",
   "execution_count": 5,
   "metadata": {},
   "outputs": [
    {
     "name": "stdout",
     "output_type": "stream",
     "text": [
      "The quadratic form distance :  0.8081614937622307\n"
     ]
    }
   ],
   "source": [
    "X_T = np.array([0.5,0.5,-0.5,-0.25,-0.25])\n",
    "X = X_T.T\n",
    "A = np.array([[1, 0.135, 0.195, 0.137, 0.157], [0.137, 1, 0.2, 0.309, 0.143], [0.195, 0.2, 1, 0.157, 0.122], [0.137, 0.309, 0.157, 1, 0.195], [0.157, 0.143, 0.122, 0.195, 1]])\n",
    "dist = np.dot(X_T,A)\n",
    "ans = np.sqrt(np.dot(dist,X))\n",
    "print(\"The quadratic form distance : \",ans)"
   ]
  },
  {
   "cell_type": "code",
   "execution_count": null,
   "metadata": {},
   "outputs": [],
   "source": []
  }
 ],
 "metadata": {
  "kernelspec": {
   "display_name": "Python 3",
   "language": "python",
   "name": "python3"
  },
  "language_info": {
   "codemirror_mode": {
    "name": "ipython",
    "version": 3
   },
   "file_extension": ".py",
   "mimetype": "text/x-python",
   "name": "python",
   "nbconvert_exporter": "python",
   "pygments_lexer": "ipython3",
   "version": "3.11.9"
  }
 },
 "nbformat": 4,
 "nbformat_minor": 2
}
