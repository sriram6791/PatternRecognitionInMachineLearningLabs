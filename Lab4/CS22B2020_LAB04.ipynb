{
 "cells": [
  {
   "cell_type": "markdown",
   "metadata": {},
   "source": [
    "#### CS22B2020 <BR> G.Sriram"
   ]
  },
  {
   "cell_type": "markdown",
   "metadata": {},
   "source": [
    "#### Question 1\n",
    "In this question,  you will explore the concept of Mahalanobis distance and its application to classifying samples from the Iris dataset. The Iris dataset is a commonly used dataset in machine learning and consists of three classes of iris plants: Setosa, Versicolor, and Virginica. You will compute the Mahalanobis distance for one sample from each class and classify the samples based on their Mahalanobis distance.<br>\n",
    "Tasks:<br>\n",
    "Load the Iris dataset (csv file present in the classroom).<br>\n",
    "Choose one random sample from each class (Setosa, Versicolor, and Virginica) which will act as the test data.<br>\n",
    "Compute the mean vector and covariance matrix for each class (without the sample picked in the previous part, now it will act as the test data).<br>\n",
    "Calculate the Mahalanobis distance for each of the selected samples with each of the class using the formula:\n",
    "Mahalanobis distance = sqrt((x - μ)ᵀ * Σ⁻¹ * (x - μ))<br>\n",
    "Where:<br>\n",
    "x is the feature vector of the sample.<br>\n",
    "μ is the mean vector for each class.<br>\n",
    "Σ⁻¹ is the inverse of the covariance matrix for each class.<br>\n",
    "\n",
    "Compare the Mahalanobis distances for the three samples and classify each sample to the class with the smallest Mahalanobis distance.\n",
    "Print the original class and the predicted class for each sample, along with their Mahalanobis distances.\n"
   ]
  },
  {
   "cell_type": "code",
   "execution_count": 1,
   "metadata": {},
   "outputs": [],
   "source": [
    "import numpy as np\n",
    "import pandas as pd\n",
    "import matplotlib.pyplot as plt\n"
   ]
  },
  {
   "cell_type": "code",
   "execution_count": 2,
   "metadata": {},
   "outputs": [
    {
     "data": {
      "text/html": [
       "<div>\n",
       "<style scoped>\n",
       "    .dataframe tbody tr th:only-of-type {\n",
       "        vertical-align: middle;\n",
       "    }\n",
       "\n",
       "    .dataframe tbody tr th {\n",
       "        vertical-align: top;\n",
       "    }\n",
       "\n",
       "    .dataframe thead th {\n",
       "        text-align: right;\n",
       "    }\n",
       "</style>\n",
       "<table border=\"1\" class=\"dataframe\">\n",
       "  <thead>\n",
       "    <tr style=\"text-align: right;\">\n",
       "      <th></th>\n",
       "      <th>sepal.length</th>\n",
       "      <th>sepal.width</th>\n",
       "      <th>petal.length</th>\n",
       "      <th>petal.width</th>\n",
       "      <th>variety</th>\n",
       "    </tr>\n",
       "  </thead>\n",
       "  <tbody>\n",
       "    <tr>\n",
       "      <th>0</th>\n",
       "      <td>5.1</td>\n",
       "      <td>3.5</td>\n",
       "      <td>1.4</td>\n",
       "      <td>0.2</td>\n",
       "      <td>Setosa</td>\n",
       "    </tr>\n",
       "    <tr>\n",
       "      <th>1</th>\n",
       "      <td>4.9</td>\n",
       "      <td>3.0</td>\n",
       "      <td>1.4</td>\n",
       "      <td>0.2</td>\n",
       "      <td>Setosa</td>\n",
       "    </tr>\n",
       "    <tr>\n",
       "      <th>2</th>\n",
       "      <td>4.7</td>\n",
       "      <td>3.2</td>\n",
       "      <td>1.3</td>\n",
       "      <td>0.2</td>\n",
       "      <td>Setosa</td>\n",
       "    </tr>\n",
       "    <tr>\n",
       "      <th>3</th>\n",
       "      <td>4.6</td>\n",
       "      <td>3.1</td>\n",
       "      <td>1.5</td>\n",
       "      <td>0.2</td>\n",
       "      <td>Setosa</td>\n",
       "    </tr>\n",
       "    <tr>\n",
       "      <th>4</th>\n",
       "      <td>5.0</td>\n",
       "      <td>3.6</td>\n",
       "      <td>1.4</td>\n",
       "      <td>0.2</td>\n",
       "      <td>Setosa</td>\n",
       "    </tr>\n",
       "  </tbody>\n",
       "</table>\n",
       "</div>"
      ],
      "text/plain": [
       "   sepal.length  sepal.width  petal.length  petal.width variety\n",
       "0           5.1          3.5           1.4          0.2  Setosa\n",
       "1           4.9          3.0           1.4          0.2  Setosa\n",
       "2           4.7          3.2           1.3          0.2  Setosa\n",
       "3           4.6          3.1           1.5          0.2  Setosa\n",
       "4           5.0          3.6           1.4          0.2  Setosa"
      ]
     },
     "execution_count": 2,
     "metadata": {},
     "output_type": "execute_result"
    }
   ],
   "source": [
    "iris_dataset = pd.read_csv(\"iris.csv\")\n",
    "iris_dataset.head(5)"
   ]
  },
  {
   "cell_type": "code",
   "execution_count": 36,
   "metadata": {},
   "outputs": [],
   "source": [
    "# Sampeling\n",
    "setosa = iris_dataset[iris_dataset['variety']=='Setosa']\n",
    "virginica = iris_dataset[iris_dataset['variety'] == 'Virginica']\n",
    "versicolor = iris_dataset[iris_dataset['variety'] == 'Versicolor']\n"
   ]
  },
  {
   "cell_type": "code",
   "execution_count": 38,
   "metadata": {},
   "outputs": [
    {
     "data": {
      "text/html": [
       "<div>\n",
       "<style scoped>\n",
       "    .dataframe tbody tr th:only-of-type {\n",
       "        vertical-align: middle;\n",
       "    }\n",
       "\n",
       "    .dataframe tbody tr th {\n",
       "        vertical-align: top;\n",
       "    }\n",
       "\n",
       "    .dataframe thead th {\n",
       "        text-align: right;\n",
       "    }\n",
       "</style>\n",
       "<table border=\"1\" class=\"dataframe\">\n",
       "  <thead>\n",
       "    <tr style=\"text-align: right;\">\n",
       "      <th></th>\n",
       "      <th>sepal.length</th>\n",
       "      <th>sepal.width</th>\n",
       "      <th>petal.length</th>\n",
       "      <th>petal.width</th>\n",
       "      <th>variety</th>\n",
       "    </tr>\n",
       "  </thead>\n",
       "  <tbody>\n",
       "    <tr>\n",
       "      <th>17</th>\n",
       "      <td>5.1</td>\n",
       "      <td>3.5</td>\n",
       "      <td>1.4</td>\n",
       "      <td>0.3</td>\n",
       "      <td>Setosa</td>\n",
       "    </tr>\n",
       "    <tr>\n",
       "      <th>104</th>\n",
       "      <td>6.5</td>\n",
       "      <td>3.0</td>\n",
       "      <td>5.8</td>\n",
       "      <td>2.2</td>\n",
       "      <td>Virginica</td>\n",
       "    </tr>\n",
       "    <tr>\n",
       "      <th>71</th>\n",
       "      <td>6.1</td>\n",
       "      <td>2.8</td>\n",
       "      <td>4.0</td>\n",
       "      <td>1.3</td>\n",
       "      <td>Versicolor</td>\n",
       "    </tr>\n",
       "  </tbody>\n",
       "</table>\n",
       "</div>"
      ],
      "text/plain": [
       "     sepal.length  sepal.width  petal.length  petal.width     variety\n",
       "17            5.1          3.5           1.4          0.3      Setosa\n",
       "104           6.5          3.0           5.8          2.2   Virginica\n",
       "71            6.1          2.8           4.0          1.3  Versicolor"
      ]
     },
     "execution_count": 38,
     "metadata": {},
     "output_type": "execute_result"
    }
   ],
   "source": [
    "setosa_sample = setosa.sample(n=1)\n",
    "virginica_sample = virginica.sample(n=1)\n",
    "versicolor_sample = versicolor.sample(n=1)\n",
    "\n",
    "sample_dataset = pd.concat([setosa_sample,virginica_sample,versicolor_sample])\n",
    "sample_dataset"
   ]
  },
  {
   "cell_type": "code",
   "execution_count": 39,
   "metadata": {},
   "outputs": [
    {
     "data": {
      "text/plain": [
       "17"
      ]
     },
     "execution_count": 39,
     "metadata": {},
     "output_type": "execute_result"
    }
   ],
   "source": [
    "sample_dataset.index[0]"
   ]
  },
  {
   "cell_type": "code",
   "execution_count": 40,
   "metadata": {},
   "outputs": [],
   "source": [
    "# iris_dataset_without_samples = iris_dataset.drop(index=sample_dataset.index)"
   ]
  },
  {
   "cell_type": "code",
   "execution_count": 41,
   "metadata": {},
   "outputs": [],
   "source": [
    "setosa_without_sample = setosa.drop(index=setosa_sample.index)\n",
    "virginica_without_sample = virginica.drop(index = virginica_sample.index)\n",
    "versicolor_without_sample = versicolor.drop(index = versicolor_sample.index)"
   ]
  },
  {
   "cell_type": "code",
   "execution_count": 42,
   "metadata": {},
   "outputs": [],
   "source": [
    "setosa_without_sample = setosa_without_sample.drop(columns = ['variety'])\n",
    "virginica_without_sample = virginica_without_sample.drop(columns = ['variety'])\n",
    "versicolor_without_sample = versicolor_without_sample.drop(columns = ['variety'])"
   ]
  },
  {
   "cell_type": "code",
   "execution_count": 43,
   "metadata": {},
   "outputs": [],
   "source": [
    "setosa_mean = setosa_without_sample.mean(numeric_only=True).to_list()\n",
    "virginica_mean = virginica_without_sample.mean(numeric_only=True).to_list()\n",
    "versicolor_mean = versicolor_without_sample.mean(numeric_only=True).to_list()\n"
   ]
  },
  {
   "cell_type": "code",
   "execution_count": 44,
   "metadata": {},
   "outputs": [
    {
     "name": "stdout",
     "output_type": "stream",
     "text": [
      "Setosa mean :  [5.004081632653061, 3.426530612244899, 1.463265306122449, 0.24489795918367346]\n",
      "virginica mean :  [6.589795918367346, 2.973469387755102, 5.546938775510205, 2.022448979591837]\n",
      "versicolor mean : [5.93265306122449, 2.7693877551020414, 4.26530612244898, 1.3265306122448979]\n"
     ]
    }
   ],
   "source": [
    "print(\"Setosa mean : \",setosa_mean)\n",
    "print(\"virginica mean : \",virginica_mean)\n",
    "print(\"versicolor mean :\",versicolor_mean)"
   ]
  },
  {
   "cell_type": "code",
   "execution_count": 45,
   "metadata": {},
   "outputs": [],
   "source": [
    "x = np.array(sample_dataset.iloc[0].to_list()[:-1])\n",
    "x_minus_setosamean = x - setosa_mean\n"
   ]
  },
  {
   "cell_type": "code",
   "execution_count": 46,
   "metadata": {},
   "outputs": [
    {
     "data": {
      "text/plain": [
       "(4, 4)"
      ]
     },
     "execution_count": 46,
     "metadata": {},
     "output_type": "execute_result"
    }
   ],
   "source": [
    "cov_setosa = np.cov(setosa_without_sample.T)\n",
    "cov_setosa.shape"
   ]
  },
  {
   "cell_type": "code",
   "execution_count": 47,
   "metadata": {},
   "outputs": [
    {
     "data": {
      "text/plain": [
       "array([[ 18.57390657, -12.15593966,  -4.4781631 ,  -4.56147577],\n",
       "       [-12.15593966,  15.25384387,   1.10587828,  -2.09049367],\n",
       "       [ -4.4781631 ,   1.10587828,  38.27027186, -18.04818965],\n",
       "       [ -4.56147577,  -2.09049367, -18.04818965, 104.68616782]])"
      ]
     },
     "execution_count": 47,
     "metadata": {},
     "output_type": "execute_result"
    }
   ],
   "source": [
    "inv_covmat = np.linalg.inv(cov_setosa)\n",
    "inv_covmat"
   ]
  },
  {
   "cell_type": "code",
   "execution_count": 48,
   "metadata": {},
   "outputs": [
    {
     "data": {
      "text/plain": [
       "array([ 0.92045508, -0.23044151, -3.76396244,  6.31912914])"
      ]
     },
     "execution_count": 48,
     "metadata": {},
     "output_type": "execute_result"
    }
   ],
   "source": [
    "left_term = np.dot(x_minus_setosamean,inv_covmat)\n",
    "left_term"
   ]
  },
  {
   "cell_type": "code",
   "execution_count": 49,
   "metadata": {},
   "outputs": [
    {
     "data": {
      "text/plain": [
       "0.6576832997461608"
      ]
     },
     "execution_count": 49,
     "metadata": {},
     "output_type": "execute_result"
    }
   ],
   "source": [
    "mahal = np.dot(left_term,x_minus_setosamean.T)\n",
    "mahal"
   ]
  },
  {
   "cell_type": "code",
   "execution_count": 50,
   "metadata": {},
   "outputs": [
    {
     "data": {
      "text/plain": [
       "4.430305631393262"
      ]
     },
     "execution_count": 50,
     "metadata": {},
     "output_type": "execute_result"
    }
   ],
   "source": [
    "x = np.array(sample_dataset.iloc[0].to_list()[:-1])\n",
    "x_minus_virginicamean = x - virginica_mean\n",
    "\n",
    "cov_virginaca = np.cov(virginica_without_sample.T)\n",
    "inv_covmat = np.linalg.inv(cov_virginaca)\n",
    "left_term = np.dot(x_minus_virginicamean,inv_covmat)\n",
    "mahal = np.dot(left_term,x_minus_setosamean.T)\n",
    "mahal"
   ]
  },
  {
   "cell_type": "code",
   "execution_count": 51,
   "metadata": {},
   "outputs": [
    {
     "data": {
      "text/plain": [
       "2.674760695501542"
      ]
     },
     "execution_count": 51,
     "metadata": {},
     "output_type": "execute_result"
    }
   ],
   "source": [
    "\n",
    "x = np.array(sample_dataset.iloc[0].to_list()[:-1])\n",
    "x_minus_versicolormean = x - versicolor_mean\n",
    "\n",
    "cov_versicolor = np.cov(versicolor_without_sample.T)\n",
    "inv_covmat = np.linalg.inv(cov_versicolor)\n",
    "left_term = np.dot(x_minus_versicolormean,inv_covmat)\n",
    "mahal = np.dot(left_term,x_minus_setosamean.T)\n",
    "mahal"
   ]
  },
  {
   "cell_type": "code",
   "execution_count": 52,
   "metadata": {},
   "outputs": [
    {
     "name": "stdout",
     "output_type": "stream",
     "text": [
      "[0.6576832997461608, 4.430305631393262, 2.674760695501542]\n",
      "0\n"
     ]
    }
   ],
   "source": [
    "ids = []\n",
    "x = np.array(sample_dataset.iloc[0].to_list()[:-1])\n",
    "x_minus_setosamean = x - setosa_mean\n",
    "cov_setosa = np.cov(setosa_without_sample.T)\n",
    "inv_covmat = np.linalg.inv(cov_setosa)\n",
    "left_term = np.dot(x_minus_setosamean,inv_covmat)\n",
    "mahal = np.dot(left_term,x_minus_setosamean.T)\n",
    "ids.append(mahal)\n",
    "\n",
    "x = np.array(sample_dataset.iloc[0].to_list()[:-1])\n",
    "x_minus_virginicamean = x - virginica_mean\n",
    "\n",
    "cov_virginaca = np.cov(virginica_without_sample.T)\n",
    "inv_covmat = np.linalg.inv(cov_virginaca)\n",
    "left_term = np.dot(x_minus_virginicamean,inv_covmat)\n",
    "mahal = np.dot(left_term,x_minus_setosamean.T)\n",
    "ids.append(mahal)\n",
    "\n",
    "\n",
    "x = np.array(sample_dataset.iloc[0].to_list()[:-1])\n",
    "x_minus_versicolormean = x - versicolor_mean\n",
    "\n",
    "cov_versicolor = np.cov(versicolor_without_sample.T)\n",
    "inv_covmat = np.linalg.inv(cov_versicolor)\n",
    "left_term = np.dot(x_minus_versicolormean,inv_covmat)\n",
    "mahal = np.dot(left_term,x_minus_setosamean.T)\n",
    "ids.append(mahal)\n",
    "\n",
    "print(ids)\n",
    "print(np.argmin(ids))\n"
   ]
  },
  {
   "cell_type": "code",
   "execution_count": 53,
   "metadata": {},
   "outputs": [
    {
     "name": "stdout",
     "output_type": "stream",
     "text": [
      "[788.3237047539675, 16.587267143350594, 76.33053408921745]\n",
      "1\n"
     ]
    }
   ],
   "source": [
    "ids = []\n",
    "x = np.array(sample_dataset.iloc[1].to_list()[:-1])\n",
    "x_minus_setosamean = x - setosa_mean\n",
    "cov_setosa = np.cov(setosa_without_sample.T)\n",
    "inv_covmat = np.linalg.inv(cov_setosa)\n",
    "left_term = np.dot(x_minus_setosamean,inv_covmat)\n",
    "mahal = np.dot(left_term,x_minus_setosamean.T)\n",
    "ids.append(mahal)\n",
    "\n",
    "x = np.array(sample_dataset.iloc[1].to_list()[:-1])\n",
    "x_minus_virginicamean = x - virginica_mean\n",
    "\n",
    "cov_virginaca = np.cov(virginica_without_sample.T)\n",
    "inv_covmat = np.linalg.inv(cov_virginaca)\n",
    "left_term = np.dot(x_minus_virginicamean,inv_covmat)\n",
    "mahal = np.dot(left_term,x_minus_setosamean.T)\n",
    "ids.append(mahal)\n",
    "\n",
    "\n",
    "x = np.array(sample_dataset.iloc[1].to_list()[:-1])\n",
    "x_minus_versicolormean = x - versicolor_mean\n",
    "\n",
    "cov_versicolor = np.cov(versicolor_without_sample.T)\n",
    "inv_covmat = np.linalg.inv(cov_versicolor)\n",
    "left_term = np.dot(x_minus_versicolormean,inv_covmat)\n",
    "mahal = np.dot(left_term,x_minus_setosamean.T)\n",
    "ids.append(mahal)\n",
    "\n",
    "print(ids)\n",
    "print(np.argmin(ids))\n"
   ]
  },
  {
   "cell_type": "code",
   "execution_count": 54,
   "metadata": {},
   "outputs": [
    {
     "name": "stdout",
     "output_type": "stream",
     "text": [
      "[274.98798468526957, -36.737569582683456, -5.543945357315162]\n",
      "1\n"
     ]
    }
   ],
   "source": [
    "ids = []\n",
    "x = np.array(sample_dataset.iloc[2].to_list()[:-1])\n",
    "x_minus_setosamean = x - setosa_mean\n",
    "cov_setosa = np.cov(setosa_without_sample.T)\n",
    "inv_covmat = np.linalg.inv(cov_setosa)\n",
    "left_term = np.dot(x_minus_setosamean,inv_covmat)\n",
    "mahal = np.dot(left_term,x_minus_setosamean.T)\n",
    "ids.append(mahal)\n",
    "\n",
    "x = np.array(sample_dataset.iloc[2].to_list()[:-1])\n",
    "x_minus_virginicamean = x - virginica_mean\n",
    "\n",
    "cov_virginaca = np.cov(virginica_without_sample.T)\n",
    "inv_covmat = np.linalg.inv(cov_virginaca)\n",
    "left_term = np.dot(x_minus_virginicamean,inv_covmat)\n",
    "mahal = np.dot(left_term,x_minus_setosamean.T)\n",
    "ids.append(mahal)\n",
    "\n",
    "\n",
    "x = np.array(sample_dataset.iloc[2].to_list()[:-1])\n",
    "x_minus_versicolormean = x - versicolor_mean\n",
    "\n",
    "cov_versicolor = np.cov(versicolor_without_sample.T)\n",
    "inv_covmat = np.linalg.inv(cov_versicolor)\n",
    "left_term = np.dot(x_minus_versicolormean,inv_covmat)\n",
    "mahal = np.dot(left_term,x_minus_setosamean.T)\n",
    "ids.append(mahal)\n",
    "\n",
    "print(ids)\n",
    "print(np.argmin(ids))\n"
   ]
  },
  {
   "cell_type": "code",
   "execution_count": 55,
   "metadata": {},
   "outputs": [
    {
     "name": "stdout",
     "output_type": "stream",
     "text": [
      "Original Class: Setosa\n",
      "Predicted Class: Setosa\n",
      "Distances: {'Setosa': 0.8109767566004347, 'Virginica': 13.32345285033217, 'Versicolor': 10.349643347217144}\n",
      "\n",
      "Original Class: Virginica\n",
      "Predicted Class: Virginica\n",
      "Distances: {'Setosa': 28.077102855422375, 'Virginica': 1.293227778143137, 'Versicolor': 5.354672804472012}\n",
      "\n",
      "Original Class: Versicolor\n",
      "Predicted Class: Versicolor\n",
      "Distances: {'Setosa': 16.58276167244978, 'Virginica': 4.7947254527344025, 'Versicolor': 1.4395065178196287}\n",
      "\n"
     ]
    }
   ],
   "source": [
    "# Manually calculate the covariance matrix for each class\n",
    "def calculate_covariance_matrix(data):\n",
    "    mean_vector = data.mean(axis=0)\n",
    "    data_centered = data - mean_vector\n",
    "    covariance_matrix = np.dot(data_centered.T, data_centered) / (data_centered.shape[0] - 1)\n",
    "    return covariance_matrix\n",
    "\n",
    "cov_setosa = calculate_covariance_matrix(setosa_without_sample.to_numpy())\n",
    "cov_virginica = calculate_covariance_matrix(virginica_without_sample.to_numpy())\n",
    "cov_versicolor = calculate_covariance_matrix(versicolor_without_sample.to_numpy())\n",
    "\n",
    "# Calculate the inverse of the covariance matrix for each class\n",
    "inv_cov_setosa = np.linalg.inv(cov_setosa)\n",
    "inv_cov_virginica = np.linalg.inv(cov_virginica)\n",
    "inv_cov_versicolor = np.linalg.inv(cov_versicolor)\n",
    "\n",
    "# Function to calculate Mahalanobis distance\n",
    "def mahalanobis_distance(x, mean, inv_covmat):\n",
    "    diff = x - mean\n",
    "    return np.sqrt(np.dot(np.dot(diff, inv_covmat), diff.T))\n",
    "\n",
    "# Calculate Mahalanobis distances and classify each sample\n",
    "results = []\n",
    "for i, row in sample_dataset.iterrows():\n",
    "    x = row.drop('variety').to_numpy()\n",
    "    distances = {\n",
    "        'Setosa': mahalanobis_distance(x, setosa_mean, inv_cov_setosa),\n",
    "        'Virginica': mahalanobis_distance(x, virginica_mean, inv_cov_virginica),\n",
    "        'Versicolor': mahalanobis_distance(x, versicolor_mean, inv_cov_versicolor)\n",
    "    }\n",
    "    predicted_class = min(distances, key=distances.get)\n",
    "    results.append({\n",
    "        'Original Class': row['variety'],\n",
    "        'Predicted Class': predicted_class,\n",
    "        'Distances': distances\n",
    "    })\n",
    "\n",
    "# Print the results\n",
    "for result in results:\n",
    "    print(f\"Original Class: {result['Original Class']}\")\n",
    "    print(f\"Predicted Class: {result['Predicted Class']}\")\n",
    "    print(f\"Distances: {result['Distances']}\")\n",
    "    print()"
   ]
  },
  {
   "cell_type": "markdown",
   "metadata": {},
   "source": [
    "You are conducting a study to explore the relationships between various\n",
    "factors and their potential correlation with the test scores of a group of\n",
    "individuals. You have gathered data from a group of individuals, and the\n",
    "table below represents the hours spent on different activities, along with their\n",
    "corresponding test scores. Your task is to analyze the data and determine the\n",
    "type of correlation, if any, between each variable and the test scores, without\n",
    "using built-in functions for calculating correlation.<br>\n",
    "\n",
    "\n",
    "● Based on the provided data, calculate and interpret the correlation coefficient\n",
    "for each variable in relation to the test scores. Identify the variables that\n",
    "show a positive correlation, a negative correlation, and no significant\n",
    "correlation with the test scores.<br>\n",
    "● Explain why there might be a positive correlation between the \"Hours\n",
    "Studied\" variable and the test scores. Provide a brief discussion on how this\n",
    "information could be valuable for improving academic performance.<br>\n",
    "● Calculate and interpret the correlation coefficient between \"Hours Watching\n",
    "TV\" and test scores. Explain the implications of this correlation in terms of\n",
    "academic achievement and time management.<br>\n",
    "● Calculate and interpret the correlation coefficient between \"Hours Listening\n",
    "to Music\" and test scores. Discuss the potential impact of this correlation on\n",
    "concentration and study habits.<br>\n",
    "● Calculate and interpret the correlation coefficient between \"Water\n",
    "Consumed\" and test scores. Provide a potential explanation for the observed\n",
    "correlation and its relevance to cognitive function.<br>\n",
    "● Calculate and interpret the correlation coefficient between \"Outdoor Activity\n",
    "Time\" and test scores. Discuss how physical activity might influence\n",
    "academic performance.\n",
    "You are not allowed to use built-in functions to calculate correlation. Instead, you\n",
    "should perform the calculations manually, showing all steps clearly. Analyze the\n",
    "correlations between each variable and the test scores to draw meaningful insights\n",
    "from the data."
   ]
  },
  {
   "cell_type": "code",
   "execution_count": 22,
   "metadata": {},
   "outputs": [],
   "source": [
    "import numpy as np\n",
    "import pandas as pd"
   ]
  },
  {
   "cell_type": "code",
   "execution_count": 23,
   "metadata": {},
   "outputs": [
    {
     "data": {
      "text/html": [
       "<div>\n",
       "<style scoped>\n",
       "    .dataframe tbody tr th:only-of-type {\n",
       "        vertical-align: middle;\n",
       "    }\n",
       "\n",
       "    .dataframe tbody tr th {\n",
       "        vertical-align: top;\n",
       "    }\n",
       "\n",
       "    .dataframe thead th {\n",
       "        text-align: right;\n",
       "    }\n",
       "</style>\n",
       "<table border=\"1\" class=\"dataframe\">\n",
       "  <thead>\n",
       "    <tr style=\"text-align: right;\">\n",
       "      <th></th>\n",
       "      <th>Hours Studied</th>\n",
       "      <th>Hours Watching TV</th>\n",
       "      <th>Outdoor Activity Time</th>\n",
       "      <th>Hours Listening to Music</th>\n",
       "      <th>Water Consumed</th>\n",
       "      <th>Test Score</th>\n",
       "    </tr>\n",
       "  </thead>\n",
       "  <tbody>\n",
       "    <tr>\n",
       "      <th>0</th>\n",
       "      <td>2</td>\n",
       "      <td>4</td>\n",
       "      <td>2</td>\n",
       "      <td>2</td>\n",
       "      <td>5</td>\n",
       "      <td>65</td>\n",
       "    </tr>\n",
       "    <tr>\n",
       "      <th>1</th>\n",
       "      <td>3</td>\n",
       "      <td>3</td>\n",
       "      <td>4</td>\n",
       "      <td>3</td>\n",
       "      <td>6</td>\n",
       "      <td>70</td>\n",
       "    </tr>\n",
       "    <tr>\n",
       "      <th>2</th>\n",
       "      <td>4</td>\n",
       "      <td>2</td>\n",
       "      <td>6</td>\n",
       "      <td>4</td>\n",
       "      <td>5</td>\n",
       "      <td>75</td>\n",
       "    </tr>\n",
       "    <tr>\n",
       "      <th>3</th>\n",
       "      <td>5</td>\n",
       "      <td>1</td>\n",
       "      <td>8</td>\n",
       "      <td>1</td>\n",
       "      <td>6</td>\n",
       "      <td>80</td>\n",
       "    </tr>\n",
       "    <tr>\n",
       "      <th>4</th>\n",
       "      <td>6</td>\n",
       "      <td>0</td>\n",
       "      <td>10</td>\n",
       "      <td>5</td>\n",
       "      <td>4</td>\n",
       "      <td>85</td>\n",
       "    </tr>\n",
       "  </tbody>\n",
       "</table>\n",
       "</div>"
      ],
      "text/plain": [
       "   Hours Studied  Hours Watching TV  Outdoor Activity Time  \\\n",
       "0              2                  4                      2   \n",
       "1              3                  3                      4   \n",
       "2              4                  2                      6   \n",
       "3              5                  1                      8   \n",
       "4              6                  0                     10   \n",
       "\n",
       "   Hours Listening to Music  Water Consumed  Test Score  \n",
       "0                         2               5          65  \n",
       "1                         3               6          70  \n",
       "2                         4               5          75  \n",
       "3                         1               6          80  \n",
       "4                         5               4          85  "
      ]
     },
     "execution_count": 23,
     "metadata": {},
     "output_type": "execute_result"
    }
   ],
   "source": [
    "\n",
    "# Define the data\n",
    "data = {\n",
    "    \"Hours Studied\": [2, 3, 4, 5, 6, 7],\n",
    "    \"Hours Watching TV\": [4, 3, 2, 1, 0, 0],\n",
    "    \"Outdoor Activity Time\": [2, 4, 6, 8, 10, 12],\n",
    "    \"Hours Listening to Music\": [2, 3, 4, 1, 5, 0],\n",
    "    \"Water Consumed\": [5, 6, 5, 6, 4, 5],\n",
    "    \"Test Score\": [65, 70, 75, 80, 85, 90]\n",
    "}\n",
    "\n",
    "# Create a DataFrame\n",
    "df = pd.DataFrame(data)\n",
    "\n",
    "# Display the DataFrame\n",
    "df.head(5)\n"
   ]
  },
  {
   "cell_type": "code",
   "execution_count": 24,
   "metadata": {},
   "outputs": [
    {
     "data": {
      "text/plain": [
       "0   -12.5\n",
       "1    -7.5\n",
       "2    -2.5\n",
       "3     2.5\n",
       "4     7.5\n",
       "5    12.5\n",
       "Name: Test Score, dtype: float64"
      ]
     },
     "execution_count": 24,
     "metadata": {},
     "output_type": "execute_result"
    }
   ],
   "source": [
    "(df['Test Score'] - df['Test Score'].mean())"
   ]
  },
  {
   "cell_type": "code",
   "execution_count": 25,
   "metadata": {},
   "outputs": [],
   "source": [
    "def pearson_correlation_coefficient(x,y):\n",
    "    # expecting x,y as pd df\n",
    "    x_mean = x.mean() \n",
    "    y_mean = y.mean() \n",
    "    x_minus_xmean = x - x_mean \n",
    "    y_minus_ymean = y - y_mean \n",
    "    numarator = (x_minus_xmean * y_minus_ymean).sum()\n",
    "    denominator = (((x_minus_xmean)**2).sum() * ((y_minus_ymean)**2).sum())**0.5\n",
    "    \n",
    "    return numarator / denominator"
   ]
  },
  {
   "cell_type": "code",
   "execution_count": 26,
   "metadata": {},
   "outputs": [],
   "source": [
    "study_test = pearson_correlation_coefficient(df['Hours Studied'],df['Test Score'])\n",
    "TV_test = pearson_correlation_coefficient(df['Hours Watching TV'],df['Test Score'])\n",
    "outdoor_test = pearson_correlation_coefficient(df['Outdoor Activity Time'],df['Test Score'])\n",
    "music_test = pearson_correlation_coefficient(df['Hours Listening to Music'],df['Test Score'])\n",
    "water_test = pearson_correlation_coefficient(df['Water Consumed'],df['Test Score'])"
   ]
  },
  {
   "cell_type": "code",
   "execution_count": 27,
   "metadata": {},
   "outputs": [
    {
     "name": "stdout",
     "output_type": "stream",
     "text": [
      "Hours Studied and Test Score: 1.00\n",
      "Hours Watching TV and Test Score: -0.98\n",
      "Outdoor Activity Time and Test Score: 1.00\n",
      "Hours Listening to Music and Test Score: -0.20\n",
      "Water Consumed and Test Score: -0.36\n",
      "\n",
      "Maximum correlation: Hours Studied and Test Score (1.00)\n",
      "Minimum correlation: Hours Watching TV and Test Score (-0.98)\n"
     ]
    }
   ],
   "source": [
    "# Print all correlations with descriptions\n",
    "print(f\"Hours Studied and Test Score: {study_test:.2f}\")\n",
    "print(f\"Hours Watching TV and Test Score: {TV_test:.2f}\")\n",
    "print(f\"Outdoor Activity Time and Test Score: {outdoor_test:.2f}\")\n",
    "print(f\"Hours Listening to Music and Test Score: {music_test:.2f}\")\n",
    "print(f\"Water Consumed and Test Score: {water_test:.2f}\")\n",
    "\n",
    "# Store all correlations in a dictionary for comparison\n",
    "correlations = {\n",
    "    \"Hours Studied and Test Score\": study_test,\n",
    "    \"Hours Watching TV and Test Score\": TV_test,\n",
    "    \"Outdoor Activity Time and Test Score\": outdoor_test,\n",
    "    \"Hours Listening to Music and Test Score\": music_test,\n",
    "    \"Water Consumed and Test Score\": water_test\n",
    "}\n",
    "\n",
    "# Find the maximum and minimum correlation values\n",
    "max_correlation = max(correlations, key=correlations.get)\n",
    "min_correlation = min(correlations, key=correlations.get)\n",
    "\n",
    "# Print which has the maximum and minimum correlation\n",
    "print(f\"\\nMaximum correlation: {max_correlation} ({correlations[max_correlation]:.2f})\")\n",
    "print(f\"Minimum correlation: {min_correlation} ({correlations[min_correlation]:.2f})\")\n"
   ]
  },
  {
   "cell_type": "code",
   "execution_count": 28,
   "metadata": {},
   "outputs": [],
   "source": [
    "# Remaining questions"
   ]
  },
  {
   "cell_type": "markdown",
   "metadata": {},
   "source": [
    "---\n",
    "\n",
    "### 1. Positive Correlation Between \"Hours Studied\" and Test Scores\n",
    "\n",
    "- **Correlation coefficient**: **1.0** (perfect positive)\n",
    "- **Interpretation**: More study time leads to higher test scores.\n",
    "- **Implication**: Prioritizing study time improves academic performance.\n",
    "\n",
    "---\n",
    "\n",
    "### 2. Correlation Between \"Hours Watching TV\" and Test Scores\n",
    "\n",
    "- **Correlation coefficient**: **-0.98** (strong negative)\n",
    "- **Interpretation**: More TV time leads to lower test scores.\n",
    "- **Implication**: Reducing TV time can improve academic achievement and time management.\n",
    "\n",
    "---\n",
    "\n",
    "### 3. Correlation Between \"Hours Listening to Music\" and Test Scores\n",
    "\n",
    "- **Correlation coefficient**: **-0.20** (weak negative)\n",
    "- **Interpretation**: Music slightly reduces test scores.\n",
    "- **Implication**: Music may affect concentration; silence or instrumental music could help.\n",
    "\n",
    "---\n",
    "\n",
    "### 4. Correlation Between \"Water Consumed\" and Test Scores\n",
    "\n",
    "- **Correlation coefficient**: **-0.36** (moderate negative)\n",
    "- **Interpretation**: More water consumption correlates with lower test scores.\n",
    "- **Implication**: Optimal hydration is important; avoid over-hydration to minimize distractions.\n",
    "\n",
    "---\n",
    "\n",
    "### 5. Correlation Between \"Outdoor Activity Time\" and Test Scores\n",
    "\n",
    "- **Correlation coefficient**: **1.0** (perfect positive)\n",
    "- **Interpretation**: More outdoor activity correlates with higher test scores.\n",
    "- **Implication**: Physical activity enhances cognitive function and academic performance.\n",
    "\n",
    "---\n"
   ]
  },
  {
   "cell_type": "markdown",
   "metadata": {},
   "source": [
    "3.Consider the following images. Obtain the histograms for each of the images. Using a suitable distance measure (Bhattacharyya Distance) , find the distance between the query image and reference images. You can use the inbuilt function to calculate the Bhattacharyya Distance between two histograms, check classroom post for more information.\n"
   ]
  },
  {
   "cell_type": "code",
   "execution_count": 29,
   "metadata": {},
   "outputs": [
    {
     "data": {
      "image/png": "[encoded data removed]",
      "text/plain": [
       "<Figure size 640x480 with 1 Axes>"
      ]
     },
     "metadata": {},
     "output_type": "display_data"
    },
    {
     "data": {
      "image/png": "[encoded data removed]",
      "text/plain": [
       "<Figure size 640x480 with 1 Axes>"
      ]
     },
     "metadata": {},
     "output_type": "display_data"
    },
    {
     "data": {
      "image/png": "[encoded data removed]",
      "text/plain": [
       "<Figure size 640x480 with 1 Axes>"
      ]
     },
     "metadata": {},
     "output_type": "display_data"
    },
    {
     "name": "stdout",
     "output_type": "stream",
     "text": [
      "Bhattacharyya Distance between query image and reference image 1: 0.1936009243969411\n",
      "Bhattacharyya Distance between query image and reference image 2: 0.6462874280090387\n"
     ]
    }
   ],
   "source": [
    "import cv2\n",
    "import numpy as np\n",
    "import matplotlib.pyplot as plt\n",
    "\n",
    "def compute_histogram(image):\n",
    "    gray_image = cv2.cvtColor(image,cv2.COLOR_BGR2GRAY)\n",
    "    hist = cv2.calcHist([gray_image],[0],None,[256],[0,256])\n",
    "    hist = cv2.normalize(hist,hist).flatten()\n",
    "    \n",
    "    return hist\n",
    "\n",
    "def bhattacharyya_distance(hist1,hist2):\n",
    "    return cv2.compareHist(hist1,hist2,cv2.HISTCMP_BHATTACHARYYA)\n",
    "\n",
    "def plot_histogram(image,title):\n",
    "    hist = compute_histogram(image)\n",
    "    plt.figure()\n",
    "    plt.title(title)\n",
    "    plt.xlabel('Pixel Intensity')\n",
    "    plt.ylabel('Frequency')\n",
    "    plt.plot(hist)\n",
    "    plt.xlim([0,256])\n",
    "    plt.show()\n",
    "    \n",
    "    \n",
    "    # Load the query and reference images\n",
    "query_image = cv2.imread('queryimage.png')\n",
    "reference_image_1 = cv2.imread('refimage1.png')\n",
    "reference_image_2 = cv2.imread('refimage2.png')\n",
    "\n",
    "# Compute histograms for the images\n",
    "query_hist = compute_histogram(query_image)\n",
    "ref_hist_1 = compute_histogram(reference_image_1)\n",
    "ref_hist_2 = compute_histogram(reference_image_2)\n",
    "\n",
    "# Plot histograms\n",
    "plot_histogram(query_image, 'Query Image Histogram')\n",
    "plot_histogram(reference_image_1, 'Reference Image 1 Histogram')\n",
    "plot_histogram(reference_image_2, 'Reference Image 2 Histogram')\n",
    "\n",
    "# Calculate Bhattacharyya distances\n",
    "distance_ref_1 = bhattacharyya_distance(query_hist, ref_hist_1)\n",
    "distance_ref_2 = bhattacharyya_distance(query_hist, ref_hist_2)\n",
    "\n",
    "# Display the results\n",
    "print(f\"Bhattacharyya Distance between query image and reference image 1: {distance_ref_1}\")\n",
    "print(f\"Bhattacharyya Distance between query image and reference image 2: {distance_ref_2}\")"
   ]
  },
  {
   "cell_type": "markdown",
   "metadata": {},
   "source": [
    "- The Bhattacharyya distance between the query image and reference image 1 is 0.1936, which is quite low, indicating a higher similarity between the query image and reference image 1.<br><br>\n",
    "- .The Bhattacharyya distance between the query image and reference image 2 is 0.6463, which is significantly higher, indicating that the query image is much less similar to reference image 2."
   ]
  },
  {
   "cell_type": "markdown",
   "metadata": {},
   "source": [
    "#### Part B\n",
    "NOTE :- Do NOT use the inbuilt function for calculating KL Distance, Bhattacharyya Distance and Cosine Distance directly, you can use functions required to build the distances from scratch like inverse of a matrix, etc. <br><br>\n",
    "Calculate the distance between the two normalized histograms H1 and H2 using each of the following methods:<br>\n",
    "(a) KL Distance<br>\n",
    "(b) Bhattacharyya Distance<br><br>\n",
    "H1 = [ 0.24, 0.2, 0.16, 0.12, 0.08, 0.04, 0.12, 0.04]<br>\n",
    "H2 = [ 0.22, 0.23, 0.16, 0.13, 0.11, 0.08, 0.05, 0.02]<br><br>\n",
    "Compare two text files doc1.txt and doc2.txt using cosine distance.<br>\n",
    "doc1.txt<br>\n",
    "“ MATLAB is a program for solving engineering and mathematical problems. The basic MATLAB objects are vectors and matrices, so you must be familiar with these before making extensive use of this program.”<br>\n",
    "doc2.txt<br>\n",
    "“MATLAB works with essentially one kind of object, a rectangular numerical matrix. Here is some basic information on using MATLAB matrix commands.”<br>\n"
   ]
  },
  {
   "cell_type": "code",
   "execution_count": 30,
   "metadata": {},
   "outputs": [],
   "source": [
    "def KL_Distance(x,y):\n",
    "    P = np.array(x)\n",
    "    Q = np.array(y)\n",
    "    \n",
    "    return np.sum(P * np.log(P/Q))\n",
    "\n",
    "def battacharyya_distance(P,Q):\n",
    "    P=np.array(P)\n",
    "    Q=np.array(Q)\n",
    "    \n",
    "    return -np.log(np.sum(np.sqrt(P*Q)))\n",
    "def cosine_distance(P,Q):\n",
    "    P=np.array(P)\n",
    "    Q=np.array(Q)\n",
    "    \n",
    "    return 1 - np.dot(P,Q) / (np.linalg.norm(P) * np.linalg.norm(Q))"
   ]
  },
  {
   "cell_type": "code",
   "execution_count": 31,
   "metadata": {},
   "outputs": [],
   "source": [
    "H1 = [ 0.24, 0.2, 0.16, 0.12, 0.08, 0.04, 0.12, 0.04]\n",
    "H2 = [ 0.22, 0.23, 0.16, 0.13, 0.11, 0.08, 0.05, 0.02]\n"
   ]
  },
  {
   "cell_type": "code",
   "execution_count": 32,
   "metadata": {},
   "outputs": [
    {
     "name": "stdout",
     "output_type": "stream",
     "text": [
      " KL Distance :  0.06290516707464022\n",
      " Battacharyya Distance :  0.014830056106628986\n"
     ]
    }
   ],
   "source": [
    "kl = KL_Distance(H1,H2)\n",
    "BD = battacharyya_distance(H1,H2)\n",
    "\n",
    "print(\" KL Distance : \",kl)\n",
    "print(\" Battacharyya Distance : \",BD)"
   ]
  },
  {
   "cell_type": "code",
   "execution_count": 33,
   "metadata": {},
   "outputs": [
    {
     "name": "stdout",
     "output_type": "stream",
     "text": [
      "Cosine Distance between doc1 and doc2: 0.8466015342435231\n"
     ]
    }
   ],
   "source": [
    "from sklearn.feature_extraction.text import TfidfVectorizer\n",
    "from sklearn.metrics.pairwise import cosine_similarity\n",
    "import numpy as np\n",
    "\n",
    "# Contents of doc1.txt and doc2.txt\n",
    "doc1 = \"\"\" MATLAB is a program for solving engineering and mathematical\n",
    "problems. The basic MATLAB objects are vectors and matrices, so you must\n",
    "be familiar with these before making extensive use of this program.\"\"\"\n",
    "doc2 = \"\"\"MATLAB works with essentially one kind of object, a rectangular\n",
    "numerical matrix. Here is some basic information on using MATLAB matrix\n",
    "commands.\"\"\"\n",
    "\n",
    "# Create a list of documents\n",
    "documents = [doc1, doc2]\n",
    "\n",
    "# Convert text to TF-IDF vectors\n",
    "vectorizer = TfidfVectorizer(stop_words='english')\n",
    "tfidf_matrix = vectorizer.fit_transform(documents)\n",
    "\n",
    "# Compute cosine similarity\n",
    "cosine_sim = cosine_similarity(tfidf_matrix[0:1], tfidf_matrix[1:2])\n",
    "\n",
    "# Cosine similarity is the opposite of cosine distance\n",
    "# Cosine Distance = 1 - Cosine Similarity\n",
    "cosine_dist = 1 - cosine_sim[0][0]\n",
    "\n",
    "# Print the cosine distance\n",
    "print(f\"Cosine Distance between doc1 and doc2: {cosine_dist}\")\n"
   ]
  },
  {
   "cell_type": "code",
   "execution_count": 34,
   "metadata": {},
   "outputs": [
    {
     "name": "stdout",
     "output_type": "stream",
     "text": [
      "Cosine distance between two documents :  0.5272150385564291\n"
     ]
    }
   ],
   "source": [
    "from tensorflow.keras.preprocessing.text import Tokenizer\n",
    "from tensorflow.keras.preprocessing.sequence import pad_sequences\n",
    "\n",
    "# Contents of doc1.txt and doc2.txt\n",
    "doc1 = \"\"\" MATLAB is a program for solving engineering and mathematical\n",
    "problems. The basic MATLAB objects are vectors and matrices, so you must\n",
    "be familiar with these before making extensive use of this program.\"\"\"\n",
    "doc2 = \"\"\"MATLAB works with essentially one kind of object, a rectangular\n",
    "numerical matrix. Here is some basic information on using MATLAB matrix\n",
    "commands.\"\"\"\n",
    "\n",
    "documents = [doc1, doc2]\n",
    "tokenizer = Tokenizer()\n",
    "tokenizer.fit_on_texts(documents)\n",
    "\n",
    "sequences = tokenizer.texts_to_sequences(documents)\n",
    "## pad sequences to have same length\n",
    "maxlen = max([len(x) for x in sequences])\n",
    "\n",
    "padded = pad_sequences(sequences,padding='post',maxlen = maxlen)\n",
    "dist = cosine_distance((padded[0]),padded[1])\n",
    "\n",
    "print(\"Cosine distance between two documents : \",dist)"
   ]
  },
  {
   "cell_type": "code",
   "execution_count": null,
   "metadata": {},
   "outputs": [],
   "source": []
  }
 ],
 "metadata": {
  "kernelspec": {
   "display_name": "Python 3",
   "language": "python",
   "name": "python3"
  },
  "language_info": {
   "codemirror_mode": {
    "name": "ipython",
    "version": 3
   },
   "file_extension": ".py",
   "mimetype": "text/x-python",
   "name": "python",
   "nbconvert_exporter": "python",
   "pygments_lexer": "ipython3",
   "version": "3.11.9"
  }
 },
 "nbformat": 4,
 "nbformat_minor": 2
}
