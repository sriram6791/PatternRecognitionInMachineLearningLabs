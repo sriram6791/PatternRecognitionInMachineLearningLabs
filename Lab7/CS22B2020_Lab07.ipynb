{
 "cells": [
  {
   "cell_type": "markdown",
   "metadata": {},
   "source": [
    "#### Roll:CS22B2020      <br>   Name : G.Sriram"
   ]
  },
  {
   "cell_type": "markdown",
   "metadata": {},
   "source": [
    "#### 1.Train a single perceptron to learn two classes with two inputs x1 and x2. Assume that all the weights of the perceptron are initialized as 0, learning rate as 1. Show the calculation for each step. Plot all the samples and final decision boundary.\n"
   ]
  },
  {
   "cell_type": "code",
   "execution_count": 2,
   "metadata": {},
   "outputs": [],
   "source": [
    "import numpy as np \n",
    "import pandas as pd"
   ]
  },
  {
   "cell_type": "code",
   "execution_count": 5,
   "metadata": {},
   "outputs": [
    {
     "name": "stdout",
     "output_type": "stream",
     "text": [
      "    x1   x2  b  class\n",
      "0  0.5  3.0  1      2\n",
      "1  1.0  3.0  1      2\n",
      "2  0.5  2.5  1      2\n",
      "3  1.0  2.5  1      2\n",
      "4  1.5  2.5  1      2\n",
      "5  4.5  1.0  1      1\n",
      "6  5.0  1.0  1      1\n",
      "7  4.5  0.5  1      1\n",
      "8  5.5  0.5  1      1\n"
     ]
    }
   ],
   "source": [
    "df = pd.DataFrame({\n",
    "    'x1': [0.5, 1, 0.5, 1, 1.5, 4.5, 5, 4.5, 5.5],\n",
    "    'x2': [3.0, 3.0, 2.5, 2.5, 2.5, 1, 1, 0.5, 0.5],\n",
    "    'b' : [1,1,1,1,1,1,1,1,1],\n",
    "    'class': [2, 2, 2, 2, 2, 1, 1, 1, 1]\n",
    "})\n",
    "df2 = pd.DataFrame({\n",
    "    'x1': [0.5, 1, 0.5, 1, 1.5, 4.5, 5, 4.5, 5.5],\n",
    "    'x2': [3.0, 3.0, 2.5, 2.5, 2.5, 1, 1, 0.5, 0.5],\n",
    "    'b' : [1,1,1,1,1,1,1,1,1],\n",
    "    'class': [2, 2, 2, 2, 2, 1, 1, 1, 1]\n",
    "})\n",
    "\n",
    "print(df)"
   ]
  },
  {
   "cell_type": "code",
   "execution_count": 6,
   "metadata": {},
   "outputs": [
    {
     "data": {
      "text/html": [
       "<div>\n",
       "<style scoped>\n",
       "    .dataframe tbody tr th:only-of-type {\n",
       "        vertical-align: middle;\n",
       "    }\n",
       "\n",
       "    .dataframe tbody tr th {\n",
       "        vertical-align: top;\n",
       "    }\n",
       "\n",
       "    .dataframe thead th {\n",
       "        text-align: right;\n",
       "    }\n",
       "</style>\n",
       "<table border=\"1\" class=\"dataframe\">\n",
       "  <thead>\n",
       "    <tr style=\"text-align: right;\">\n",
       "      <th></th>\n",
       "      <th>x1</th>\n",
       "      <th>x2</th>\n",
       "      <th>b</th>\n",
       "      <th>class</th>\n",
       "    </tr>\n",
       "  </thead>\n",
       "  <tbody>\n",
       "    <tr>\n",
       "      <th>0</th>\n",
       "      <td>-0.5</td>\n",
       "      <td>-3.0</td>\n",
       "      <td>-1</td>\n",
       "      <td>2</td>\n",
       "    </tr>\n",
       "    <tr>\n",
       "      <th>1</th>\n",
       "      <td>-1.0</td>\n",
       "      <td>-3.0</td>\n",
       "      <td>-1</td>\n",
       "      <td>2</td>\n",
       "    </tr>\n",
       "    <tr>\n",
       "      <th>2</th>\n",
       "      <td>-0.5</td>\n",
       "      <td>-2.5</td>\n",
       "      <td>-1</td>\n",
       "      <td>2</td>\n",
       "    </tr>\n",
       "    <tr>\n",
       "      <th>3</th>\n",
       "      <td>-1.0</td>\n",
       "      <td>-2.5</td>\n",
       "      <td>-1</td>\n",
       "      <td>2</td>\n",
       "    </tr>\n",
       "    <tr>\n",
       "      <th>4</th>\n",
       "      <td>-1.5</td>\n",
       "      <td>-2.5</td>\n",
       "      <td>-1</td>\n",
       "      <td>2</td>\n",
       "    </tr>\n",
       "    <tr>\n",
       "      <th>5</th>\n",
       "      <td>4.5</td>\n",
       "      <td>1.0</td>\n",
       "      <td>1</td>\n",
       "      <td>1</td>\n",
       "    </tr>\n",
       "    <tr>\n",
       "      <th>6</th>\n",
       "      <td>5.0</td>\n",
       "      <td>1.0</td>\n",
       "      <td>1</td>\n",
       "      <td>1</td>\n",
       "    </tr>\n",
       "    <tr>\n",
       "      <th>7</th>\n",
       "      <td>4.5</td>\n",
       "      <td>0.5</td>\n",
       "      <td>1</td>\n",
       "      <td>1</td>\n",
       "    </tr>\n",
       "    <tr>\n",
       "      <th>8</th>\n",
       "      <td>5.5</td>\n",
       "      <td>0.5</td>\n",
       "      <td>1</td>\n",
       "      <td>1</td>\n",
       "    </tr>\n",
       "  </tbody>\n",
       "</table>\n",
       "</div>"
      ],
      "text/plain": [
       "    x1   x2  b  class\n",
       "0 -0.5 -3.0 -1      2\n",
       "1 -1.0 -3.0 -1      2\n",
       "2 -0.5 -2.5 -1      2\n",
       "3 -1.0 -2.5 -1      2\n",
       "4 -1.5 -2.5 -1      2\n",
       "5  4.5  1.0  1      1\n",
       "6  5.0  1.0  1      1\n",
       "7  4.5  0.5  1      1\n",
       "8  5.5  0.5  1      1"
      ]
     },
     "execution_count": 6,
     "metadata": {},
     "output_type": "execute_result"
    }
   ],
   "source": [
    "df.loc[df['class'] == 2, ['x1', 'x2','b']] *= -1\n",
    "df"
   ]
  },
  {
   "cell_type": "code",
   "execution_count": 7,
   "metadata": {},
   "outputs": [
    {
     "data": {
      "text/plain": [
       "array([0, 0, 0])"
      ]
     },
     "execution_count": 7,
     "metadata": {},
     "output_type": "execute_result"
    }
   ],
   "source": [
    "# Initializing 'a'\n",
    "a = np.array([0,0,0])\n",
    "a"
   ]
  },
  {
   "cell_type": "code",
   "execution_count": 8,
   "metadata": {},
   "outputs": [
    {
     "name": "stdout",
     "output_type": "stream",
     "text": [
      "[[-0.5 -3.  -1. ]\n",
      " [-1.  -3.  -1. ]\n",
      " [-0.5 -2.5 -1. ]\n",
      " [-1.  -2.5 -1. ]\n",
      " [-1.5 -2.5 -1. ]\n",
      " [ 4.5  1.   1. ]\n",
      " [ 5.   1.   1. ]\n",
      " [ 4.5  0.5  1. ]\n",
      " [ 5.5  0.5  1. ]]\n"
     ]
    }
   ],
   "source": [
    "data = df.drop(columns=['class']).to_numpy()\n",
    "print(data)"
   ]
  },
  {
   "cell_type": "code",
   "execution_count": 9,
   "metadata": {},
   "outputs": [],
   "source": [
    "epochs = 22\n",
    "for e in range(5):\n",
    "    for i in range(data.shape[0]): \n",
    "        dot = np.dot(a.T,data[i])\n",
    "        # if (dot <= 0 and df['class'][i] == 1) or (dot >0 and  df['class'][i] == 2):\n",
    "        if dot<=0:\n",
    "            a = a + (1 * data[i])"
   ]
  },
  {
   "cell_type": "code",
   "execution_count": 10,
   "metadata": {},
   "outputs": [
    {
     "name": "stdout",
     "output_type": "stream",
     "text": [
      "[ 2.5 -4.5 -1. ]\n"
     ]
    }
   ],
   "source": [
    "print(a)"
   ]
  },
  {
   "cell_type": "code",
   "execution_count": 11,
   "metadata": {},
   "outputs": [
    {
     "name": "stdout",
     "output_type": "stream",
     "text": [
      "13.25\n",
      "12.0\n",
      "11.0\n",
      "9.75\n",
      "8.5\n",
      "5.75\n",
      "7.0\n",
      "8.0\n",
      "10.5\n"
     ]
    }
   ],
   "source": [
    "for i in range(data.shape[0]):\n",
    "    dot = np.dot(a.T,data[i])\n",
    "    # if dot < 0 :\n",
    "    #     print(\"2\")\n",
    "    # else:\n",
    "    #     print(\"1\")\n",
    "    print(dot)"
   ]
  },
  {
   "cell_type": "code",
   "execution_count": 13,
   "metadata": {},
   "outputs": [
    {
     "data": {
      "image/png": "[encoded data removed]",
      "text/plain": [
       "<Figure size 640x480 with 1 Axes>"
      ]
     },
     "metadata": {},
     "output_type": "display_data"
    }
   ],
   "source": [
    "import pandas as pd\n",
    "import matplotlib.pyplot as plt\n",
    "import numpy as np\n",
    "# Plot the data points\n",
    "plt.scatter(df2['x1'], df2['x2'], c=df['class'], cmap='bwr', label='Data Points')\n",
    "\n",
    "# Define the line equation 4*x1 - 2*x2 + 2 = 0\n",
    "# Rearrange to x2 = (4/2)x1 + (2/2)\n",
    "x1_values = np.linspace(min(df2['x1']), max(df2['x1']), 100)\n",
    "x2_values = (a[0] / -a[1]) * x1_values + (a[2] / -a[1])\n",
    "\n",
    "# Plot the line\n",
    "plt.plot(x1_values, x2_values, color='red', label='4*x1 - 2*x2 + 2 = 0')\n",
    "\n",
    "# Add labels and legend\n",
    "plt.xlabel('x1')\n",
    "plt.ylabel('x2')\n",
    "plt.legend()\n",
    "plt.title('Data Points and Decision Boundary')\n",
    "\n",
    "# Show the plot\n",
    "plt.show()"
   ]
  },
  {
   "cell_type": "code",
   "execution_count": null,
   "metadata": {},
   "outputs": [],
   "source": []
  },
  {
   "cell_type": "markdown",
   "metadata": {},
   "source": [
    "### 2.Train a single perceptron to learn an AND gate with two inputs x1 and x2. Assume that all the weights of the perceptron are initialized as 0. Show the calculation for each step and also draw the decision boundary for each update"
   ]
  },
  {
   "cell_type": "code",
   "execution_count": 2,
   "metadata": {},
   "outputs": [
    {
     "data": {
      "text/html": [
       "<div>\n",
       "<style scoped>\n",
       "    .dataframe tbody tr th:only-of-type {\n",
       "        vertical-align: middle;\n",
       "    }\n",
       "\n",
       "    .dataframe tbody tr th {\n",
       "        vertical-align: top;\n",
       "    }\n",
       "\n",
       "    .dataframe thead th {\n",
       "        text-align: right;\n",
       "    }\n",
       "</style>\n",
       "<table border=\"1\" class=\"dataframe\">\n",
       "  <thead>\n",
       "    <tr style=\"text-align: right;\">\n",
       "      <th></th>\n",
       "      <th>x1</th>\n",
       "      <th>x2</th>\n",
       "      <th>b</th>\n",
       "      <th>y</th>\n",
       "    </tr>\n",
       "  </thead>\n",
       "  <tbody>\n",
       "    <tr>\n",
       "      <th>0</th>\n",
       "      <td>1</td>\n",
       "      <td>1</td>\n",
       "      <td>1</td>\n",
       "      <td>1</td>\n",
       "    </tr>\n",
       "    <tr>\n",
       "      <th>1</th>\n",
       "      <td>1</td>\n",
       "      <td>0</td>\n",
       "      <td>1</td>\n",
       "      <td>0</td>\n",
       "    </tr>\n",
       "    <tr>\n",
       "      <th>2</th>\n",
       "      <td>0</td>\n",
       "      <td>1</td>\n",
       "      <td>1</td>\n",
       "      <td>0</td>\n",
       "    </tr>\n",
       "    <tr>\n",
       "      <th>3</th>\n",
       "      <td>0</td>\n",
       "      <td>0</td>\n",
       "      <td>1</td>\n",
       "      <td>0</td>\n",
       "    </tr>\n",
       "  </tbody>\n",
       "</table>\n",
       "</div>"
      ],
      "text/plain": [
       "   x1  x2  b  y\n",
       "0   1   1  1  1\n",
       "1   1   0  1  0\n",
       "2   0   1  1  0\n",
       "3   0   0  1  0"
      ]
     },
     "execution_count": 2,
     "metadata": {},
     "output_type": "execute_result"
    }
   ],
   "source": [
    "import numpy as np\n",
    "import pandas as pd\n",
    "import matplotlib.pyplot as plt\n",
    "\n",
    "q2df = pd.DataFrame({\n",
    "    'x1' : [1,1,0,0],\n",
    "    'x2' : [1,0,1,0],\n",
    "    'b'  : [1,1,1,1],\n",
    "    'y'  : [1,0,0,0]\n",
    "})\n",
    "\n",
    "df2 = pd.DataFrame({\n",
    "    'x1' : [1,1,0,0],\n",
    "    'x2' : [1,0,1,0],\n",
    "    'b'  : [1,1,1,1],\n",
    "    'y'  : [1,0,0,0]\n",
    "})\n",
    "q2df"
   ]
  },
  {
   "cell_type": "code",
   "execution_count": 3,
   "metadata": {},
   "outputs": [
    {
     "data": {
      "text/html": [
       "<div>\n",
       "<style scoped>\n",
       "    .dataframe tbody tr th:only-of-type {\n",
       "        vertical-align: middle;\n",
       "    }\n",
       "\n",
       "    .dataframe tbody tr th {\n",
       "        vertical-align: top;\n",
       "    }\n",
       "\n",
       "    .dataframe thead th {\n",
       "        text-align: right;\n",
       "    }\n",
       "</style>\n",
       "<table border=\"1\" class=\"dataframe\">\n",
       "  <thead>\n",
       "    <tr style=\"text-align: right;\">\n",
       "      <th></th>\n",
       "      <th>x1</th>\n",
       "      <th>x2</th>\n",
       "      <th>b</th>\n",
       "      <th>y</th>\n",
       "    </tr>\n",
       "  </thead>\n",
       "  <tbody>\n",
       "    <tr>\n",
       "      <th>0</th>\n",
       "      <td>-1</td>\n",
       "      <td>-1</td>\n",
       "      <td>-1</td>\n",
       "      <td>1</td>\n",
       "    </tr>\n",
       "    <tr>\n",
       "      <th>1</th>\n",
       "      <td>1</td>\n",
       "      <td>0</td>\n",
       "      <td>1</td>\n",
       "      <td>0</td>\n",
       "    </tr>\n",
       "    <tr>\n",
       "      <th>2</th>\n",
       "      <td>0</td>\n",
       "      <td>1</td>\n",
       "      <td>1</td>\n",
       "      <td>0</td>\n",
       "    </tr>\n",
       "    <tr>\n",
       "      <th>3</th>\n",
       "      <td>0</td>\n",
       "      <td>0</td>\n",
       "      <td>1</td>\n",
       "      <td>0</td>\n",
       "    </tr>\n",
       "  </tbody>\n",
       "</table>\n",
       "</div>"
      ],
      "text/plain": [
       "   x1  x2  b  y\n",
       "0  -1  -1 -1  1\n",
       "1   1   0  1  0\n",
       "2   0   1  1  0\n",
       "3   0   0  1  0"
      ]
     },
     "execution_count": 3,
     "metadata": {},
     "output_type": "execute_result"
    }
   ],
   "source": [
    "q2df.loc[q2df['y'] == 1, ['x1', 'x2','b']] *= -1\n",
    "q2df"
   ]
  },
  {
   "cell_type": "code",
   "execution_count": 4,
   "metadata": {},
   "outputs": [
    {
     "data": {
      "text/plain": [
       "array([0, 0, 0])"
      ]
     },
     "execution_count": 4,
     "metadata": {},
     "output_type": "execute_result"
    }
   ],
   "source": [
    "# Initializing 'a'\n",
    "a = np.array([0,0,0])\n",
    "a"
   ]
  },
  {
   "cell_type": "code",
   "execution_count": 5,
   "metadata": {},
   "outputs": [
    {
     "name": "stdout",
     "output_type": "stream",
     "text": [
      "[[-1 -1 -1]\n",
      " [ 1  0  1]\n",
      " [ 0  1  1]\n",
      " [ 0  0  1]]\n"
     ]
    }
   ],
   "source": [
    "data = q2df.drop(columns=['y']).to_numpy()\n",
    "print(data)"
   ]
  },
  {
   "cell_type": "code",
   "execution_count": 12,
   "metadata": {},
   "outputs": [],
   "source": [
    "epochs = 0\n",
    "correct = 0\n",
    "total = q2df.shape[0]\n",
    "while(1):\n",
    "    for i in range(data.shape[0]): \n",
    "        dot = np.dot(a.T,data[i])\n",
    "        if dot<=0:\n",
    "            a = a + (1 * data[i])\n",
    "            correct = 0\n",
    "        else:\n",
    "            correct+=1\n",
    "    if total == correct:\n",
    "        break"
   ]
  },
  {
   "cell_type": "code",
   "execution_count": 13,
   "metadata": {},
   "outputs": [
    {
     "data": {
      "text/plain": [
       "array([-2, -3,  4], dtype=int64)"
      ]
     },
     "execution_count": 13,
     "metadata": {},
     "output_type": "execute_result"
    }
   ],
   "source": [
    "a"
   ]
  },
  {
   "cell_type": "code",
   "execution_count": 15,
   "metadata": {},
   "outputs": [
    {
     "data": {
      "image/png": "[encoded data removed]",
      "text/plain": [
       "<Figure size 640x480 with 1 Axes>"
      ]
     },
     "metadata": {},
     "output_type": "display_data"
    }
   ],
   "source": [
    "import pandas as pd\n",
    "import matplotlib.pyplot as plt\n",
    "import numpy as np\n",
    "# Plot the data points\n",
    "plt.scatter(df2['x1'], df2['x2'], c=df2['y'], cmap='bwr', label='Data Points')\n",
    "\n",
    "# Define the line equation 4*x1 - 2*x2 + 2 = 0\n",
    "# Rearrange to x2 = (4/2)x1 + (2/2)\n",
    "x1_values = np.linspace(min(df2['x1']), max(df2['x1']), 100)\n",
    "x2_values = (a[0] / -a[1]) * x1_values + (a[2] / -a[1])\n",
    "\n",
    "# Plot the line\n",
    "plt.plot(x1_values, x2_values, color='red', label='function')\n",
    "\n",
    "# Add labels and legend\n",
    "plt.xlabel('x1')\n",
    "plt.ylabel('x2')\n",
    "plt.legend()\n",
    "plt.title('Data Points and Decision Boundary')\n",
    "\n",
    "# Show the plot\n",
    "plt.show()"
   ]
  },
  {
   "cell_type": "markdown",
   "metadata": {},
   "source": []
  },
  {
   "cell_type": "markdown",
   "metadata": {},
   "source": [
    "### 3.Train a single perceptron to learn the two classes in the following table.\n",
    "\n",
    "where x1 and x2 are the inputs and ω is the target class. Assume that all the weights of the perceptron are initialized as 0 with learning rates 0.001, 0.01, 0.5 separately. Plot the samples and decision boundary. Also, tabulate the number of iterations required to converge the perception algorithm with these two learning rates. "
   ]
  },
  {
   "cell_type": "code",
   "execution_count": 27,
   "metadata": {},
   "outputs": [],
   "source": [
    "import numpy as np\n",
    "import pandas as pd"
   ]
  },
  {
   "cell_type": "code",
   "execution_count": 28,
   "metadata": {},
   "outputs": [
    {
     "name": "stdout",
     "output_type": "stream",
     "text": [
      "   x1  x2  b  w\n",
      "0   2   2  1  1\n",
      "1  -1  -3  1  0\n",
      "2  -1   2  1  1\n",
      "3   0  -1  1  0\n",
      "4   1   3  1  1\n",
      "5  -1  -2  1  0\n",
      "6   0   1  1  1\n",
      "7   1  -2  1  0\n",
      "8   0  -1  1  1\n",
      "9  -1   1  1  1\n"
     ]
    }
   ],
   "source": [
    "# Data\n",
    "data = {\n",
    "    'x1': [2, -1, -1, 0, 1, -1, 0, 1, 0, -1],\n",
    "    'x2': [2, -3, 2, -1, 3, -2, 1, -2, -1, 1],\n",
    "    'b' : [1,1,1,1,1,1,1,1,1,1],\n",
    "    'w': [1, 0, 1, 0, 1, 0, 1, 0, 1, 1]\n",
    "}\n",
    "\n",
    "# Create DataFrame\n",
    "df = pd.DataFrame(data)\n",
    "q3df = pd.DataFrame(data)\n",
    "# Display DataFrame\n",
    "print(df)"
   ]
  },
  {
   "cell_type": "code",
   "execution_count": 29,
   "metadata": {},
   "outputs": [
    {
     "data": {
      "text/plain": [
       "<matplotlib.collections.PathCollection at 0x1cc791ff590>"
      ]
     },
     "execution_count": 29,
     "metadata": {},
     "output_type": "execute_result"
    },
    {
     "data": {
      "image/png": "[encoded data removed]",
      "text/plain": [
       "<Figure size 640x480 with 1 Axes>"
      ]
     },
     "metadata": {},
     "output_type": "display_data"
    }
   ],
   "source": [
    "import matplotlib.pyplot as plt\n",
    "plt.scatter(df['x1'],df['x2'],c=df['w'],cmap='bwr',label='DataPoints')\n"
   ]
  },
  {
   "cell_type": "code",
   "execution_count": 30,
   "metadata": {},
   "outputs": [
    {
     "data": {
      "text/html": [
       "<div>\n",
       "<style scoped>\n",
       "    .dataframe tbody tr th:only-of-type {\n",
       "        vertical-align: middle;\n",
       "    }\n",
       "\n",
       "    .dataframe tbody tr th {\n",
       "        vertical-align: top;\n",
       "    }\n",
       "\n",
       "    .dataframe thead th {\n",
       "        text-align: right;\n",
       "    }\n",
       "</style>\n",
       "<table border=\"1\" class=\"dataframe\">\n",
       "  <thead>\n",
       "    <tr style=\"text-align: right;\">\n",
       "      <th></th>\n",
       "      <th>x1</th>\n",
       "      <th>x2</th>\n",
       "      <th>b</th>\n",
       "      <th>w</th>\n",
       "    </tr>\n",
       "  </thead>\n",
       "  <tbody>\n",
       "    <tr>\n",
       "      <th>0</th>\n",
       "      <td>-2</td>\n",
       "      <td>-2</td>\n",
       "      <td>-1</td>\n",
       "      <td>1</td>\n",
       "    </tr>\n",
       "    <tr>\n",
       "      <th>1</th>\n",
       "      <td>-1</td>\n",
       "      <td>-3</td>\n",
       "      <td>1</td>\n",
       "      <td>0</td>\n",
       "    </tr>\n",
       "    <tr>\n",
       "      <th>2</th>\n",
       "      <td>1</td>\n",
       "      <td>-2</td>\n",
       "      <td>-1</td>\n",
       "      <td>1</td>\n",
       "    </tr>\n",
       "    <tr>\n",
       "      <th>3</th>\n",
       "      <td>0</td>\n",
       "      <td>-1</td>\n",
       "      <td>1</td>\n",
       "      <td>0</td>\n",
       "    </tr>\n",
       "    <tr>\n",
       "      <th>4</th>\n",
       "      <td>-1</td>\n",
       "      <td>-3</td>\n",
       "      <td>-1</td>\n",
       "      <td>1</td>\n",
       "    </tr>\n",
       "    <tr>\n",
       "      <th>5</th>\n",
       "      <td>-1</td>\n",
       "      <td>-2</td>\n",
       "      <td>1</td>\n",
       "      <td>0</td>\n",
       "    </tr>\n",
       "    <tr>\n",
       "      <th>6</th>\n",
       "      <td>0</td>\n",
       "      <td>-1</td>\n",
       "      <td>-1</td>\n",
       "      <td>1</td>\n",
       "    </tr>\n",
       "    <tr>\n",
       "      <th>7</th>\n",
       "      <td>1</td>\n",
       "      <td>-2</td>\n",
       "      <td>1</td>\n",
       "      <td>0</td>\n",
       "    </tr>\n",
       "    <tr>\n",
       "      <th>8</th>\n",
       "      <td>0</td>\n",
       "      <td>1</td>\n",
       "      <td>-1</td>\n",
       "      <td>1</td>\n",
       "    </tr>\n",
       "    <tr>\n",
       "      <th>9</th>\n",
       "      <td>1</td>\n",
       "      <td>-1</td>\n",
       "      <td>-1</td>\n",
       "      <td>1</td>\n",
       "    </tr>\n",
       "  </tbody>\n",
       "</table>\n",
       "</div>"
      ],
      "text/plain": [
       "   x1  x2  b  w\n",
       "0  -2  -2 -1  1\n",
       "1  -1  -3  1  0\n",
       "2   1  -2 -1  1\n",
       "3   0  -1  1  0\n",
       "4  -1  -3 -1  1\n",
       "5  -1  -2  1  0\n",
       "6   0  -1 -1  1\n",
       "7   1  -2  1  0\n",
       "8   0   1 -1  1\n",
       "9   1  -1 -1  1"
      ]
     },
     "execution_count": 30,
     "metadata": {},
     "output_type": "execute_result"
    }
   ],
   "source": [
    "q3df.loc[q3df['w'] == 1, ['x1', 'x2','b']] *= -1\n",
    "q3df"
   ]
  },
  {
   "cell_type": "code",
   "execution_count": 45,
   "metadata": {},
   "outputs": [
    {
     "data": {
      "text/plain": [
       "array([0, 0, 0])"
      ]
     },
     "execution_count": 45,
     "metadata": {},
     "output_type": "execute_result"
    }
   ],
   "source": [
    "# Initializing 'a'\n",
    "a = np.array([0,0,0])\n",
    "a"
   ]
  },
  {
   "cell_type": "code",
   "execution_count": 46,
   "metadata": {},
   "outputs": [
    {
     "name": "stdout",
     "output_type": "stream",
     "text": [
      "[[-2 -2 -1]\n",
      " [-1 -3  1]\n",
      " [ 1 -2 -1]\n",
      " [ 0 -1  1]\n",
      " [-1 -3 -1]\n",
      " [-1 -2  1]\n",
      " [ 0 -1 -1]\n",
      " [ 1 -2  1]\n",
      " [ 0  1 -1]\n",
      " [ 1 -1 -1]]\n"
     ]
    }
   ],
   "source": [
    "data = q3df.drop(columns=['w']).to_numpy()\n",
    "print(data)"
   ]
  },
  {
   "cell_type": "code",
   "execution_count": 47,
   "metadata": {},
   "outputs": [],
   "source": [
    "epochs = 500\n",
    "for e in range(epochs):\n",
    "    for i in range(data.shape[0]): \n",
    "        dot = np.dot(a.T,data[i])\n",
    "        if dot<=0:\n",
    "            a = a + (1 * data[i])"
   ]
  },
  {
   "cell_type": "code",
   "execution_count": 48,
   "metadata": {},
   "outputs": [],
   "source": [
    "# epochs = 0\n",
    "# correct = 0\n",
    "# total = q3df.shape[0]\n",
    "# i = 0\n",
    "# while(1):\n",
    "#     epochs+=1\n",
    " \n",
    "#     dot = np.dot(a.T,data[i])\n",
    "#     if dot<=0:\n",
    "#         a = a + (1 * data[i])\n",
    "#         correct = 0\n",
    "#     else:\n",
    "#         correct+=1\n",
    "#     if total == correct:\n",
    "#         break\n",
    "#     i = (i+1) % data.shape[0]"
   ]
  },
  {
   "cell_type": "code",
   "execution_count": 49,
   "metadata": {},
   "outputs": [
    {
     "name": "stdout",
     "output_type": "stream",
     "text": [
      "a :  [-2 -1 -2]\n",
      "epochs : \n"
     ]
    }
   ],
   "source": [
    "print(\"a : \",a)\n",
    "print(\"epochs : \",)"
   ]
  },
  {
   "cell_type": "code",
   "execution_count": 50,
   "metadata": {},
   "outputs": [
    {
     "data": {
      "image/png": "[encoded data removed]",
      "text/plain": [
       "<Figure size 640x480 with 1 Axes>"
      ]
     },
     "metadata": {},
     "output_type": "display_data"
    }
   ],
   "source": [
    "import pandas as pd\n",
    "import matplotlib.pyplot as plt\n",
    "import numpy as np\n",
    "# Plot the data points\n",
    "plt.scatter(df['x1'],df['x2'],c=df['w'],cmap='bwr',label='DataPoints')\n",
    "\n",
    "# Define the line equation 4*x1 - 2*x2 + 2 = 0\n",
    "# Rearrange to x2 = (4/2)x1 + (2/2)\n",
    "x1_values = np.linspace(min(df['x1']), max(df['x1']), 100)\n",
    "x2_values = (a[0] / -a[1]) * x1_values + (a[2] / -a[1])\n",
    "\n",
    "# Plot the line\n",
    "plt.plot(x1_values, x2_values, color='red', label='function')\n",
    "\n",
    "# Add labels and legend\n",
    "plt.xlabel('x1')\n",
    "plt.ylabel('x2')\n",
    "plt.legend()\n",
    "plt.title('Data Points and Decision Boundary')\n",
    "\n",
    "# Show the plot\n",
    "plt.show()"
   ]
  },
  {
   "cell_type": "markdown",
   "metadata": {},
   "source": [
    "#### Q4\n",
    "From the iris dataset, choose the ’petal length’, ’sepal width’ for “setosa” and  “virginica” flowers. Learn a decision boundary for the two features using a single perceptron. Assume that all the weights of the perceptron are initialized as 0 with the learning rate of 0.01. Output the final weight vector and plot the samples and the decision boundary.\n",
    "[Note: Use iris.csv file in the attachments.]\n"
   ]
  },
  {
   "cell_type": "code",
   "execution_count": 1,
   "metadata": {},
   "outputs": [],
   "source": [
    "import pandas as pd\n",
    "import numpy as np\n",
    "import matplotlib.pyplot as plt"
   ]
  },
  {
   "cell_type": "code",
   "execution_count": 2,
   "metadata": {},
   "outputs": [],
   "source": [
    "data = pd.read_csv(\"iris.csv\")"
   ]
  },
  {
   "cell_type": "code",
   "execution_count": 3,
   "metadata": {},
   "outputs": [
    {
     "data": {
      "text/html": [
       "<div>\n",
       "<style scoped>\n",
       "    .dataframe tbody tr th:only-of-type {\n",
       "        vertical-align: middle;\n",
       "    }\n",
       "\n",
       "    .dataframe tbody tr th {\n",
       "        vertical-align: top;\n",
       "    }\n",
       "\n",
       "    .dataframe thead th {\n",
       "        text-align: right;\n",
       "    }\n",
       "</style>\n",
       "<table border=\"1\" class=\"dataframe\">\n",
       "  <thead>\n",
       "    <tr style=\"text-align: right;\">\n",
       "      <th></th>\n",
       "      <th>Id</th>\n",
       "      <th>SepalLengthCm</th>\n",
       "      <th>SepalWidthCm</th>\n",
       "      <th>PetalLengthCm</th>\n",
       "      <th>PetalWidthCm</th>\n",
       "      <th>Species</th>\n",
       "    </tr>\n",
       "  </thead>\n",
       "  <tbody>\n",
       "    <tr>\n",
       "      <th>0</th>\n",
       "      <td>1</td>\n",
       "      <td>5.1</td>\n",
       "      <td>3.5</td>\n",
       "      <td>1.4</td>\n",
       "      <td>0.2</td>\n",
       "      <td>Iris-setosa</td>\n",
       "    </tr>\n",
       "    <tr>\n",
       "      <th>1</th>\n",
       "      <td>2</td>\n",
       "      <td>4.9</td>\n",
       "      <td>3.0</td>\n",
       "      <td>1.4</td>\n",
       "      <td>0.2</td>\n",
       "      <td>Iris-setosa</td>\n",
       "    </tr>\n",
       "    <tr>\n",
       "      <th>2</th>\n",
       "      <td>3</td>\n",
       "      <td>4.7</td>\n",
       "      <td>3.2</td>\n",
       "      <td>1.3</td>\n",
       "      <td>0.2</td>\n",
       "      <td>Iris-setosa</td>\n",
       "    </tr>\n",
       "    <tr>\n",
       "      <th>3</th>\n",
       "      <td>4</td>\n",
       "      <td>4.6</td>\n",
       "      <td>3.1</td>\n",
       "      <td>1.5</td>\n",
       "      <td>0.2</td>\n",
       "      <td>Iris-setosa</td>\n",
       "    </tr>\n",
       "    <tr>\n",
       "      <th>4</th>\n",
       "      <td>5</td>\n",
       "      <td>5.0</td>\n",
       "      <td>3.6</td>\n",
       "      <td>1.4</td>\n",
       "      <td>0.2</td>\n",
       "      <td>Iris-setosa</td>\n",
       "    </tr>\n",
       "  </tbody>\n",
       "</table>\n",
       "</div>"
      ],
      "text/plain": [
       "   Id  SepalLengthCm  SepalWidthCm  PetalLengthCm  PetalWidthCm      Species\n",
       "0   1            5.1           3.5            1.4           0.2  Iris-setosa\n",
       "1   2            4.9           3.0            1.4           0.2  Iris-setosa\n",
       "2   3            4.7           3.2            1.3           0.2  Iris-setosa\n",
       "3   4            4.6           3.1            1.5           0.2  Iris-setosa\n",
       "4   5            5.0           3.6            1.4           0.2  Iris-setosa"
      ]
     },
     "execution_count": 3,
     "metadata": {},
     "output_type": "execute_result"
    }
   ],
   "source": [
    "data.head(5)"
   ]
  },
  {
   "cell_type": "code",
   "execution_count": 4,
   "metadata": {},
   "outputs": [
    {
     "data": {
      "text/html": [
       "<div>\n",
       "<style scoped>\n",
       "    .dataframe tbody tr th:only-of-type {\n",
       "        vertical-align: middle;\n",
       "    }\n",
       "\n",
       "    .dataframe tbody tr th {\n",
       "        vertical-align: top;\n",
       "    }\n",
       "\n",
       "    .dataframe thead th {\n",
       "        text-align: right;\n",
       "    }\n",
       "</style>\n",
       "<table border=\"1\" class=\"dataframe\">\n",
       "  <thead>\n",
       "    <tr style=\"text-align: right;\">\n",
       "      <th></th>\n",
       "      <th>PetalLengthCm</th>\n",
       "      <th>SepalWidthCm</th>\n",
       "    </tr>\n",
       "  </thead>\n",
       "  <tbody>\n",
       "    <tr>\n",
       "      <th>100</th>\n",
       "      <td>6.0</td>\n",
       "      <td>3.3</td>\n",
       "    </tr>\n",
       "    <tr>\n",
       "      <th>101</th>\n",
       "      <td>5.1</td>\n",
       "      <td>2.7</td>\n",
       "    </tr>\n",
       "    <tr>\n",
       "      <th>102</th>\n",
       "      <td>5.9</td>\n",
       "      <td>3.0</td>\n",
       "    </tr>\n",
       "  </tbody>\n",
       "</table>\n",
       "</div>"
      ],
      "text/plain": [
       "     PetalLengthCm  SepalWidthCm\n",
       "100            6.0           3.3\n",
       "101            5.1           2.7\n",
       "102            5.9           3.0"
      ]
     },
     "execution_count": 4,
     "metadata": {},
     "output_type": "execute_result"
    }
   ],
   "source": [
    "setosa_Dataset = data.loc[data['Species'] == 'Iris-setosa', ['PetalLengthCm', 'SepalWidthCm']]\n",
    "virginica_Dataset = data.loc[data['Species'] == 'Iris-virginica', ['PetalLengthCm', 'SepalWidthCm']]\n",
    "\n",
    "virginica_Dataset.head(3)"
   ]
  },
  {
   "cell_type": "code",
   "execution_count": 5,
   "metadata": {},
   "outputs": [
    {
     "data": {
      "text/html": [
       "<div>\n",
       "<style scoped>\n",
       "    .dataframe tbody tr th:only-of-type {\n",
       "        vertical-align: middle;\n",
       "    }\n",
       "\n",
       "    .dataframe tbody tr th {\n",
       "        vertical-align: top;\n",
       "    }\n",
       "\n",
       "    .dataframe thead th {\n",
       "        text-align: right;\n",
       "    }\n",
       "</style>\n",
       "<table border=\"1\" class=\"dataframe\">\n",
       "  <thead>\n",
       "    <tr style=\"text-align: right;\">\n",
       "      <th></th>\n",
       "      <th>PetalLengthCm</th>\n",
       "      <th>SepalWidthCm</th>\n",
       "    </tr>\n",
       "  </thead>\n",
       "  <tbody>\n",
       "    <tr>\n",
       "      <th>0</th>\n",
       "      <td>1.4</td>\n",
       "      <td>3.5</td>\n",
       "    </tr>\n",
       "    <tr>\n",
       "      <th>1</th>\n",
       "      <td>1.4</td>\n",
       "      <td>3.0</td>\n",
       "    </tr>\n",
       "    <tr>\n",
       "      <th>2</th>\n",
       "      <td>1.3</td>\n",
       "      <td>3.2</td>\n",
       "    </tr>\n",
       "  </tbody>\n",
       "</table>\n",
       "</div>"
      ],
      "text/plain": [
       "   PetalLengthCm  SepalWidthCm\n",
       "0            1.4           3.5\n",
       "1            1.4           3.0\n",
       "2            1.3           3.2"
      ]
     },
     "execution_count": 5,
     "metadata": {},
     "output_type": "execute_result"
    }
   ],
   "source": [
    "setosa_Dataset.head(3)"
   ]
  },
  {
   "cell_type": "code",
   "execution_count": 6,
   "metadata": {},
   "outputs": [
    {
     "data": {
      "text/plain": [
       "<matplotlib.collections.PathCollection at 0x1e2735f0b90>"
      ]
     },
     "execution_count": 6,
     "metadata": {},
     "output_type": "execute_result"
    },
    {
     "data": {
      "image/png": "[encoded data removed]",
      "text/plain": [
       "<Figure size 640x480 with 1 Axes>"
      ]
     },
     "metadata": {},
     "output_type": "display_data"
    }
   ],
   "source": [
    "# For plotting points\n",
    "setosa_Dataset['w'] = 0\n",
    "virginica_Dataset['w'] = 1\n",
    "plotdata = pd.concat([setosa_Dataset,virginica_Dataset])\n",
    "plt.scatter(plotdata['PetalLengthCm'],plotdata['SepalWidthCm'],c=plotdata['w'],cmap='bwr',label='DataPoints')"
   ]
  },
  {
   "cell_type": "code",
   "execution_count": 7,
   "metadata": {},
   "outputs": [],
   "source": [
    "setosa_Dataset['bias'] = 1"
   ]
  },
  {
   "cell_type": "code",
   "execution_count": 8,
   "metadata": {},
   "outputs": [],
   "source": [
    "setosa_Dataset[['PetalLengthCm','SepalWidthCm','bias']] *= -1"
   ]
  },
  {
   "cell_type": "code",
   "execution_count": 9,
   "metadata": {},
   "outputs": [
    {
     "data": {
      "text/html": [
       "<div>\n",
       "<style scoped>\n",
       "    .dataframe tbody tr th:only-of-type {\n",
       "        vertical-align: middle;\n",
       "    }\n",
       "\n",
       "    .dataframe tbody tr th {\n",
       "        vertical-align: top;\n",
       "    }\n",
       "\n",
       "    .dataframe thead th {\n",
       "        text-align: right;\n",
       "    }\n",
       "</style>\n",
       "<table border=\"1\" class=\"dataframe\">\n",
       "  <thead>\n",
       "    <tr style=\"text-align: right;\">\n",
       "      <th></th>\n",
       "      <th>PetalLengthCm</th>\n",
       "      <th>SepalWidthCm</th>\n",
       "      <th>w</th>\n",
       "      <th>bias</th>\n",
       "    </tr>\n",
       "  </thead>\n",
       "  <tbody>\n",
       "    <tr>\n",
       "      <th>0</th>\n",
       "      <td>-1.4</td>\n",
       "      <td>-3.5</td>\n",
       "      <td>0</td>\n",
       "      <td>-1</td>\n",
       "    </tr>\n",
       "    <tr>\n",
       "      <th>1</th>\n",
       "      <td>-1.4</td>\n",
       "      <td>-3.0</td>\n",
       "      <td>0</td>\n",
       "      <td>-1</td>\n",
       "    </tr>\n",
       "    <tr>\n",
       "      <th>2</th>\n",
       "      <td>-1.3</td>\n",
       "      <td>-3.2</td>\n",
       "      <td>0</td>\n",
       "      <td>-1</td>\n",
       "    </tr>\n",
       "  </tbody>\n",
       "</table>\n",
       "</div>"
      ],
      "text/plain": [
       "   PetalLengthCm  SepalWidthCm  w  bias\n",
       "0           -1.4          -3.5  0    -1\n",
       "1           -1.4          -3.0  0    -1\n",
       "2           -1.3          -3.2  0    -1"
      ]
     },
     "execution_count": 9,
     "metadata": {},
     "output_type": "execute_result"
    }
   ],
   "source": [
    "setosa_Dataset.head(3)"
   ]
  },
  {
   "cell_type": "code",
   "execution_count": 10,
   "metadata": {},
   "outputs": [
    {
     "data": {
      "text/html": [
       "<div>\n",
       "<style scoped>\n",
       "    .dataframe tbody tr th:only-of-type {\n",
       "        vertical-align: middle;\n",
       "    }\n",
       "\n",
       "    .dataframe tbody tr th {\n",
       "        vertical-align: top;\n",
       "    }\n",
       "\n",
       "    .dataframe thead th {\n",
       "        text-align: right;\n",
       "    }\n",
       "</style>\n",
       "<table border=\"1\" class=\"dataframe\">\n",
       "  <thead>\n",
       "    <tr style=\"text-align: right;\">\n",
       "      <th></th>\n",
       "      <th>PetalLengthCm</th>\n",
       "      <th>SepalWidthCm</th>\n",
       "      <th>w</th>\n",
       "      <th>bias</th>\n",
       "    </tr>\n",
       "  </thead>\n",
       "  <tbody>\n",
       "    <tr>\n",
       "      <th>100</th>\n",
       "      <td>6.0</td>\n",
       "      <td>3.3</td>\n",
       "      <td>1</td>\n",
       "      <td>1</td>\n",
       "    </tr>\n",
       "    <tr>\n",
       "      <th>101</th>\n",
       "      <td>5.1</td>\n",
       "      <td>2.7</td>\n",
       "      <td>1</td>\n",
       "      <td>1</td>\n",
       "    </tr>\n",
       "    <tr>\n",
       "      <th>102</th>\n",
       "      <td>5.9</td>\n",
       "      <td>3.0</td>\n",
       "      <td>1</td>\n",
       "      <td>1</td>\n",
       "    </tr>\n",
       "  </tbody>\n",
       "</table>\n",
       "</div>"
      ],
      "text/plain": [
       "     PetalLengthCm  SepalWidthCm  w  bias\n",
       "100            6.0           3.3  1     1\n",
       "101            5.1           2.7  1     1\n",
       "102            5.9           3.0  1     1"
      ]
     },
     "execution_count": 10,
     "metadata": {},
     "output_type": "execute_result"
    }
   ],
   "source": [
    "virginica_Dataset['bias'] = 1\n",
    "virginica_Dataset.head(3)"
   ]
  },
  {
   "cell_type": "code",
   "execution_count": 11,
   "metadata": {},
   "outputs": [],
   "source": [
    "finaldataset = pd.concat([setosa_Dataset,virginica_Dataset])"
   ]
  },
  {
   "cell_type": "code",
   "execution_count": 12,
   "metadata": {},
   "outputs": [
    {
     "data": {
      "text/html": [
       "<div>\n",
       "<style scoped>\n",
       "    .dataframe tbody tr th:only-of-type {\n",
       "        vertical-align: middle;\n",
       "    }\n",
       "\n",
       "    .dataframe tbody tr th {\n",
       "        vertical-align: top;\n",
       "    }\n",
       "\n",
       "    .dataframe thead th {\n",
       "        text-align: right;\n",
       "    }\n",
       "</style>\n",
       "<table border=\"1\" class=\"dataframe\">\n",
       "  <thead>\n",
       "    <tr style=\"text-align: right;\">\n",
       "      <th></th>\n",
       "      <th>PetalLengthCm</th>\n",
       "      <th>SepalWidthCm</th>\n",
       "      <th>w</th>\n",
       "      <th>bias</th>\n",
       "    </tr>\n",
       "  </thead>\n",
       "  <tbody>\n",
       "    <tr>\n",
       "      <th>0</th>\n",
       "      <td>-1.4</td>\n",
       "      <td>-3.5</td>\n",
       "      <td>0</td>\n",
       "      <td>-1</td>\n",
       "    </tr>\n",
       "    <tr>\n",
       "      <th>1</th>\n",
       "      <td>-1.4</td>\n",
       "      <td>-3.0</td>\n",
       "      <td>0</td>\n",
       "      <td>-1</td>\n",
       "    </tr>\n",
       "    <tr>\n",
       "      <th>2</th>\n",
       "      <td>-1.3</td>\n",
       "      <td>-3.2</td>\n",
       "      <td>0</td>\n",
       "      <td>-1</td>\n",
       "    </tr>\n",
       "  </tbody>\n",
       "</table>\n",
       "</div>"
      ],
      "text/plain": [
       "   PetalLengthCm  SepalWidthCm  w  bias\n",
       "0           -1.4          -3.5  0    -1\n",
       "1           -1.4          -3.0  0    -1\n",
       "2           -1.3          -3.2  0    -1"
      ]
     },
     "execution_count": 12,
     "metadata": {},
     "output_type": "execute_result"
    }
   ],
   "source": [
    "finaldataset.head(3)"
   ]
  },
  {
   "cell_type": "code",
   "execution_count": 13,
   "metadata": {},
   "outputs": [
    {
     "data": {
      "text/html": [
       "<div>\n",
       "<style scoped>\n",
       "    .dataframe tbody tr th:only-of-type {\n",
       "        vertical-align: middle;\n",
       "    }\n",
       "\n",
       "    .dataframe tbody tr th {\n",
       "        vertical-align: top;\n",
       "    }\n",
       "\n",
       "    .dataframe thead th {\n",
       "        text-align: right;\n",
       "    }\n",
       "</style>\n",
       "<table border=\"1\" class=\"dataframe\">\n",
       "  <thead>\n",
       "    <tr style=\"text-align: right;\">\n",
       "      <th></th>\n",
       "      <th>PetalLengthCm</th>\n",
       "      <th>SepalWidthCm</th>\n",
       "      <th>w</th>\n",
       "      <th>bias</th>\n",
       "    </tr>\n",
       "  </thead>\n",
       "  <tbody>\n",
       "    <tr>\n",
       "      <th>147</th>\n",
       "      <td>5.2</td>\n",
       "      <td>3.0</td>\n",
       "      <td>1</td>\n",
       "      <td>1</td>\n",
       "    </tr>\n",
       "    <tr>\n",
       "      <th>148</th>\n",
       "      <td>5.4</td>\n",
       "      <td>3.4</td>\n",
       "      <td>1</td>\n",
       "      <td>1</td>\n",
       "    </tr>\n",
       "    <tr>\n",
       "      <th>149</th>\n",
       "      <td>5.1</td>\n",
       "      <td>3.0</td>\n",
       "      <td>1</td>\n",
       "      <td>1</td>\n",
       "    </tr>\n",
       "  </tbody>\n",
       "</table>\n",
       "</div>"
      ],
      "text/plain": [
       "     PetalLengthCm  SepalWidthCm  w  bias\n",
       "147            5.2           3.0  1     1\n",
       "148            5.4           3.4  1     1\n",
       "149            5.1           3.0  1     1"
      ]
     },
     "execution_count": 13,
     "metadata": {},
     "output_type": "execute_result"
    }
   ],
   "source": [
    "finaldataset.tail(3)"
   ]
  },
  {
   "cell_type": "code",
   "execution_count": 15,
   "metadata": {},
   "outputs": [
    {
     "data": {
      "text/plain": [
       "array([[-1.4, -3.5, -1. ],\n",
       "       [-1.4, -3. , -1. ],\n",
       "       [-1.3, -3.2, -1. ],\n",
       "       [-1.5, -3.1, -1. ],\n",
       "       [-1.4, -3.6, -1. ],\n",
       "       [-1.7, -3.9, -1. ],\n",
       "       [-1.4, -3.4, -1. ],\n",
       "       [-1.5, -3.4, -1. ],\n",
       "       [-1.4, -2.9, -1. ],\n",
       "       [-1.5, -3.1, -1. ],\n",
       "       [-1.5, -3.7, -1. ],\n",
       "       [-1.6, -3.4, -1. ],\n",
       "       [-1.4, -3. , -1. ],\n",
       "       [-1.1, -3. , -1. ],\n",
       "       [-1.2, -4. , -1. ],\n",
       "       [-1.5, -4.4, -1. ],\n",
       "       [-1.3, -3.9, -1. ],\n",
       "       [-1.4, -3.5, -1. ],\n",
       "       [-1.7, -3.8, -1. ],\n",
       "       [-1.5, -3.8, -1. ],\n",
       "       [-1.7, -3.4, -1. ],\n",
       "       [-1.5, -3.7, -1. ],\n",
       "       [-1. , -3.6, -1. ],\n",
       "       [-1.7, -3.3, -1. ],\n",
       "       [-1.9, -3.4, -1. ],\n",
       "       [-1.6, -3. , -1. ],\n",
       "       [-1.6, -3.4, -1. ],\n",
       "       [-1.5, -3.5, -1. ],\n",
       "       [-1.4, -3.4, -1. ],\n",
       "       [-1.6, -3.2, -1. ],\n",
       "       [-1.6, -3.1, -1. ],\n",
       "       [-1.5, -3.4, -1. ],\n",
       "       [-1.5, -4.1, -1. ],\n",
       "       [-1.4, -4.2, -1. ],\n",
       "       [-1.5, -3.1, -1. ],\n",
       "       [-1.2, -3.2, -1. ],\n",
       "       [-1.3, -3.5, -1. ],\n",
       "       [-1.5, -3.1, -1. ],\n",
       "       [-1.3, -3. , -1. ],\n",
       "       [-1.5, -3.4, -1. ],\n",
       "       [-1.3, -3.5, -1. ],\n",
       "       [-1.3, -2.3, -1. ],\n",
       "       [-1.3, -3.2, -1. ],\n",
       "       [-1.6, -3.5, -1. ],\n",
       "       [-1.9, -3.8, -1. ],\n",
       "       [-1.4, -3. , -1. ],\n",
       "       [-1.6, -3.8, -1. ],\n",
       "       [-1.4, -3.2, -1. ],\n",
       "       [-1.5, -3.7, -1. ],\n",
       "       [-1.4, -3.3, -1. ],\n",
       "       [ 6. ,  3.3,  1. ],\n",
       "       [ 5.1,  2.7,  1. ],\n",
       "       [ 5.9,  3. ,  1. ],\n",
       "       [ 5.6,  2.9,  1. ],\n",
       "       [ 5.8,  3. ,  1. ],\n",
       "       [ 6.6,  3. ,  1. ],\n",
       "       [ 4.5,  2.5,  1. ],\n",
       "       [ 6.3,  2.9,  1. ],\n",
       "       [ 5.8,  2.5,  1. ],\n",
       "       [ 6.1,  3.6,  1. ],\n",
       "       [ 5.1,  3.2,  1. ],\n",
       "       [ 5.3,  2.7,  1. ],\n",
       "       [ 5.5,  3. ,  1. ],\n",
       "       [ 5. ,  2.5,  1. ],\n",
       "       [ 5.1,  2.8,  1. ],\n",
       "       [ 5.3,  3.2,  1. ],\n",
       "       [ 5.5,  3. ,  1. ],\n",
       "       [ 6.7,  3.8,  1. ],\n",
       "       [ 6.9,  2.6,  1. ],\n",
       "       [ 5. ,  2.2,  1. ],\n",
       "       [ 5.7,  3.2,  1. ],\n",
       "       [ 4.9,  2.8,  1. ],\n",
       "       [ 6.7,  2.8,  1. ],\n",
       "       [ 4.9,  2.7,  1. ],\n",
       "       [ 5.7,  3.3,  1. ],\n",
       "       [ 6. ,  3.2,  1. ],\n",
       "       [ 4.8,  2.8,  1. ],\n",
       "       [ 4.9,  3. ,  1. ],\n",
       "       [ 5.6,  2.8,  1. ],\n",
       "       [ 5.8,  3. ,  1. ],\n",
       "       [ 6.1,  2.8,  1. ],\n",
       "       [ 6.4,  3.8,  1. ],\n",
       "       [ 5.6,  2.8,  1. ],\n",
       "       [ 5.1,  2.8,  1. ],\n",
       "       [ 5.6,  2.6,  1. ],\n",
       "       [ 6.1,  3. ,  1. ],\n",
       "       [ 5.6,  3.4,  1. ],\n",
       "       [ 5.5,  3.1,  1. ],\n",
       "       [ 4.8,  3. ,  1. ],\n",
       "       [ 5.4,  3.1,  1. ],\n",
       "       [ 5.6,  3.1,  1. ],\n",
       "       [ 5.1,  3.1,  1. ],\n",
       "       [ 5.1,  2.7,  1. ],\n",
       "       [ 5.9,  3.2,  1. ],\n",
       "       [ 5.7,  3.3,  1. ],\n",
       "       [ 5.2,  3. ,  1. ],\n",
       "       [ 5. ,  2.5,  1. ],\n",
       "       [ 5.2,  3. ,  1. ],\n",
       "       [ 5.4,  3.4,  1. ],\n",
       "       [ 5.1,  3. ,  1. ]])"
      ]
     },
     "execution_count": 15,
     "metadata": {},
     "output_type": "execute_result"
    }
   ],
   "source": [
    "# Initializing 'a'\n",
    "a = np.array([0,0,0])\n",
    "data = finaldataset.drop(columns=['w']).to_numpy()\n",
    "data"
   ]
  },
  {
   "cell_type": "code",
   "execution_count": 16,
   "metadata": {},
   "outputs": [
    {
     "name": "stdout",
     "output_type": "stream",
     "text": [
      "a :  [ 0.32 -0.37 -0.1 ]\n"
     ]
    }
   ],
   "source": [
    "\n",
    "# training\n",
    "\n",
    "epochs = 5000\n",
    "for e in range(epochs):\n",
    "    for i in range(data.shape[0]): \n",
    "        dot = np.dot(a.T,data[i])\n",
    "        if dot<=0:\n",
    "            a = a + (0.1 * data[i])\n",
    "            \n",
    "# epochs = 0\n",
    "# correct = 0\n",
    "# total = q3df.shape[0]\n",
    "# i = 0\n",
    "# while(1):\n",
    "#     epochs+=1\n",
    " \n",
    "#     dot = np.dot(a.T,data[i])\n",
    "#     if dot<=0:\n",
    "#         a = a + (1 * data[i])\n",
    "#         correct = 0\n",
    "#     else:\n",
    "#         correct+=1\n",
    "#     if total == correct:\n",
    "#         break\n",
    "#     i = (i+1) % data.shape[0]\n",
    "\n",
    "print(\"a : \",a)\n",
    "# print(\"epochs : \",)\n"
   ]
  },
  {
   "cell_type": "code",
   "execution_count": 18,
   "metadata": {},
   "outputs": [
    {
     "data": {
      "image/png": "[encoded data removed]",
      "text/plain": [
       "<Figure size 640x480 with 1 Axes>"
      ]
     },
     "metadata": {},
     "output_type": "display_data"
    }
   ],
   "source": [
    "\n",
    "# Plot the data points\n",
    "plt.scatter(plotdata['PetalLengthCm'],plotdata['SepalWidthCm'],c=plotdata['w'],cmap='bwr',label='DataPoints')\n",
    "\n",
    "# Define the line equation 4*x1 - 2*x2 + 2 = 0\n",
    "# Rearrange to x2 = (4/2)x1 + (2/2)\n",
    "x1_values = np.linspace(min(finaldataset['PetalLengthCm']), max(finaldataset['PetalLengthCm']), 100)\n",
    "x2_values = (a[0] / -a[1]) * x1_values + (a[2] / -a[1])\n",
    "\n",
    "# Plot the line\n",
    "plt.plot(x1_values, x2_values, color='red', label='function')\n",
    "\n",
    "# Add labels and legend\n",
    "plt.xlabel('Petal Length (cm)')\n",
    "plt.ylabel('Sepal Width (cm)')\n",
    "plt.legend()\n",
    "plt.title('Data Points and Decision Boundary')\n",
    "plt.xlabel('x1')\n",
    "plt.ylabel('x2')\n",
    "plt.legend()\n",
    "plt.title('Data Points and Decision Boundary')\n",
    "\n",
    "# Show the plot\n",
    "plt.show()"
   ]
  },
  {
   "cell_type": "code",
   "execution_count": null,
   "metadata": {},
   "outputs": [],
   "source": []
  }
 ],
 "metadata": {
  "kernelspec": {
   "display_name": "Python 3",
   "language": "python",
   "name": "python3"
  },
  "language_info": {
   "codemirror_mode": {
    "name": "ipython",
    "version": 3
   },
   "file_extension": ".py",
   "mimetype": "text/x-python",
   "name": "python",
   "nbconvert_exporter": "python",
   "pygments_lexer": "ipython3",
   "version": "3.11.9"
  }
 },
 "nbformat": 4,
 "nbformat_minor": 2
}
